{
 "cells": [
  {
   "cell_type": "markdown",
   "metadata": {},
   "source": [
    "Perceptron update rule with numpy\n",
    "--\n",
    "\n",
    "This notebook implements the perceptron update rule with all misclassified training instances used in one shot rather than one at a time.  "
   ]
  },
  {
   "cell_type": "code",
   "execution_count": 1,
   "metadata": {
    "collapsed": true
   },
   "outputs": [],
   "source": [
    "import numpy as np\n",
    "\n",
    "# This import is needed so that we can display full output in Jupyter, not only the last result.\n",
    "# Importing modules is explained later in this tutorial. \n",
    "# For the moment just execute this cell. \n",
    "\n",
    "from IPython.core.interactiveshell import InteractiveShell\n",
    "InteractiveShell.ast_node_interactivity = \"all\""
   ]
  },
  {
   "cell_type": "code",
   "execution_count": 2,
   "metadata": {},
   "outputs": [
    {
     "data": {
      "text/plain": [
       "(array([[3. , 0.2, 1. ],\n",
       "        [1. , 0.3, 1. ],\n",
       "        [4. , 0.5, 1. ],\n",
       "        [2. , 0.7, 1. ],\n",
       "        [0. , 1. , 1. ],\n",
       "        [1. , 1.2, 1. ],\n",
       "        [1. , 1.7, 1. ],\n",
       "        [6. , 0.2, 1. ],\n",
       "        [7. , 0.3, 1. ],\n",
       "        [6. , 0.7, 1. ],\n",
       "        [3. , 1.1, 1. ],\n",
       "        [2. , 1.5, 1. ],\n",
       "        [4. , 1.7, 1. ],\n",
       "        [2. , 1.9, 1. ]]), array([[-1],\n",
       "        [-1],\n",
       "        [-1],\n",
       "        [-1],\n",
       "        [-1],\n",
       "        [-1],\n",
       "        [-1],\n",
       "        [ 1],\n",
       "        [ 1],\n",
       "        [ 1],\n",
       "        [ 1],\n",
       "        [ 1],\n",
       "        [ 1],\n",
       "        [ 1]]))"
      ]
     },
     "execution_count": 2,
     "metadata": {},
     "output_type": "execute_result"
    }
   ],
   "source": [
    "X = np.array([\n",
    "[3,0.2,1],\n",
    "[1,0.3,1],\n",
    "[4,0.5,1],\n",
    "[2,0.7,1],\n",
    "[0,1.0,1],\n",
    "[1,1.2,1],\n",
    "[1,1.7,1],\n",
    "[6,0.2,1],\n",
    "[7,0.3,1],\n",
    "[6,0.7,1],\n",
    "[3,1.1,1],\n",
    "[2,1.5,1],\n",
    "[4,1.7,1],\n",
    "[2,1.9,1]\n",
    "])\n",
    "\n",
    "y = np.array([[-1,-1,-1,-1,-1,-1,-1,1,1,1,1,1,1,1,]])\n",
    "y=y.T\n",
    "\n",
    "X,y"
   ]
  },
  {
   "cell_type": "code",
   "execution_count": 3,
   "metadata": {
    "collapsed": true
   },
   "outputs": [],
   "source": [
    "w = np.array([[0.3,0.8,-2.2]])"
   ]
  },
  {
   "cell_type": "code",
   "execution_count": 4,
   "metadata": {},
   "outputs": [
    {
     "data": {
      "text/plain": [
       "array([[-1.14],\n",
       "       [-1.66],\n",
       "       [-0.6 ],\n",
       "       [-1.04],\n",
       "       [-1.4 ],\n",
       "       [-0.94],\n",
       "       [-0.54],\n",
       "       [-0.24],\n",
       "       [ 0.14],\n",
       "       [ 0.16],\n",
       "       [-0.42],\n",
       "       [-0.4 ],\n",
       "       [ 0.36],\n",
       "       [-0.08]])"
      ]
     },
     "execution_count": 4,
     "metadata": {},
     "output_type": "execute_result"
    },
    {
     "data": {
      "text/plain": [
       "array([[ 1.14],\n",
       "       [ 1.66],\n",
       "       [ 0.6 ],\n",
       "       [ 1.04],\n",
       "       [ 1.4 ],\n",
       "       [ 0.94],\n",
       "       [ 0.54],\n",
       "       [-0.24],\n",
       "       [ 0.14],\n",
       "       [ 0.16],\n",
       "       [-0.42],\n",
       "       [-0.4 ],\n",
       "       [ 0.36],\n",
       "       [-0.08]])"
      ]
     },
     "execution_count": 4,
     "metadata": {},
     "output_type": "execute_result"
    },
    {
     "data": {
      "text/plain": [
       "array([[False],\n",
       "       [False],\n",
       "       [False],\n",
       "       [False],\n",
       "       [False],\n",
       "       [False],\n",
       "       [False],\n",
       "       [ True],\n",
       "       [False],\n",
       "       [False],\n",
       "       [ True],\n",
       "       [ True],\n",
       "       [False],\n",
       "       [ True]])"
      ]
     },
     "execution_count": 4,
     "metadata": {},
     "output_type": "execute_result"
    },
    {
     "data": {
      "text/plain": [
       "array([False, False, False, False, False, False, False,  True, False,\n",
       "       False,  True,  True, False,  True])"
      ]
     },
     "execution_count": 4,
     "metadata": {},
     "output_type": "execute_result"
    },
    {
     "data": {
      "text/plain": [
       "array([[6. , 0.2, 1. ],\n",
       "       [3. , 1.1, 1. ],\n",
       "       [2. , 1.5, 1. ],\n",
       "       [2. , 1.9, 1. ]])"
      ]
     },
     "execution_count": 4,
     "metadata": {},
     "output_type": "execute_result"
    },
    {
     "data": {
      "text/plain": [
       "array([[1],\n",
       "       [1],\n",
       "       [1],\n",
       "       [1]])"
      ]
     },
     "execution_count": 4,
     "metadata": {},
     "output_type": "execute_result"
    },
    {
     "data": {
      "text/plain": [
       "array([[13. ,  4.7,  4. ]])"
      ]
     },
     "execution_count": 4,
     "metadata": {},
     "output_type": "execute_result"
    }
   ],
   "source": [
    "X@w.T\n",
    "y*X@w.T\n",
    "y*X@w.T<0\n",
    "(y*X@w.T<0).reshape(X.shape[0])\n",
    "XX = X[(y*X@w.T<0).reshape(X.shape[0]), :]\n",
    "yy = y[(y*X@w.T<0).reshape(X.shape[0]), :]\n",
    "XX\n",
    "yy\n",
    "Z = np.sum(yy*XX, axis=0, keepdims=True)\n",
    "Z"
   ]
  },
  {
   "cell_type": "code",
   "execution_count": 5,
   "metadata": {},
   "outputs": [
    {
     "data": {
      "text/plain": [
       "array([[ 0.43 ,  0.847, -2.16 ]])"
      ]
     },
     "execution_count": 5,
     "metadata": {},
     "output_type": "execute_result"
    }
   ],
   "source": [
    "eta =0.01\n",
    "w = w + eta*Z\n",
    "w\n",
    "\n",
    "# Now we need to put this in a loop and execute several times until there is not classification error."
   ]
  }
 ],
 "metadata": {
  "kernelspec": {
   "display_name": "Python 3",
   "language": "python",
   "name": "python3"
  },
  "language_info": {
   "codemirror_mode": {
    "name": "ipython",
    "version": 3
   },
   "file_extension": ".py",
   "mimetype": "text/x-python",
   "name": "python",
   "nbconvert_exporter": "python",
   "pygments_lexer": "ipython3",
   "version": "3.6.6"
  }
 },
 "nbformat": 4,
 "nbformat_minor": 2
}
