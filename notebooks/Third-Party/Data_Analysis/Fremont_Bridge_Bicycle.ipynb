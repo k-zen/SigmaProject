{
 "cells": [
  {
   "cell_type": "markdown",
   "metadata": {},
   "source": [
    "# Visualizing Seattle Bicycle Counts Hourly Data Set\n",
    "## Chapter 3: Data Manipulation with Pandas\n",
    "### Python Data Science / Page 202\n",
    "\n",
    "**Note:** Excelent way of doing data mining in Jupyter. In this notebook I demonstraded how to mine data for patterns and how to visualise those patterns using Jupyter and Pandas.\n",
    "\n",
    "**Links:**\n",
    "1. __[Is Seattle Really Seeing an Uptick In Cycling?](https://jakevdp.github.io/blog/2014/06/10/is-seattle-really-seeing-an-uptick-in-cycling/)__\n",
    "1. __[A statistical analysis of biking on the Fremont Bridge, Part 1: Overview](https://www.seattlebikeblog.com/2014/06/09/a-statistical-analysis-of-biking-on-the-fremont-bridge-part-1-overview/)__\n",
    "1. __[A statistical analysis of biking on the Fremont Bridge, Part 2: Rain](https://www.seattlebikeblog.com/2014/06/10/a-statistical-analysis-of-biking-on-the-fremont-bridge-part-2-rain/)__\n",
    "1. __[A statistical analysis of biking on the Fremont Bridge, Part 3: Bike Month](https://www.seattlebikeblog.com/2014/06/11/a-statistical-analysis-of-biking-on-the-fremont-bridge-part-3-bike-month/)__\n",
    "1. __[A statistical analysis of biking on the Fremont Bridge, Part 4: Are more people biking?](https://www.seattlebikeblog.com/2014/06/12/a-statistical-analysis-of-biking-on-the-fremont-bridge-part-4-are-more-people-biking/)__\n",
    "1. __[City Showdown: How do Cambridge Cyclers Compare to Seattle Cyclers?](http://nbviewer.jupyter.org/gist/lindabli/ee7aed9d875a698526fd)__\n",
    "\n",
    "**TODO:**\n",
    "1. Add support for other variables like weather and temperature. See first link."
   ]
  },
  {
   "cell_type": "code",
   "execution_count": null,
   "metadata": {},
   "outputs": [],
   "source": [
    "import matplotlib.pyplot as plt\n",
    "import matplotlib as mpl\n",
    "import pandas as pd\n",
    "import seaborn; seaborn.set()\n",
    "import numpy as np\n",
    "\n",
    "%matplotlib inline"
   ]
  },
  {
   "cell_type": "markdown",
   "metadata": {},
   "source": [
    "## Visualise the data:"
   ]
  },
  {
   "cell_type": "code",
   "execution_count": null,
   "metadata": {},
   "outputs": [],
   "source": [
    "data_set_home = %env DATA_SETS_HOME\n",
    "date_format_daily = \"%m/%d/%Y\"\n",
    "date_format_hourly = \"%m/%d/%Y %I:%M:%S %p\"\n",
    "dateparse = lambda x: pd.datetime.strptime(x, date_format_hourly)\n",
    "\n",
    "data = pd.read_csv(\n",
    "    \"{0}/Miscellaneous/Fremont_Bridge_Hourly_Bicycle_Counts.csv\".format(data_set_home),\n",
    "    index_col=[0],\n",
    "    parse_dates=True,\n",
    "    date_parser=dateparse\n",
    ")\n",
    "data.sort_index(inplace=True)\n",
    "data.head()"
   ]
  },
  {
   "cell_type": "markdown",
   "metadata": {},
   "source": [
    "## Change the name of columns and add total column:"
   ]
  },
  {
   "cell_type": "code",
   "execution_count": null,
   "metadata": {},
   "outputs": [],
   "source": [
    "data.columns = [\"West\", \"East\"]\n",
    "data[\"Total\"] = data.eval(\"West + East\")\n",
    "data.head()"
   ]
  },
  {
   "cell_type": "markdown",
   "metadata": {},
   "source": [
    "## Describe the data:"
   ]
  },
  {
   "cell_type": "code",
   "execution_count": null,
   "metadata": {},
   "outputs": [],
   "source": [
    "data.dropna().describe()"
   ]
  },
  {
   "cell_type": "markdown",
   "metadata": {},
   "source": [
    "## Plot the total data:"
   ]
  },
  {
   "cell_type": "code",
   "execution_count": null,
   "metadata": {},
   "outputs": [],
   "source": [
    "data.plot()\n",
    "plt.ylabel(\"Hourly Bicycle Count\")"
   ]
  },
  {
   "cell_type": "markdown",
   "metadata": {},
   "source": [
    "## Plot a subset of the data:"
   ]
  },
  {
   "cell_type": "code",
   "execution_count": null,
   "metadata": {},
   "outputs": [],
   "source": [
    "data[\"2017\":\"2018\"].plot()\n",
    "plt.ylabel(\"Hourly Bicycle Count\")"
   ]
  },
  {
   "cell_type": "markdown",
   "metadata": {},
   "source": [
    "## Resample by day:"
   ]
  },
  {
   "cell_type": "code",
   "execution_count": null,
   "metadata": {},
   "outputs": [],
   "source": [
    "daily = data[\"2017\":\"2018\"].resample(\"D\").sum()\n",
    "daily.plot(style=[\":\", \"--\", \"-\"])\n",
    "plt.ylabel(\"Daily Bicycle Count\")"
   ]
  },
  {
   "cell_type": "markdown",
   "metadata": {},
   "source": [
    "## Resample and group the data by month:\n",
    "\n",
    "The following will resample the data set summing all days into months, like:\n",
    "\n",
    "```\n",
    "2012/01/31 | 2000 # Uses the last day of the month as day.\n",
    "2012/02/28 | 2400 # Uses the last day of the month as day.\n",
    "...\n",
    "```\n",
    "\n",
    "After which the resulting data can be grouped by month over all years in the data set and averaged.\n",
    "\n",
    "**Observation:** What we can see here is a pattern, where summer months are when cyclists are crossing more times the bridge. Likely because the weather is much better for a bike ride."
   ]
  },
  {
   "cell_type": "code",
   "execution_count": null,
   "metadata": {
    "scrolled": true
   },
   "outputs": [],
   "source": [
    "segment = data[\"2013\":\"2017\"].resample(\"M\").sum()\n",
    "monthly = segment.groupby(segment.index.month).mean()\n",
    "monthly.plot(style=[\":\", \"--\", \"-\"])\n",
    "plt.ylabel(\"Monthly Bicycle Mean\")"
   ]
  },
  {
   "cell_type": "markdown",
   "metadata": {},
   "source": [
    "## Resample by day and compute a 30-day window rolling mean:"
   ]
  },
  {
   "cell_type": "code",
   "execution_count": null,
   "metadata": {},
   "outputs": [],
   "source": [
    "daily = data.resample(\"D\").sum()\n",
    "daily.rolling(30, center=True).mean().plot(style=[\":\", \"--\", \"-\"])\n",
    "plt.ylabel(\"Mean Daily Count\")"
   ]
  },
  {
   "cell_type": "markdown",
   "metadata": {},
   "source": [
    "## Compute a Gaussian rolling window:"
   ]
  },
  {
   "cell_type": "code",
   "execution_count": null,
   "metadata": {},
   "outputs": [],
   "source": [
    "daily.rolling(30, center=True, win_type=\"gaussian\").mean(std=10).plot(style=[\":\", \"--\", \"-\"])\n",
    "plt.ylabel(\"Mean Daily Count\")"
   ]
  },
  {
   "cell_type": "markdown",
   "metadata": {},
   "source": [
    "## Resample and group the data by hour:\n",
    "\n",
    "In this case there is no need to resample the data set, because each entry is already separated by hour of the day.\n",
    "\n",
    "The result of the grouping will be averaged and plotted."
   ]
  },
  {
   "cell_type": "code",
   "execution_count": null,
   "metadata": {},
   "outputs": [],
   "source": [
    "by_time = data.groupby(data.index.time).mean()\n",
    "by_time.head()"
   ]
  },
  {
   "cell_type": "markdown",
   "metadata": {},
   "source": [
    "### Plot the data set grouped by hour:\n",
    "\n",
    "Each tick will mark a 3 hour time frame.\n",
    "\n",
    "**Observation:** Also we can see here that bike activity is higher from **06:00-09:00** and **15:00-18:00**. Which probably means commuting using the bike."
   ]
  },
  {
   "cell_type": "code",
   "execution_count": null,
   "metadata": {},
   "outputs": [],
   "source": [
    "hourly_ticks = (3 * 60 * 60) * np.arange(8)\n",
    "by_time.plot(xticks=hourly_ticks, style=[\":\", \"--\", \"-\"])\n",
    "plt.ylabel(\"Hourly Bicycle Mean\")"
   ]
  },
  {
   "cell_type": "markdown",
   "metadata": {},
   "source": [
    "## Resample and group the data by week day:\n",
    "\n",
    "The following will resample the data set summing all hours into days, like:\n",
    "\n",
    "```\n",
    "2012/01/01 | 200\n",
    "2012/01/02 | 240\n",
    "...\n",
    "```\n",
    "\n",
    "After which the resulting data can be grouped by week day over all months and years in the data set and averaged.\n",
    "\n",
    "**Observation:** What we can see here is the same pattern as before with commuting activity. During business days the activity is higher, leading to a drop at weekends."
   ]
  },
  {
   "cell_type": "code",
   "execution_count": null,
   "metadata": {},
   "outputs": [],
   "source": [
    "segment = data[\"2013\":\"2017\"].resample(\"D\").sum()\n",
    "weekday = segment.groupby(segment.index.dayofweek).mean()\n",
    "weekday.plot(style=[\":\", \"--\", \"-\"])\n",
    "plt.ylabel(\"Week Day Bicycle Mean\")"
   ]
  },
  {
   "cell_type": "markdown",
   "metadata": {},
   "source": [
    "## Look for hourly patterns by doing a compound grouping Weekday vs Weekend:\n",
    "\n",
    "**Observation:** An interesting pattern emerges here, where as we have seen before, during week days the higher counts corresponds to start and end of business days, which implies commuting using bikes, but in this case, we can also seen that during weekends the higher counts are seen after lunch, in the afternoon, between **12:00-18:00**, which implies biking as a leisure. **Bimodal** pattern during week days and **unimodal** pattern during week ends."
   ]
  },
  {
   "cell_type": "code",
   "execution_count": null,
   "metadata": {},
   "outputs": [],
   "source": [
    "segment = data[\"2013\":\"2017\"]\n",
    "# first create a numpy array out of the days in the index. i.e. iterate each\n",
    "# entry in the index and if it's less than 5 then it means it's a week day else\n",
    "# it's a weekend day.\n",
    "# the resulting array will contain only two values: Weekday or Weekend\n",
    "weekend = np.where(segment.index.weekday < 5, \"Weekday\", \"Weekend\") # returns ndarray\n",
    "compound = segment.groupby([weekend, segment.index.time]).mean() # segment.index.time is ndarray as well\n",
    "# plot\n",
    "fig, ax = plt.subplots(1, 2, figsize=(14, 5))\n",
    "compound.loc[\"Weekday\"].plot(\n",
    "    ax=ax[0], \n",
    "    title=\"Weekdays\", \n",
    "    xticks=hourly_ticks, \n",
    "    style=[\":\", \"--\", \"-\"]\n",
    ")\n",
    "compound.loc[\"Weekend\"].plot(\n",
    "    ax=ax[1], \n",
    "    title=\"Weekends\", \n",
    "    xticks=hourly_ticks, \n",
    "    style=[\":\", \"--\", \"-\"]\n",
    ")\n",
    "plt.ylabel(\"Hourly Bicycle Mean\")\n",
    "\n",
    "# debug\n",
    "# print(segment.index.time.shape)\n",
    "# print(weekend.shape)\n",
    "# compound.head(40)"
   ]
  }
 ],
 "metadata": {
  "kernelspec": {
   "display_name": "Python 3",
   "language": "python",
   "name": "python3"
  },
  "language_info": {
   "codemirror_mode": {
    "name": "ipython",
    "version": 3
   },
   "file_extension": ".py",
   "mimetype": "text/x-python",
   "name": "python",
   "nbconvert_exporter": "python",
   "pygments_lexer": "ipython3",
   "version": "3.6.6"
  }
 },
 "nbformat": 4,
 "nbformat_minor": 4
}
