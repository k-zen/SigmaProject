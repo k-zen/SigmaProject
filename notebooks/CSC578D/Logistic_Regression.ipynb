{
 "cells": [
  {
   "cell_type": "markdown",
   "metadata": {},
   "source": [
    "# Logistic Regression Classifier / CSC 578D / Fall 2018\n",
    "\n",
    "### Notes:\n",
    "1. Dataset can be found __[here](http://www.apkc.net/data)__.\n",
    "1. See notes by hand __[here](http://www.apkc.net/_10)__.\n",
    "\n",
    "**Author:** Andreas P. Koenzen <akoenzen@uvic.ca>\n",
    "<br>\n",
    "**Version:** 0.1"
   ]
  },
  {
   "cell_type": "code",
   "execution_count": null,
   "metadata": {},
   "outputs": [],
   "source": [
    "import pandas as pd\n",
    "import numpy as np\n",
    "import matplotlib.pyplot as plt\n",
    "\n",
    "from IPython.core.interactiveshell import InteractiveShell\n",
    "InteractiveShell.ast_node_interactivity = \"all\""
   ]
  },
  {
   "cell_type": "markdown",
   "metadata": {},
   "source": [
    "### Bankruptcy example: (Same as Perceptron algorithm)\n",
    "- L = is the number of late payments on credit cards over the past year.\n",
    "- R = is the ratio of earnings to expenses (earnings : expenses).\n",
    "- Bankrupt = **-1 is NO / 1 is YES**."
   ]
  },
  {
   "cell_type": "code",
   "execution_count": null,
   "metadata": {},
   "outputs": [],
   "source": [
    "data = pd.read_csv(\"http://www.apkc.net/data/csc_578d/perceptron_1.csv\")\n",
    "data"
   ]
  },
  {
   "cell_type": "markdown",
   "metadata": {},
   "source": [
    "### Plot the data:"
   ]
  },
  {
   "cell_type": "code",
   "execution_count": null,
   "metadata": {},
   "outputs": [],
   "source": [
    "fig, ax = plt.subplots()\n",
    "data.plot.scatter(x=1, y=0, c=2, colormap='jet', ax=ax)\n",
    "ax.set(xlabel='R', ylabel='L')\n",
    "plt.show()"
   ]
  },
  {
   "cell_type": "markdown",
   "metadata": {},
   "source": [
    "### Compute the weights of the line:\n",
    "\n",
    "Do N iterations and test the classifier."
   ]
  },
  {
   "cell_type": "code",
   "execution_count": null,
   "metadata": {},
   "outputs": [],
   "source": [
    "iterations = 10000\n",
    "kappa = 0.1\n",
    "\n",
    "# initialize vector w to all 1.0\n",
    "w = np.array([[1.0, 1.0, 1.0]])\n",
    "\n",
    "for k in range(iterations):\n",
    "    # create vector x: should be feature #2, feature #1, y-intercept or feature #0\n",
    "    # 1. add the feature #0 to the X vector\n",
    "    w0 = np.ones((len(data.index), 1), dtype=float)\n",
    "    x = np.hstack([data.values[:,:2], w0])\n",
    "        \n",
    "    # 2. create the y vector\n",
    "    y = np.array(data.values[:, 2:])\n",
    "\n",
    "    # debug: compute aproximations\n",
    "    p = 1 / (1 + np.exp(-y * (x @ w.T)))\n",
    "    # p\n",
    "    \n",
    "    # debug: compute errors\n",
    "    error = np.log(1 + np.exp(-y * (x @ w.T)))\n",
    "    # error\n",
    "    error_sum = (1 / len(x)) * np.sum(np.log(1 + np.exp(-y * (x @ w.T))), axis=0, keepdims=True)\n",
    "    if k + 1 == iterations:\n",
    "        error_sum\n",
    "            \n",
    "    # 5. update weights\n",
    "    z = (-1 / len(x)) * np.sum((y * x) / (1 + np.exp(y * (x @ w.T))), axis=0, keepdims=True)\n",
    "    w = w - (kappa * z)\n",
    "    \n",
    "w"
   ]
  },
  {
   "cell_type": "markdown",
   "metadata": {},
   "source": [
    "### Plot the line:"
   ]
  },
  {
   "cell_type": "code",
   "execution_count": null,
   "metadata": {},
   "outputs": [],
   "source": [
    "fig, ax = plt.subplots()\n",
    "\n",
    "# draw the scatter plot\n",
    "data.plot.scatter(x=1, y=0, c=2, colormap='jet', ax=ax)\n",
    "ax.set(xlabel='R', ylabel='L')\n",
    "\n",
    "# draw the line\n",
    "w2 = np.asscalar(w[0][0])\n",
    "w1 = np.asscalar(w[0][1])\n",
    "w0 = np.asscalar(w[0][2])\n",
    "\n",
    "plt.plot(\n",
    "    np.linspace(0.0, 2.0, num=10),\n",
    "    [((-(w1 * k) - (w0)) / w2) for k in np.linspace(0.0, 2.0, num=10)],\n",
    "    c= \"red\"\n",
    ")\n",
    "\n",
    "plt.show()"
   ]
  }
 ],
 "metadata": {
  "kernelspec": {
   "display_name": "Python 3",
   "language": "python",
   "name": "python3"
  },
  "language_info": {
   "codemirror_mode": {
    "name": "ipython",
    "version": 3
   },
   "file_extension": ".py",
   "mimetype": "text/x-python",
   "name": "python",
   "nbconvert_exporter": "python",
   "pygments_lexer": "ipython3",
   "version": "3.6.6"
  }
 },
 "nbformat": 4,
 "nbformat_minor": 2
}
