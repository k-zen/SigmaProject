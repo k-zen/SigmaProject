{
 "cells": [
  {
   "cell_type": "markdown",
   "metadata": {},
   "source": [
    "# Gradient Descent Algorithm / CSC 578D / Fall 2018\n",
    "\n",
    "### Notes:\n",
    "1. Dataset can be found __[here](http://www.apkc.net/data)__.\n",
    "1. See notes by hand __[here](http://www.apkc.net)__.\n",
    "\n",
    "**Author:** Andreas P. Koenzen <akoenzen@uvic.ca>\n",
    "<br>\n",
    "**Version:** 0.1"
   ]
  },
  {
   "cell_type": "code",
   "execution_count": null,
   "metadata": {},
   "outputs": [],
   "source": [
    "import pandas as pd\n",
    "import numpy as np\n",
    "import matplotlib.pyplot as plt\n",
    "\n",
    "from IPython.core.interactiveshell import InteractiveShell\n",
    "InteractiveShell.ast_node_interactivity = \"all\""
   ]
  },
  {
   "cell_type": "markdown",
   "metadata": {},
   "source": [
    "### Bankruptcy example:\n",
    "- L = is the number of late payments on credit cards over the past year.\n",
    "- R = is the ratio of earnings to expenses (earnings : expenses).\n",
    "- Bankrupt = **-1 is NO / 1 is YES**."
   ]
  },
  {
   "cell_type": "code",
   "execution_count": null,
   "metadata": {},
   "outputs": [],
   "source": [
    "data = pd.read_csv(\"http://www.apkc.net/data/csc_578d/perceptron_1.csv\")\n",
    "data"
   ]
  },
  {
   "cell_type": "markdown",
   "metadata": {},
   "source": [
    "### Plot the data:"
   ]
  },
  {
   "cell_type": "code",
   "execution_count": null,
   "metadata": {},
   "outputs": [],
   "source": [
    "fig, ax = plt.subplots()\n",
    "data.plot.scatter(x=1, y=0, c=2, colormap='jet', ax=ax)\n",
    "ax.set(xlabel='R', ylabel='L')\n",
    "plt.show()"
   ]
  },
  {
   "cell_type": "markdown",
   "metadata": {},
   "source": [
    "### Compute the weights of the line:\n",
    "\n",
    "Do N iterations and test the classifier."
   ]
  },
  {
   "cell_type": "code",
   "execution_count": null,
   "metadata": {},
   "outputs": [],
   "source": [
    "iterations = 500\n",
    "\n",
    "# initialize vector w to all 1.0\n",
    "# w = np.array([[1.0, 1.0, 1.0]])\n",
    "w = np.array([[1.0, 1.0, 1.0]])\n",
    "# w\n",
    "\n",
    "for k in range(iterations):\n",
    "    # create vector x: should be feature #2, feature #1, y-intercept or feature #0\n",
    "    # 1. add the feature #0 to the X vector\n",
    "    w0 = np.ones((len(data.index), 1), dtype=float)\n",
    "    x = np.hstack([data.values[:,:2], w0])\n",
    "    if k + 1 == iterations:\n",
    "        x\n",
    "\n",
    "    # 2. create the y vector. the class vector and compute its transpose\n",
    "    y = np.array([[-1, -1, -1, -1, -1, -1, -1, 1, 1, 1, 1, 1, 1, 1]])\n",
    "    y = y.T\n",
    "    if k + 1 == iterations:\n",
    "        y\n",
    "\n",
    "    # 4. compute the dot product of x.w\n",
    "    # x @ w.T\n",
    "\n",
    "    # 5. multiply by y\n",
    "    # y * (x @ w.T)\n",
    "\n",
    "    # 6. nudge vector w\n",
    "    # select instances that evaluate to True (Wrongly classified) and add them to a new array.\n",
    "    # the line: ((y * (x @ w.T)) < 0).reshape(x.shape[0]) creates a 1D array of boolean values\n",
    "    # which is used as row evaluation subscript in x. only rows that evaluate to TRUE will\n",
    "    # be added to the xx array.\n",
    "    xx = x[((y * (x @ w.T)) < 0).reshape(x.shape[0]), :]\n",
    "    yy = y[((y * (x @ w.T)) < 0).reshape(x.shape[0]), :]\n",
    "    # debug\n",
    "    if k + 1 == iterations:\n",
    "        ((y * (x @ w.T)) < 0)\n",
    "        xx\n",
    "        yy\n",
    "        \n",
    "    z = np.sum(yy * xx, axis=0, keepdims=True)\n",
    "    if k + 1 == iterations:\n",
    "        z\n",
    "    \n",
    "    if k + 1 == iterations:\n",
    "        nyx = ((yy * xx) * 0.01)\n",
    "        nyx\n",
    "    \n",
    "    w = w + (z * 0.01)\n",
    "    if k + 1 == iterations:\n",
    "        w\n",
    "    \n",
    "w"
   ]
  },
  {
   "cell_type": "markdown",
   "metadata": {},
   "source": [
    "### Plot the line:"
   ]
  },
  {
   "cell_type": "code",
   "execution_count": null,
   "metadata": {},
   "outputs": [],
   "source": [
    "fig, ax = plt.subplots()\n",
    "\n",
    "# draw the scatter plot\n",
    "data.plot.scatter(x=1, y=0, c=2, colormap='jet', ax=ax)\n",
    "ax.set(xlabel='R', ylabel='L')\n",
    "\n",
    "# draw the line\n",
    "plt.plot(\n",
    "    [(-(0.09*k) - (-0.51)) / 0.221 for k in range(7)],\n",
    "    range(7), \n",
    "    c= \"red\"\n",
    ")\n",
    "\n",
    "plt.show()"
   ]
  }
 ],
 "metadata": {
  "kernelspec": {
   "display_name": "Python 3",
   "language": "python",
   "name": "python3"
  },
  "language_info": {
   "codemirror_mode": {
    "name": "ipython",
    "version": 3
   },
   "file_extension": ".py",
   "mimetype": "text/x-python",
   "name": "python",
   "nbconvert_exporter": "python",
   "pygments_lexer": "ipython3",
   "version": "3.6.6"
  }
 },
 "nbformat": 4,
 "nbformat_minor": 2
}
