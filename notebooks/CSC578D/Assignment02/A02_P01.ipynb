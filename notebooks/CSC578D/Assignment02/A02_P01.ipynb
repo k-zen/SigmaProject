{
 "cells": [
  {
   "cell_type": "markdown",
   "metadata": {},
   "source": [
    "# CSC 578D / Data Mining / Fall 2018 / University of Victoria\n",
    "# Python Notebook explaining Assignment 02 / Problem 01\n",
    "\n",
    "**Author:** Andreas P. Koenzen (akoenzen => uvic.ca)\n",
    "<br>\n",
    "**Version:** 0.1"
   ]
  },
  {
   "cell_type": "code",
   "execution_count": null,
   "metadata": {},
   "outputs": [],
   "source": [
    "import pandas as pd\n",
    "import numpy as np\n",
    "import matplotlib.pyplot as plt\n",
    "\n",
    "from IPython.core.interactiveshell import InteractiveShell\n",
    "InteractiveShell.ast_node_interactivity = \"all\"\n",
    "\n",
    "from IPython.core.display import display, HTML\n",
    "HTML('<style>table {float:left} table th,td {font-size:100%}</style>')"
   ]
  },
  {
   "cell_type": "code",
   "execution_count": null,
   "metadata": {},
   "outputs": [],
   "source": [
    "data = pd.DataFrame(data={\n",
    "    'GPA': [1, 0.9, 0.9, 0.7, 0.6],\n",
    "    'GRE': [1, 1, 0.875, 0.75, 0.875],\n",
    "    'Dummy': [1, 1, 1, 1, 1],\n",
    "    'y': [1, 1, 1, -1, -1]\n",
    "})\n",
    "data"
   ]
  },
  {
   "cell_type": "markdown",
   "metadata": {},
   "source": [
    "## Plot the data:"
   ]
  },
  {
   "cell_type": "code",
   "execution_count": null,
   "metadata": {},
   "outputs": [],
   "source": [
    "_, ax = plt.subplots()\n",
    "ax.set(xlabel='GRE', ylabel='GPA')\n",
    "data.plot.scatter(x=1, \n",
    "                  y=0, \n",
    "                  c=3, \n",
    "                  colormap='jet', \n",
    "                  ax=ax)\n",
    "plt.title('GPA vs. GRE Plot')\n",
    "plt.show();"
   ]
  },
  {
   "cell_type": "markdown",
   "metadata": {},
   "source": [
    "## Solution to Problem #1 of Assignment #2:\n",
    "### (4 points) Logistic Regression (by hand):\n",
    "Suppose we have the following normalized dataset:\n",
    "\n",
    "$\n",
    "\\begin{array}{lllr}\n",
    "GPA  &GRE   &Dummy  &y  \\\\ \\hline\n",
    "1    &1     &1      &1  \\\\\n",
    "0.9  &1\t    &1\t    &1  \\\\\n",
    "0.9\t &0.875\t&1\t    &1  \\\\\n",
    "0.7\t &0.75\t&1\t    &-1 \\\\\n",
    "0.6\t &0.875\t&1\t    &-1 \\\\\n",
    "\\end{array}\n",
    "$\n",
    "\t\t\t\n",
    "and want to construct a Logistic Regression classifier using Gradient Descent for Maximum Likelihood. If we start with an all zero weight vector, what will the weight vector be after the first iteration? (Consider kappa=2)\n",
    "Show the details of your calculations. This is a pencil and paper exercise. See the posted Excel spreadsheet for an example.\n",
    "\n",
    "#### Notes:\n",
    "- 3 significant digits are used for this exercise.\n",
    "- Results are rounded up if 3rd decimal digit is >= 5.\n",
    "- Since the probability threshold is not specified, I will use $P\\left(y \\mid \\vec{x}\\right) > 0.5$."
   ]
  },
  {
   "cell_type": "markdown",
   "metadata": {},
   "source": [
    "## Initial Values:\n",
    "\n",
    "- The value of Kappa (Rate of descent) is: $\\kappa = 2$\n",
    "- The initial weight vector is: \n",
    "$\n",
    "\\vec{w} = \n",
    "\\left[\n",
    "    \\begin{array}{c}\n",
    "    0.0^{(x_2)} & 0.0^{(x_1)} & 0.0^{(x_0)}\n",
    "    \\end{array}\n",
    "\\right]\n",
    "$"
   ]
  },
  {
   "cell_type": "markdown",
   "metadata": {},
   "source": [
    "## Iteration 1:"
   ]
  },
  {
   "cell_type": "markdown",
   "metadata": {},
   "source": [
    "### i = 0\n",
    "\n",
    "$\\frac{y_i \\vec{x_i}^{\\,2}}{1 + e^{y_i\\vec{w}^{\\,T}\\vec{x}}}$ = (1 x 1) / (1 + exp(1 x \\[(0 x 1) + (0 x 1) + (0 x 1)\\]) = **0.5**\n",
    "\n",
    "$\\frac{y_i \\vec{x_i}^{\\,1}}{1 + e^{y_i\\vec{w}^{\\,T}\\vec{x}}}$ = (1 x 1) / (1 + exp(1 x \\[(0 x 1) + (0 x 1) + (0 x 1)\\]) = **0.5**\n",
    "\n",
    "$\\frac{y_i \\vec{x_i}^{\\,0}}{1 + e^{y_i\\vec{w}^{\\,T}\\vec{x}}}$ = (1 x 1) / (1 + exp(1 x \\[(0 x 1) + (0 x 1) + (0 x 1)\\]) = **0.5**\n",
    "\n",
    "$E(\\vec{w})$ = ln(1 + exp(-1 x \\[(0 x 1) + (0 x 1) + (0 x 1)\\]) = **0.69**\n",
    "\n",
    "$P\\left(y=1 \\mid \\vec{x}\\right)$ = 1 / (1 + exp(-1 x \\[(0 x 1) + (0 x 1) + (0 x 1)\\]) = **0.5**"
   ]
  },
  {
   "cell_type": "markdown",
   "metadata": {},
   "source": [
    "### i = 1\n",
    "\n",
    "$\\frac{y_i \\vec{x_i}^{\\,2}}{1 + e^{y_i\\vec{w}^{\\,T}\\vec{x}}}$ = (1 x 0.9) / (1 + exp(1 x \\[(0 x 0.9) + (0 x 1) + (0 x 1)\\]) = **0.45**\n",
    "\n",
    "$\\frac{y_i \\vec{x_i}^{\\,1}}{1 + e^{y_i\\vec{w}^{\\,T}\\vec{x}}}$ = (1 x 1) / (1 + exp(1 x \\[(0 x 0.9) + (0 x 1) + (0 x 1)\\]) = **0.5**\n",
    "\n",
    "$\\frac{y_i \\vec{x_i}^{\\,0}}{1 + e^{y_i\\vec{w}^{\\,T}\\vec{x}}}$ = (1 x 1) / (1 + exp(1 x \\[(0 x 0.9) + (0 x 1) + (0 x 1)\\]) = **0.5**\n",
    "\n",
    "$E(\\vec{w})$ = ln(1 + exp(-1 x \\[(0 x 0.9) + (0 x 1) + (0 x 1)\\]) = **0.69**\n",
    "\n",
    "$P(y=1 \\mid \\vec{x})$ = 1 / (1 + exp(-1 x \\[(0 x 0.9) + (0 x 1) + (0 x 1)\\]) = **0.5**"
   ]
  },
  {
   "cell_type": "markdown",
   "metadata": {},
   "source": [
    "### i = 2\n",
    "\n",
    "$\\frac{y_i \\vec{x_i}^{\\,2}}{1 + e^{y_i\\vec{w}^{\\,T}\\vec{x}}}$ = (1 x 0.9) / (1 + exp(1 x \\[(0 x 0.9) + (0 x 0.875) + (0 x 1)\\]) = **0.45**\n",
    "\n",
    "$\\frac{y_i \\vec{x_i}^{\\,1}}{1 + e^{y_i\\vec{w}^{\\,T}\\vec{x}}}$ = (1 x 0.875) / (1 + exp(1 x \\[(0 x 0.9) + (0 x 0.875) + (0 x 1)\\]) = **0.44**\n",
    "\n",
    "$\\frac{y_i \\vec{x_i}^{\\,0}}{1 + e^{y_i\\vec{w}^{\\,T}\\vec{x}}}$ = (1 x 1) / (1 + exp(1 x \\[(0 x 0.9) + (0 x 0.875) + (0 x 1)\\]) = **0.5**\n",
    "\n",
    "$E(\\vec{w})$ = ln(1 + exp(-1 x \\[(0 x 0.9) + (0 x 0.875) + (0 x 1)\\]) = **0.69**\n",
    "\n",
    "$P(y=1 \\mid \\vec{x})$ = 1 / (1 + exp(-1 x \\[(0 x 0.9) + (0 x 0.875) + (0 x 1)\\]) = **0.5**"
   ]
  },
  {
   "cell_type": "markdown",
   "metadata": {},
   "source": [
    "### i = 3\n",
    "\n",
    "$\\frac{y_i \\vec{x_i}^{\\,2}}{1 + e^{y_i\\vec{w}^{\\,T}\\vec{x}}}$ = (-1 x 0.7) / (1 + exp(-1 x \\[(0 x 0.7) + (0 x 0.75) + (0 x 1)\\]) = **-0.35**\n",
    "\n",
    "$\\frac{y_i \\vec{x_i}^{\\,1}}{1 + e^{y_i\\vec{w}^{\\,T}\\vec{x}}}$ = (-1 x 0.75) / (1 + exp(-1 x \\[(0 x 0.7) + (0 x 0.75) + (0 x 1)\\]) = **-0.38**\n",
    "\n",
    "$\\frac{y_i \\vec{x_i}^{\\,0}}{1 + e^{y_i\\vec{w}^{\\,T}\\vec{x}}}$ = (-1 x 1) / (1 + exp(-1 x \\[(0 x 0.7) + (0 x 0.75) + (0 x 1)\\]) = **-0.5**\n",
    "\n",
    "$E(\\vec{w})$ = ln(1 + exp(1 x \\[(1 x 0.7) + (1 x 0.75) + (1 x 1)\\]) = **0.69**\n",
    "\n",
    "$P(y=-1 \\mid \\vec{x})$ = 1 / (1 + exp(1 x \\[(0 x 0.7) + (0 x 0.75) + (0 x 1)\\]) = **0.5**"
   ]
  },
  {
   "cell_type": "markdown",
   "metadata": {},
   "source": [
    "### i = 4\n",
    "\n",
    "$\\frac{y_i \\vec{x_i}^{\\,2}}{1 + e^{y_i\\vec{w}^{\\,T}\\vec{x}}}$ = (-1 x 0.6) / (1 + exp(-1 x \\[(0 x 0.6) + (0 x 0.875) + (0 x 1)\\]) = **-0.3**\n",
    "\n",
    "$\\frac{y_i \\vec{x_i}^{\\,1}}{1 + e^{y_i\\vec{w}^{\\,T}\\vec{x}}}$ = (-1 x 0.875) / (1 + exp(-1 x \\[(0 x 0.6) + (0 x 0.875) + (0 x 1)\\]) = **-0.44**\n",
    "\n",
    "$\\frac{y_i \\vec{x_i}^{\\,0}}{1 + e^{y_i\\vec{w}^{\\,T}\\vec{x}}}$ = (-1 x 1) / (1 + exp(-1 x \\[(0 x 0.6) + (0 x 0.875) + (0 x 1)\\]) = **-0.5**\n",
    "\n",
    "$E(\\vec{w})$ = ln(1 + exp(1 x \\[(0 x 0.6) + (0 x 0.875) + (0 x 1)\\]) = **0.69**\n",
    "\n",
    "$P(y=-1 \\mid \\vec{x})$ = 1 / (1 + exp(1 x \\[(0 x 0.6) + (0 x 0.875) + (0 x 1)\\]) = **0.5**"
   ]
  },
  {
   "cell_type": "markdown",
   "metadata": {},
   "source": [
    "### Computation table:\n",
    "\n",
    "| i | GPA | GRE | Dummy | y | $\\frac{y_i \\vec{x_i}^{\\,2}}{1 + e^{y_i\\vec{w}^{\\,T}\\vec{x_i}}}$ | $\\frac{y_i \\vec{x_i}^{\\,1}}{1 + e^{y_i\\vec{w}^{\\,T}\\vec{x_i}}}$ | $\\frac{y_i \\vec{x_i}^{\\,0}}{1 + e^{y_i\\vec{w}^{\\,T}\\vec{x_i}}}$ | Error | $P(y \\mid \\vec{x})$ |\n",
    "| --- | --- | --- | --- | --- | --- | --- | --- | --- | --- |\n",
    "| 0 | 1   | 1     | 1 | 1  | 0.5 | 0.5 | 0.5 | 0.69 | 0.5 |\n",
    "| 1 | 0.9 | 1     | 1 | 1  | 0.45 | 0.5 | 0.5 | 0.69 | 0.5 |\n",
    "| 2 | 0.9 | 0.875 | 1 | 1  | 0.45 | 0.44 | 0.5 | 0.69 | 0.5 |\n",
    "| 3 | 0.7 | 0.75  | 1 | -1 | -0.35 | -0.38 | -0.5 | 0.69 | 0.5 |\n",
    "| 4 | 0.6 | 0.875 | 1 | -1 | -0.30 | -0.44 | -0.5 | 0.69 | 0.5 |\n",
    "| - |  -  |   -   | - | -  | $\\sum$ 0.75 | $\\sum$ 0.62 | $\\sum$ 0.5 | $\\sum$ 0.69 | - |"
   ]
  },
  {
   "cell_type": "markdown",
   "metadata": {},
   "source": [
    "### Results of iteration 1:\n",
    "\n",
    "$E(\\vec{w}) = \\frac{1}{n} \\sum_{k=1}^{n} \\ln{(1 + e^{-y_i\\vec{w}^{\\,T}\\vec{x}})} = 0.69$\n",
    "\n",
    "$\\nabla_{E}(\\vec{w}) = (\\frac{-1}{5}) \\left[\\begin{array}{c}0.75 & 0.62 & 0.5\\end{array}\\right] = \\left[\\begin{array}{c}-0.15 & -0.124 & -0.1\\end{array}\\right]$\n",
    "\n",
    "#### Update the vector w:\n",
    "\n",
    "$\\vec{w} = \\vec{w} - \\kappa\\nabla_{E}(\\vec{w}) = \\left[\\begin{array}{c}0.3 & 0.25 & 0.2\\end{array}\\right]$"
   ]
  },
  {
   "cell_type": "markdown",
   "metadata": {},
   "source": [
    "## Verification using Python:"
   ]
  },
  {
   "cell_type": "code",
   "execution_count": null,
   "metadata": {},
   "outputs": [],
   "source": [
    "kappa = 2\n",
    "w = np.array([[0.0, 0.0, 0.0]])\n",
    "x = np.array(data.values[:, :3])\n",
    "y = np.array(data.values[:, 3:])\n",
    "w = w - (kappa * (-1 / len(x)) * np.sum((y * x) / (1 + np.exp(y * (x @ w.T))), axis=0, keepdims=True))\n",
    "print(\"Vector w after the first iteration is: {}\".format(np.squeeze(w)))"
   ]
  },
  {
   "cell_type": "code",
   "execution_count": null,
   "metadata": {},
   "outputs": [],
   "source": [
    "_, ax = plt.subplots()\n",
    "ax.set(xlabel='GRE', ylabel='GPA')\n",
    "data.plot.scatter(\n",
    "    x=1, \n",
    "    y=0, \n",
    "    c=3, \n",
    "    colormap='jet', \n",
    "    ax=ax)\n",
    "w2 = np.asscalar(w[0][0])\n",
    "w1 = np.asscalar(w[0][1])\n",
    "w0 = np.asscalar(w[0][2])\n",
    "plt.plot(\n",
    "    np.linspace(0.0, 1.0, num=10),\n",
    "    [((-(w1 * k) - (w0)) / w2) for k in np.linspace(0.0, 1.0, num=10)],\n",
    "    c= \"red\"\n",
    ")\n",
    "plt.title('GPA vs. GRE Plot')\n",
    "plt.show();"
   ]
  },
  {
   "cell_type": "markdown",
   "metadata": {},
   "source": [
    "***\n",
    "# END"
   ]
  }
 ],
 "metadata": {
  "kernelspec": {
   "display_name": "Python 3",
   "language": "python",
   "name": "python3"
  },
  "language_info": {
   "codemirror_mode": {
    "name": "ipython",
    "version": 3
   },
   "file_extension": ".py",
   "mimetype": "text/x-python",
   "name": "python",
   "nbconvert_exporter": "python",
   "pygments_lexer": "ipython3",
   "version": "3.6.6"
  }
 },
 "nbformat": 4,
 "nbformat_minor": 2
}
