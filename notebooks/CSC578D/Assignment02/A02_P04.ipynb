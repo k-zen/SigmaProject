{
 "cells": [
  {
   "cell_type": "markdown",
   "metadata": {},
   "source": [
    "# CSC 578D / Data Mining / Fall 2018 / University of Victoria\n",
    "# Python Notebook explaining Assignment 02 / Problem 04\n",
    "\n",
    "**Author:** Andreas P. Koenzen (akoenzen => uvic.ca)\n",
    "<br>\n",
    "**Version:** 0.1"
   ]
  },
  {
   "cell_type": "code",
   "execution_count": null,
   "metadata": {},
   "outputs": [],
   "source": [
    "%matplotlib inline\n",
    "\n",
    "import pandas as pd\n",
    "import numpy as np\n",
    "import matplotlib as mpl\n",
    "import matplotlib.pyplot as plt\n",
    "import matplotlib.animation as ani\n",
    "\n",
    "from mpl_toolkits import mplot3d\n",
    "\n",
    "from IPython.core.interactiveshell import InteractiveShell\n",
    "InteractiveShell.ast_node_interactivity = \"all\"\n",
    "\n",
    "from IPython.display import HTML\n",
    "\n",
    "mpl.rcParams['animation.embed_limit'] = 100"
   ]
  },
  {
   "cell_type": "code",
   "execution_count": null,
   "metadata": {},
   "outputs": [],
   "source": [
    "data = pd.read_csv(\n",
    "    'http://www.apkc.net/data/csc_578d/assignment02/regdata.csv',\n",
    "    header=None,\n",
    "    names=['GPA', 'Years of Experience', 'Salary']\n",
    ")\n",
    "data.head()"
   ]
  },
  {
   "cell_type": "markdown",
   "metadata": {},
   "source": [
    "### Preprocessing functions:"
   ]
  },
  {
   "cell_type": "code",
   "execution_count": null,
   "metadata": {},
   "outputs": [],
   "source": [
    "def prepare(data):\n",
    "    x = data.values[:,0:-1]\n",
    "    # print(x[:10, :])\n",
    "    \n",
    "    max_x = np.max(x, axis=0)\n",
    "    min_x = np.min(x, axis=0)\n",
    "    x = (x - min_x) / (max_x - min_x)\n",
    "    # print(x[:10, :])\n",
    "\n",
    "    x = np.insert(x, 2, 1, axis=1)\n",
    "    # print(x[:10, :])\n",
    "    \n",
    "    y = data.values[:,-1:]\n",
    "    # print(y[:10, :])\n",
    "\n",
    "    y[(y == 0)] = -1\n",
    "    # print(y[:10, :])\n",
    "    \n",
    "    return x, y\n",
    "\n",
    "x, y = prepare(data)"
   ]
  },
  {
   "cell_type": "markdown",
   "metadata": {},
   "source": [
    "### Plot the data:"
   ]
  },
  {
   "cell_type": "code",
   "execution_count": null,
   "metadata": {},
   "outputs": [],
   "source": [
    "fig1 = plt.figure(figsize=(12, 8))\n",
    "ax1 = fig1.gca(projection='3d')\n",
    "\n",
    "_ = ax1.view_init(azim=65, elev=30)\n",
    "_ = ax1.set_xlabel('Years of Experience', fontsize=12)\n",
    "_ = ax1.set_ylabel('GPA', fontsize=12)\n",
    "_ = ax1.set_zlabel('Salary', fontsize=12)\n",
    "\n",
    "_ = ax1.scatter3D(xs=x[:,1:2], ys=x[:,0:1], zs=y, c='r', marker='o', s=30, alpha=1.0)"
   ]
  },
  {
   "cell_type": "markdown",
   "metadata": {},
   "source": [
    "### Build the model and plot the error curve:"
   ]
  },
  {
   "cell_type": "code",
   "execution_count": null,
   "metadata": {},
   "outputs": [],
   "source": [
    "def error(x, y, w):\n",
    "    return ((y - (x @ w.T)) ** 2)\n",
    "\n",
    "def error_mean(x, y, w):\n",
    "    return np.asscalar(((1 / (2 * len(x))) * np.sum(\n",
    "        error(x, y, w), \n",
    "        axis=0, \n",
    "        keepdims=True)).ravel())\n",
    "\n",
    "def grad(x, y, w):\n",
    "    return ((y - (x @ w.T)) * x)\n",
    "\n",
    "def grad_mean(x, y, w):\n",
    "    return ((1 / len(x)) * np.sum(\n",
    "        grad(x, y, w), \n",
    "        axis=0, \n",
    "        keepdims=True)).ravel()\n",
    "\n",
    "def fit(x, y, kappa, iterations):\n",
    "    w = np.zeros((1, x.shape[1]))\n",
    "    e = []\n",
    "\n",
    "    for k in range(iterations):\n",
    "        e.append(error_mean(x, y, w))\n",
    "        w = w + (kappa * grad_mean(x, y, w))\n",
    "        \n",
    "    return w, e\n",
    "\n",
    "w, e = fit(x, y, 0.01, 500)\n",
    "print(\"Weight vector: {}\".format(w))\n",
    "print()\n",
    "print(\"Error curve:\")\n",
    "_ = plt.plot(e)\n",
    "plt.show()"
   ]
  },
  {
   "cell_type": "markdown",
   "metadata": {},
   "source": [
    "### Plot the plane:\n",
    "See __[this](http://reliawiki.org/index.php/Multiple_Linear_Regression_Analysis)__ link."
   ]
  },
  {
   "cell_type": "code",
   "execution_count": null,
   "metadata": {},
   "outputs": [],
   "source": [
    "fig1 = plt.figure(figsize=(8, 6))\n",
    "ax1  = fig1.gca(projection='3d')\n",
    "frames = 360 * 1\n",
    "max_elev = 60\n",
    "min_elev = 15\n",
    "ele = list(range(min_elev, max_elev, 1))\n",
    "for k in range(1, int(frames / (max_elev - min_elev))):\n",
    "    if k % 2 != 0:\n",
    "        ele += list(range(max_elev, min_elev, -1))\n",
    "    else:\n",
    "        ele += list(range(min_elev, max_elev, 1))\n",
    "\n",
    "def init():\n",
    "    _ = ax1.view_init(azim=0, elev=0)\n",
    "    _ = ax1.set_xlabel('Years of Experience', fontsize=12)\n",
    "    _ = ax1.set_ylabel('GPA', fontsize=12)\n",
    "    _ = ax1.set_zlabel('Salary', fontsize=12)\n",
    "    \n",
    "    _ = ax1.scatter3D(xs=x[:,1:2], ys=x[:,0:1], zs=y, c='r', marker='o', s=30, alpha=1.0)\n",
    "\n",
    "    x_surf, y_surf = np.meshgrid(np.linspace(0.0, 1.0, num=20), np.linspace(0.0, 1.0, num=20))\n",
    "\n",
    "    w0 = np.asscalar(w[0][2])\n",
    "    w1 = np.asscalar(w[0][1])\n",
    "    w2 = np.asscalar(w[0][0])\n",
    "    z  = w1 * x_surf + w2 * y_surf + w0\n",
    "    _ = ax1.plot_wireframe(x_surf, y_surf, z, color='b', alpha=0.3, rstride=2, cstride=2)\n",
    "    \n",
    "    return ax1,\n",
    "\n",
    "def animate(i, ax):\n",
    "    ax.view_init(elev=ele[i], azim=i)\n",
    "    \n",
    "    return ax1,\n",
    "\n",
    "anim = ani.FuncAnimation(fig1,\n",
    "                         animate,\n",
    "                         init_func=init,\n",
    "                         frames=frames,\n",
    "                         interval=50,\n",
    "                         fargs=(ax1,))\n",
    "plt.close()\n",
    "HTML(anim.to_jshtml())"
   ]
  },
  {
   "cell_type": "markdown",
   "metadata": {},
   "source": [
    "***\n",
    "# END"
   ]
  }
 ],
 "metadata": {
  "kernelspec": {
   "display_name": "Python 3",
   "language": "python",
   "name": "python3"
  },
  "language_info": {
   "codemirror_mode": {
    "name": "ipython",
    "version": 3
   },
   "file_extension": ".py",
   "mimetype": "text/x-python",
   "name": "python",
   "nbconvert_exporter": "python",
   "pygments_lexer": "ipython3",
   "version": "3.6.6"
  }
 },
 "nbformat": 4,
 "nbformat_minor": 2
}
