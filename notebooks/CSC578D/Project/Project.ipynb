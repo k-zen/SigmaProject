{
 "cells": [
  {
   "cell_type": "markdown",
   "metadata": {},
   "source": [
    "# CSC 578D / Data Mining / Fall 2018 / University of Victoria\n",
    "\n",
    "## Python Notebook for Final Project\n",
    "\n",
    "### The dataset for this project is the following:\n",
    "1. Crime statistics for the city of Chicago from 2001-2017. [This](https://catalog.data.gov/dataset/crimes-2001-to-present-398a4) is the link to the original dataset.\n",
    "1. The boundaries of the city of Chicago. [This](https://data.cityofchicago.org/Public-Safety/Boundaries-Police-Beats-current-/aerh-rz74) is the link to the original dataset.\n",
    "\n",
    "### Goals of this analysis:\n",
    "1. Visualise crime in an concise and efficient manner.\n",
    "1. Segment crime by year, month.\n",
    "1. Look for patterns in the data.\n",
    "1. Superpose the data onto a map.\n",
    "1. Build a **k-Nearest Neighbor** classifier to compute how likely someone can be a victim of a crime per time and location.\n",
    "\n",
    "**Author:** Andreas P. Koenzen <akoenzen@uvic.ca>\n",
    "\n",
    "**Version:** 0.1"
   ]
  },
  {
   "cell_type": "code",
   "execution_count": null,
   "metadata": {},
   "outputs": [],
   "source": [
    "%matplotlib inline\n",
    "\n",
    "import pandas as pd\n",
    "import numpy as np\n",
    "import matplotlib as mpl\n",
    "import matplotlib.pyplot as plt\n",
    "import json\n",
    "import os.path\n",
    "import IPython\n",
    "\n",
    "# from mapboxgl.utils import *\n",
    "# from mapboxgl.viz import *\n",
    "\n",
    "from IPython.core.interactiveshell import InteractiveShell\n",
    "InteractiveShell.ast_node_interactivity = \"all\"\n",
    "\n",
    "from IPython.display import Javascript, IFrame\n",
    "from IPython.core.display import HTML"
   ]
  },
  {
   "cell_type": "code",
   "execution_count": null,
   "metadata": {},
   "outputs": [],
   "source": [
    "# Miscellaneous Configuration:\n",
    "HTML(\n",
    "    '<style>'\n",
    "    'ol           {counter-reset:item}'\n",
    "    'ol li        {display:block}'\n",
    "    'ol li:before {content:counter(item) \". \";counter-increment:item;font-weight:bold}'\n",
    "    '</style>'\n",
    ")\n",
    "\n",
    "plt.style.use(['default', 'ggplot'])\n",
    "plt.rcParams.update({'font.size': 8})"
   ]
  },
  {
   "cell_type": "markdown",
   "metadata": {},
   "source": [
    "## Load the entire dataset into memory:\n",
    "1. Index the dataset by the **Date** column."
   ]
  },
  {
   "cell_type": "code",
   "execution_count": null,
   "metadata": {},
   "outputs": [],
   "source": [
    "data_set_home = %env DATA_SETS_HOME\n",
    "\n",
    "raw_data = pd.read_csv(\n",
    "    \"{0}/CSC_578D/Project/Chicago_Crimes_2017.csv\".format(data_set_home),\n",
    "    index_col=['Date'],\n",
    "    parse_dates=True,\n",
    "    date_parser=lambda x: pd.datetime.strptime(x, \"%m/%d/%Y %I:%M:%S %p\")\n",
    ")\n",
    "\n",
    "raw_data.sort_index(inplace=True)\n",
    "\n",
    "# print basic information about the data\n",
    "# raw_data.head()\n",
    "raw_data.shape"
   ]
  },
  {
   "cell_type": "markdown",
   "metadata": {},
   "source": [
    "## Pre-processing:\n",
    "1. Since the dataset is about 1.5GB in size, I need to remove some unused or duplicate columns. The following are redundant columns, which will be removed.\n",
    "    1. ID\n",
    "    1. Case Number\n",
    "    1. Block: We can remove the block because we will use other information to pin point locations, like Beat, etc.\n",
    "    1. Primary Type: I will use the IUCR to categorize danger.\n",
    "    1. Description: I will use the IUCR to categorize danger.\n",
    "    1. Location Description: I will use the \"Domestic\" column to filter out crimes commited indoors.\n",
    "    1. Arrest\n",
    "    1. Community Area\n",
    "    1. Ward\n",
    "    1. Year\n",
    "    1. FBI Code\n",
    "    1. X Coordinate\n",
    "    1. Y Coordinate\n",
    "    1. Updated On\n",
    "    1. Latitude, Longitude and Location can be omitted as well, since I will use the Chicago Boundaries dataset.\n",
    "    1. X Coordinate and Y Coordinate.\n",
    "1. Index the entire dataset by the Date column."
   ]
  },
  {
   "cell_type": "code",
   "execution_count": null,
   "metadata": {},
   "outputs": [],
   "source": [
    "# filter out redundant columns\n",
    "data = raw_data.drop([\n",
    "    'ID', \n",
    "    'Case Number',\n",
    "    'Block',\n",
    "    'Primary Type',\n",
    "    'Description',\n",
    "    'Location Description',\n",
    "    'Arrest',\n",
    "    'Community Area',\n",
    "    'Ward',\n",
    "    'FBI Code',\n",
    "    'X Coordinate',\n",
    "    'Y Coordinate',\n",
    "    'Updated On',\n",
    "    'Latitude',\n",
    "    'Longitude',\n",
    "    'Location'\n",
    "], axis=1)\n",
    "\n",
    "data.head()"
   ]
  },
  {
   "cell_type": "markdown",
   "metadata": {},
   "source": [
    "## Describe the dataset:\n",
    "Gather metrics for:\n",
    "1. Top 10 Most Violent Beats: In police terminology, a beat is the territory and time that a police officer patrols.\n",
    "1. Describe the dataset using Time Series analysis."
   ]
  },
  {
   "cell_type": "markdown",
   "metadata": {},
   "source": [
    "### Top 10 Most Violent Beats:"
   ]
  },
  {
   "cell_type": "code",
   "execution_count": null,
   "metadata": {},
   "outputs": [],
   "source": [
    "# group data by:\n",
    "# - beat\n",
    "# plot top 10 most violent beats\n",
    "tmp = data.groupby('Beat').size().sort_values(ascending=False)[0:10]\n",
    "top_10_mv_beats = pd.DataFrame(index=range(1, 11), data={\n",
    "    'Beat #': tmp.index,\n",
    "    'Crime Count ' + str(data['Year'].unique()[0]): tmp.values\n",
    "})\n",
    "top_10_mv_beats"
   ]
  },
  {
   "cell_type": "markdown",
   "metadata": {},
   "source": [
    "### Time Series analysis:\n",
    "The dataset needs to be indexed by date."
   ]
  },
  {
   "cell_type": "markdown",
   "metadata": {},
   "source": [
    "#### Describe and plot data by month:"
   ]
  },
  {
   "cell_type": "code",
   "execution_count": null,
   "metadata": {},
   "outputs": [],
   "source": [
    "month = data.groupby(data.index.month).size()\n",
    "month = pd.DataFrame(index=np.arange(1, 13, 1), data={\n",
    "    'Crimes': month\n",
    "})\n",
    "\n",
    "fig, ax = plt.subplots(figsize=(6, 4))\n",
    "ax = month.plot(\n",
    "    ax=ax,\n",
    "    title='Crimes by Month',\n",
    "    xticks=np.arange(1, 13, 1),\n",
    "    style=['--']\n",
    ")\n",
    "_ = ax.set_ylabel('Count')\n",
    "_ = ax.set_xlabel('Month')"
   ]
  },
  {
   "cell_type": "markdown",
   "metadata": {},
   "source": [
    "#### Result:\n",
    "Given the chart above we can see that a pattern emerges from the data, where crimes are commited more often during summer months. So I will formulate an hypothesis and look further to see if it holds.\n",
    "\n",
    "#### Hypothesis 1:\n",
    "Crimes are higher during summer months, due to more people being outdoors than indoors."
   ]
  },
  {
   "cell_type": "code",
   "execution_count": null,
   "metadata": {},
   "outputs": [],
   "source": [
    "month_outdoor = data.loc[(data['Domestic'] == False)]\n",
    "month_outdoor = month_outdoor.groupby(month_outdoor.index.month).size()\n",
    "month_indoor = data.loc[(data['Domestic'] == True)]\n",
    "month_indoor = month_indoor.groupby(month_indoor.index.month).size()\n",
    "\n",
    "fig, (ax_left, ax_right) = plt.subplots(ncols=2, figsize=(12, 4))\n",
    "_ = ax_left.set_ylabel('Count')\n",
    "_ = ax_left.set_xlabel('Month')\n",
    "_ = ax_right.set_ylabel('Count')\n",
    "_ = ax_right.set_xlabel('Month')\n",
    "\n",
    "_ = month_outdoor.plot(\n",
    "    ax=ax_left,\n",
    "    title='Non-Domestic Crimes by Month',\n",
    "    xticks=np.arange(1, 13, 1),\n",
    "    style=['--']\n",
    ")\n",
    "_ = ax_left.legend([\"{} Crimes Total\".format(month_outdoor.sum())])\n",
    "\n",
    "_ = month_indoor.plot(\n",
    "    ax=ax_right,\n",
    "    title='Domestic Crimes by Month',\n",
    "    xticks=np.arange(1, 13, 1),\n",
    "    style=['--']\n",
    ")\n",
    "_ = ax_right.legend([\"{} Crimes Total\".format(month_indoor.sum())])"
   ]
  },
  {
   "cell_type": "markdown",
   "metadata": {},
   "source": [
    "#### Result:\n",
    "Well, we can see after separating the two sets (outdoor & indoor) crimes, that hypothesis 1 is rejected since both charts follow the same pattern. We can see in the right chart that indoor crimes also spike during summer months."
   ]
  },
  {
   "cell_type": "markdown",
   "metadata": {},
   "source": [
    "## Visualise:\n",
    "1. Plot crimes by Beat, District and Wards.\n",
    "1. Build a Choropleth using the Chicago Boundaries dataset.\n",
    "1. Plot crime by month, day, hour.\n",
    "\n",
    "**See dataset: https://data.cityofchicago.org/Public-Safety/Boundaries-Police-Beats-current-/aerh-rz74**"
   ]
  },
  {
   "cell_type": "code",
   "execution_count": null,
   "metadata": {},
   "outputs": [],
   "source": [
    "ax = top_10_mv_beats.plot.bar(\n",
    "    x=0,\n",
    "    y=1,\n",
    "    figsize=(6, 4),\n",
    "    title='Top 10 Most Violent Police Beats',\n",
    "    color='#B0C4DE'\n",
    ");\n",
    "ax.set_ylabel('Count');\n",
    "ax.set_xlabel('Beat #');\n",
    "ax.set_axisbelow(True);\n",
    "ax.yaxis.grid(color='gray', linestyle='dashed');\n",
    "ax.xaxis.grid(color='gray', linestyle='dashed');"
   ]
  },
  {
   "cell_type": "markdown",
   "metadata": {},
   "source": [
    "## Superpose data onto a map:\n",
    "1. First separate the map into beats covering the entire city of Chicago.\n",
    "1. Plot the data using a choropleth chart."
   ]
  },
  {
   "cell_type": "code",
   "execution_count": null,
   "metadata": {},
   "outputs": [],
   "source": [
    "mapbox_token = %env MAPBOX_TOKEN\n",
    "data_set_home = %env DATA_SETS_HOME\n",
    "\n",
    "replacements = {\n",
    "    'mapbox_token': mapbox_token\n",
    "}\n",
    "\n",
    "html = \"\"\"\n",
    "    <!DOCTYPE html>\n",
    "    <html>\n",
    "    <head>\n",
    "        <meta charset='utf-8'/>\n",
    "        <title>Project</title>\n",
    "        <meta name='viewport' content='initial-scale=1,maximum-scale=1,user-scalable=no'/>\n",
    "        <script src='https://api.tiles.mapbox.com/mapbox-gl-js/v0.51.0/mapbox-gl.js'></script>\n",
    "        <link href='https://api.tiles.mapbox.com/mapbox-gl-js/v0.51.0/mapbox-gl.css' rel='stylesheet'/>\n",
    "        <style>\n",
    "            body { margin:0; padding:0; }\n",
    "            #map { position:absolute; top:0; bottom:0; width:100%; }\n",
    "        </style>\n",
    "    </head>\n",
    "    <body>\n",
    "        <div id='map'></div>\n",
    "        <script>\n",
    "        mapboxgl.accessToken = '(mapbox_token)';\n",
    "        var map = new mapboxgl.Map({\n",
    "            container: 'map',\n",
    "            style: 'mapbox://styles/mapbox/streets-v9',\n",
    "            center: [-74.50, 40],\n",
    "            zoom: 9 // starting zoom\n",
    "        });\n",
    "        </script>\n",
    "    </body>\n",
    "    </html>\n",
    "    \"\"\"\n",
    "\n",
    "for key, value in replacements.items():\n",
    "    html = html.replace(\"({})\".format(key), value)\n",
    "\n",
    "display(HTML('<iframe srcdoc=\"{srcdoc}\" style=\"width:110%;height:500px;\"></iframe>'.format(srcdoc=html)))"
   ]
  },
  {
   "cell_type": "code",
   "execution_count": null,
   "metadata": {},
   "outputs": [],
   "source": []
  }
 ],
 "metadata": {
  "kernelspec": {
   "display_name": "Python 3",
   "language": "python",
   "name": "python3"
  },
  "language_info": {
   "codemirror_mode": {
    "name": "ipython",
    "version": 3
   },
   "file_extension": ".py",
   "mimetype": "text/x-python",
   "name": "python",
   "nbconvert_exporter": "python",
   "pygments_lexer": "ipython3",
   "version": "3.6.6"
  }
 },
 "nbformat": 4,
 "nbformat_minor": 2
}
