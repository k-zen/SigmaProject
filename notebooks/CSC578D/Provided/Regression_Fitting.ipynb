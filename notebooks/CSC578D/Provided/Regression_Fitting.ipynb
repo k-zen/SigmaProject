{
 "cells": [
  {
   "cell_type": "markdown",
   "metadata": {},
   "source": [
    "Underfitting vs. Overfitting\n",
    "============================\n",
    "\n",
    "Adapted from: http://scikit-learn.org/stable/auto_examples/model_selection/plot_underfitting_overfitting.html\n",
    "\n",
    "This example demonstrates the problems of underfitting and overfitting and\n",
    "how we can use linear regression with polynomial features to approximate\n",
    "nonlinear functions. The plot shows the function that we want to approximate,\n",
    "which is a part of the cosine function. In addition, the samples from the\n",
    "real function and the approximations of different models are displayed. The\n",
    "models have polynomial features of different degrees. We can see that a\n",
    "linear function (polynomial with degree 1) is not sufficient to fit the\n",
    "training samples. This is called **underfitting**. A polynomial of degree 4\n",
    "approximates the true function almost perfectly. However, for higher degrees\n",
    "the model will **overfit** the training data, i.e. it learns the noise of the\n",
    "training data.\n",
    "We evaluate quantitatively **overfitting** / **underfitting** by using\n",
    "cross-validation. We calculate the mean squared error (MSE) on the validation\n",
    "set, the higher, the less likely the model generalizes correctly from the\n",
    "training data.\n",
    "\n"
   ]
  },
  {
   "cell_type": "code",
   "execution_count": 1,
   "metadata": {
    "collapsed": true
   },
   "outputs": [],
   "source": [
    "import numpy as np\n",
    "import matplotlib.pyplot as plt\n",
    "from sklearn.preprocessing import PolynomialFeatures\n",
    "from sklearn.linear_model import LinearRegression"
   ]
  },
  {
   "cell_type": "code",
   "execution_count": 2,
   "metadata": {},
   "outputs": [
    {
     "data": {
      "image/png": "[encoded data removed]",
      "text/plain": [
       "<matplotlib.figure.Figure at 0x13bc9c84e80>"
      ]
     },
     "metadata": {},
     "output_type": "display_data"
    },
    {
     "data": {
      "text/plain": [
       "array([[ 0.5488135 ],\n",
       "       [ 0.71518937],\n",
       "       [ 0.60276338],\n",
       "       [ 0.54488318],\n",
       "       [ 0.4236548 ],\n",
       "       [ 0.64589411],\n",
       "       [ 0.43758721],\n",
       "       [ 0.891773  ],\n",
       "       [ 0.96366276],\n",
       "       [ 0.38344152],\n",
       "       [ 0.79172504],\n",
       "       [ 0.52889492],\n",
       "       [ 0.56804456],\n",
       "       [ 0.92559664],\n",
       "       [ 0.07103606],\n",
       "       [ 0.0871293 ],\n",
       "       [ 0.0202184 ],\n",
       "       [ 0.83261985],\n",
       "       [ 0.77815675],\n",
       "       [ 0.87001215],\n",
       "       [ 0.97861834],\n",
       "       [ 0.79915856],\n",
       "       [ 0.46147936],\n",
       "       [ 0.78052918],\n",
       "       [ 0.11827443],\n",
       "       [ 0.63992102],\n",
       "       [ 0.14335329],\n",
       "       [ 0.94466892],\n",
       "       [ 0.52184832],\n",
       "       [ 0.41466194]])"
      ]
     },
     "execution_count": 2,
     "metadata": {},
     "output_type": "execute_result"
    }
   ],
   "source": [
    "def true_fun(X):\n",
    "    return np.cos(1.5 * np.pi * X)\n",
    "\n",
    "np.random.seed(0)\n",
    "\n",
    "n = 30\n",
    "\n",
    "# generating a train dataset\n",
    "X = np.random.rand(n,1)\n",
    "y = true_fun(X) + np.random.randn(n,1) * 0.1  # second term is noise\n",
    "\n",
    "plt.scatter(X,y)\n",
    "plt.show()\n",
    "\n",
    "X"
   ]
  },
  {
   "cell_type": "code",
   "execution_count": 6,
   "metadata": {},
   "outputs": [
    {
     "data": {
      "text/plain": [
       "array([[  5.48813504e-01,   3.01196262e-01],\n",
       "       [  7.15189366e-01,   5.11495830e-01],\n",
       "       [  6.02763376e-01,   3.63323688e-01],\n",
       "       [  5.44883183e-01,   2.96897683e-01],\n",
       "       [  4.23654799e-01,   1.79483389e-01],\n",
       "       [  6.45894113e-01,   4.17179205e-01],\n",
       "       [  4.37587211e-01,   1.91482567e-01],\n",
       "       [  8.91773001e-01,   7.95259085e-01],\n",
       "       [  9.63662761e-01,   9.28645916e-01],\n",
       "       [  3.83441519e-01,   1.47027398e-01],\n",
       "       [  7.91725038e-01,   6.26828536e-01],\n",
       "       [  5.28894920e-01,   2.79729836e-01],\n",
       "       [  5.68044561e-01,   3.22674623e-01],\n",
       "       [  9.25596638e-01,   8.56729137e-01],\n",
       "       [  7.10360582e-02,   5.04612156e-03],\n",
       "       [  8.71292997e-02,   7.59151487e-03],\n",
       "       [  2.02183974e-02,   4.08783595e-04],\n",
       "       [  8.32619846e-01,   6.93255807e-01],\n",
       "       [  7.78156751e-01,   6.05527929e-01],\n",
       "       [  8.70012148e-01,   7.56921138e-01],\n",
       "       [  9.78618342e-01,   9.57693860e-01],\n",
       "       [  7.99158564e-01,   6.38654411e-01],\n",
       "       [  4.61479362e-01,   2.12963202e-01],\n",
       "       [  7.80529176e-01,   6.09225795e-01],\n",
       "       [  1.18274426e-01,   1.39888398e-02],\n",
       "       [  6.39921021e-01,   4.09498914e-01],\n",
       "       [  1.43353287e-01,   2.05501650e-02],\n",
       "       [  9.44668917e-01,   8.92399363e-01],\n",
       "       [  5.21848322e-01,   2.72325671e-01],\n",
       "       [  4.14661940e-01,   1.71944524e-01]])"
      ]
     },
     "execution_count": 6,
     "metadata": {},
     "output_type": "execute_result"
    }
   ],
   "source": [
    "polynomial_features = PolynomialFeatures(degree=2, include_bias=False)\n",
    "polynomial_features.fit_transform(X)"
   ]
  },
  {
   "cell_type": "code",
   "execution_count": 9,
   "metadata": {},
   "outputs": [
    {
     "data": {
      "image/png": "[encoded data removed]",
      "text/plain": [
       "<matplotlib.figure.Figure at 0x13bca039e80>"
      ]
     },
     "metadata": {},
     "output_type": "display_data"
    }
   ],
   "source": [
    "# try 1, 4, 15\n",
    "degree = 4\n",
    "\n",
    "polynomial_features = PolynomialFeatures(degree=degree, include_bias=False)\n",
    "linear_regression = LinearRegression()\n",
    "    \n",
    "X_poly = polynomial_features.fit_transform(X)\n",
    "linear_regression.fit(X_poly, y)\n",
    "\n",
    "X_test = np.linspace(0, 1, 100).reshape(100,1) # 100 linearly spaced numbers from 0 to 1.\n",
    "y_test = true_fun(X_test)\n",
    "\n",
    "X_test_poly = polynomial_features.fit_transform(X_test)\n",
    "y_test_pred = linear_regression.predict(X_test_poly)\n",
    "    \n",
    "plt.plot(X_test, y_test_pred) # Blue: model prediction on test set\n",
    "plt.plot(X_test, y_test)      # Orange: test set generated using true function\n",
    "plt.scatter(X, y)             # Blue dots: training instances\n",
    "\n",
    "plt.xlabel(\"x\")\n",
    "plt.ylabel(\"y\")\n",
    "plt.xlim(0,1)\n",
    "plt.ylim(-1.5,1.5)\n",
    "plt.title(\"Degree {}\".format(degree))\n",
    "plt.show()"
   ]
  }
 ],
 "metadata": {
  "kernelspec": {
   "display_name": "Python 3",
   "language": "python",
   "name": "python3"
  },
  "language_info": {
   "codemirror_mode": {
    "name": "ipython",
    "version": 3
   },
   "file_extension": ".py",
   "mimetype": "text/x-python",
   "name": "python",
   "nbconvert_exporter": "python",
   "pygments_lexer": "ipython3",
   "version": "3.6.2"
  }
 },
 "nbformat": 4,
 "nbformat_minor": 1
}
