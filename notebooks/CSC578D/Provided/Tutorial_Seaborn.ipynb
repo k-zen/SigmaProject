{
 "cells": [
  {
   "cell_type": "markdown",
   "metadata": {},
   "source": [
    "python seaborn tutorial\n",
    "--\n",
    "Based on https://elitedatascience.com/python-seaborn-tutorial\n",
    "\n",
    "Seaborn provides a high-level interface to Matplotlib, a powerful but sometimes unwieldy Python visualization library.\n",
    "\n",
    "On Seaborn’s official website, they state:\n",
    "\n",
    "If matplotlib ``tries to make easy things easy and hard things possible, seaborn tries to make a well-defined set of hard things easy too.``\n",
    "\n",
    "In practice, the `well-defined set of hard things` includes:\n",
    "\n",
    "1. Using default themes that are aesthetically pleasing.\n",
    "2. Setting custom color palettes.\n",
    "3. Making attractive statistical plots.\n",
    "4. Easily and flexibly displaying distributions.\n",
    "5. Visualizing information from matrices and DataFrames.\n",
    "\n",
    "\n",
    "---\n",
    "This tutorial uses pandas, another python module that handles data-frames (same as tables in relational databases). Pandas will be covered in detail in another series of tutorials. For now we will be using only basic pandas operations, such as reading from file and selecting columns/rows.  "
   ]
  },
  {
   "cell_type": "code",
   "execution_count": null,
   "metadata": {
    "collapsed": true
   },
   "outputs": [],
   "source": [
    "import pandas as pd\n",
    "from matplotlib import pyplot as plt\n",
    "import seaborn as sns"
   ]
  },
  {
   "cell_type": "code",
   "execution_count": null,
   "metadata": {},
   "outputs": [],
   "source": [
    "# Read dataset\n",
    "data_set_home = %env DATA_SETS_HOME\n",
    "# encoding = 'unicode_escape' produces a string that is suitable \n",
    "# as Unicode literal in Python source code\n",
    "df = pd.read_csv('{}/CSC_578D/Pokemon.csv'.format(data_set_home), index_col=0, encoding = 'unicode_escape')\n",
    "\n",
    "df.head(40)"
   ]
  },
  {
   "cell_type": "markdown",
   "metadata": {},
   "source": [
    "Seaborn's plotting functions.\n",
    "--\n",
    "One of Seaborn's greatest strengths is its diversity of plotting functions. For instance, making a scatter plot is just one line of code using the lmplot() function.\n",
    "\n",
    "There are two ways you can do so.\n",
    "\n",
    "-The first way (recommended) is to pass your DataFrame to the data= argument, while passing column names to the axes arguments, x= and y=.\n",
    "\n",
    "-The second way is to directly pass in Series of data to the axes arguments.\n",
    "\n",
    "For example, let's compare the Attack and Defense stats for our Pokémon:"
   ]
  },
  {
   "cell_type": "code",
   "execution_count": null,
   "metadata": {},
   "outputs": [],
   "source": [
    "# Recommended way\n",
    "sns.lmplot(x='Attack', y='Defense', data=df)\n",
    " \n",
    "# Alternative way\n",
    "# sns.lmplot(x=df.Attack, y=df.Defense)\n",
    "\n",
    "plt.show()"
   ]
  },
  {
   "cell_type": "markdown",
   "metadata": {},
   "source": [
    "By the way, Seaborn doesn't have a dedicated scatter plot function, which is why you see a diagonal line. We actually used Seaborn's function for fitting and plotting a regression line.\n",
    "\n",
    "Thankfully, each plotting function has several useful options that you can set. Here's how we can tweak the `lmplot()`:\n",
    "\n",
    "First, we'll set `fit_reg=False` to remove the regression line, since we only want a scatter plot.\n",
    "Then, we'll set `hue='Stage'` to color our points by the Pokémon's evolution stage. This hue argument is very useful because it allows you to express a third dimension of information using color."
   ]
  },
  {
   "cell_type": "code",
   "execution_count": null,
   "metadata": {},
   "outputs": [],
   "source": [
    "# Scatterplot arguments\n",
    "sns.lmplot(x='Attack', y='Defense', data=df,\n",
    "           fit_reg=False, # No regression line\n",
    "           hue='Stage')   # Color by evolution stage\n",
    "\n",
    "plt.show()"
   ]
  },
  {
   "cell_type": "markdown",
   "metadata": {},
   "source": [
    "Customizing with Matplotlib.\n",
    "--\n",
    "\n",
    "Seaborn is a high-level interface to Matplotlib. Seaborn will get you most of the way there, but you'll sometimes need to bring in Matplotlib.\n",
    "\n",
    "Setting your axes limits is one of those times, but the process is pretty simple:\n",
    "\n",
    "1. First, invoke your Seaborn plotting function as normal.\n",
    "2. Then, invoke Matplotlib's customization functions. In this case, we'll use its ylim() and xlim() functions.\n",
    "\n",
    "Here's our new scatter plot with sensible axes limits:"
   ]
  },
  {
   "cell_type": "code",
   "execution_count": null,
   "metadata": {},
   "outputs": [],
   "source": [
    "# Plot using Seaborn\n",
    "sns.lmplot(x='Attack', y='Defense', data=df,\n",
    "           fit_reg=False, \n",
    "           hue='Stage')\n",
    " \n",
    "# Tweak using Matplotlib\n",
    "plt.ylim(0, None)\n",
    "plt.xlim(0, None)\n",
    "\n",
    "plt.show()"
   ]
  },
  {
   "cell_type": "markdown",
   "metadata": {},
   "source": [
    "The role of Pandas.\n",
    "--\n",
    "\n",
    "Even though this is a Seaborn tutorial, Pandas actually plays a very important role. You see, Seaborn's plotting functions benefit from a base DataFrame that's reasonably formatted.\n",
    "\n",
    "For example, let's say we wanted to make a box plot for our Pokémon's combat stats:"
   ]
  },
  {
   "cell_type": "code",
   "execution_count": null,
   "metadata": {},
   "outputs": [],
   "source": [
    "# Boxplot\n",
    "sns.boxplot(data=df)\n",
    "\n",
    "plt.show()"
   ]
  },
  {
   "cell_type": "markdown",
   "metadata": {},
   "source": [
    "Well, that's a reasonable start, but there are some columns we'd probably like to remove:\n",
    "\n",
    "We can remove the Total since we have individual stats.\n",
    "We can remove the Stage and Legendary columns because they aren't combat stats.\n",
    "In turns out that this isn't easy to do within Seaborn alone. Instead, it's much simpler to pre-format your DataFrame.\n",
    "\n",
    "Let's create a new DataFrame called stats_df that only keeps the stats columns:"
   ]
  },
  {
   "cell_type": "code",
   "execution_count": null,
   "metadata": {},
   "outputs": [],
   "source": [
    "# Pre-format DataFrame\n",
    "stats_df = df.drop(['Total', 'Stage', 'Legendary'], axis=1)\n",
    " \n",
    "# New boxplot using stats_df\n",
    "sns.boxplot(data=stats_df)\n",
    "\n",
    "plt.show()"
   ]
  },
  {
   "cell_type": "markdown",
   "metadata": {},
   "source": [
    "Violin plots\n",
    "--\n",
    "Violin plots are useful alternatives to box plots.\n",
    "They show the distribution (through the thickness of the violin) instead of only the summary statistics.\n",
    "Here is an example:"
   ]
  },
  {
   "cell_type": "code",
   "execution_count": null,
   "metadata": {},
   "outputs": [],
   "source": [
    "# Pre-format DataFrame\n",
    "stats_df = df.drop(['Total', 'Stage', 'Legendary'], axis=1)\n",
    " \n",
    "# New boxplot using stats_df\n",
    "sns.violinplot(data=stats_df)\n",
    "\n",
    "plt.show()"
   ]
  },
  {
   "cell_type": "markdown",
   "metadata": {},
   "source": [
    "Now we'd like to visualize the distribution of Attack by Pokémon's primary type (`Type 1`)."
   ]
  },
  {
   "cell_type": "code",
   "execution_count": null,
   "metadata": {},
   "outputs": [],
   "source": [
    "# Violin plot\n",
    "sns.violinplot(x='Type 1', y='Attack', data=df)\n",
    "\n",
    "plt.show()"
   ]
  },
  {
   "cell_type": "markdown",
   "metadata": {},
   "source": [
    "As you can see, Dragon types tend to have higher Attack stats than Ghost types, but they also have greater variance."
   ]
  },
  {
   "cell_type": "markdown",
   "metadata": {},
   "source": [
    "Heatmap\n",
    "--\n",
    "Heatmaps help you visualize matrix-like data."
   ]
  },
  {
   "cell_type": "code",
   "execution_count": null,
   "metadata": {},
   "outputs": [],
   "source": [
    "# Calculate correlations\n",
    "corr = stats_df.corr()\n",
    " \n",
    "# Heatmap\n",
    "sns.heatmap(corr)\n",
    "\n",
    "plt.show()\n",
    "\n",
    "print(corr)"
   ]
  },
  {
   "cell_type": "markdown",
   "metadata": {},
   "source": [
    "Histogram\n",
    "--\n",
    "Histograms allow you to plot the distributions of numeric variables."
   ]
  },
  {
   "cell_type": "code",
   "execution_count": null,
   "metadata": {},
   "outputs": [],
   "source": [
    "# Distribution Plot (a.k.a. Histogram)\n",
    "sns.distplot(df.Attack)\n",
    "\n",
    "plt.show()"
   ]
  },
  {
   "cell_type": "markdown",
   "metadata": {},
   "source": [
    "Countplots\n",
    "--\n",
    "Count plots help you visualize the distributions of categorical variables."
   ]
  },
  {
   "cell_type": "code",
   "execution_count": null,
   "metadata": {},
   "outputs": [],
   "source": [
    "# Count Plot (a.k.a. Bar Plot)\n",
    "sns.countplot(x='Type 1', data=df)\n",
    " \n",
    "# Rotate x-labels\n",
    "plt.xticks(rotation=-45)\n",
    "\n",
    "plt.show()"
   ]
  },
  {
   "cell_type": "markdown",
   "metadata": {},
   "source": [
    "Question: What's difference of count plots in seaborn from bar plots in pyplot?"
   ]
  },
  {
   "cell_type": "markdown",
   "metadata": {},
   "source": [
    "Factor Plot\n",
    "--\n",
    "Factor plots make it easy to separate plots by categorical attributes."
   ]
  },
  {
   "cell_type": "code",
   "execution_count": null,
   "metadata": {},
   "outputs": [],
   "source": [
    "# Factor Plot\n",
    "g = sns.factorplot(x='Type 1', \n",
    "                   y='Attack', \n",
    "                   data=df, \n",
    "                   hue='Stage',  # Color by stage\n",
    "                   col='Stage',  # Separate by stage\n",
    "                   kind='swarm') # Swarmplot\n",
    " \n",
    "# Rotate x-axis labels\n",
    "g.set_xticklabels(rotation=-45)\n",
    " \n",
    "# Doesn't work because only rotates last plot\n",
    "# plt.xticks(rotation=-45)\n",
    "\n",
    "plt.show()"
   ]
  },
  {
   "cell_type": "markdown",
   "metadata": {},
   "source": [
    "Density Plot\n",
    "--\n",
    "Density plots display the distribution between two variables."
   ]
  },
  {
   "cell_type": "code",
   "execution_count": null,
   "metadata": {},
   "outputs": [],
   "source": [
    "# Density Plot\n",
    "sns.kdeplot(df.Attack, df.Defense)\n",
    "\n",
    "plt.show()"
   ]
  }
 ],
 "metadata": {
  "kernelspec": {
   "display_name": "Python 3",
   "language": "python",
   "name": "python3"
  },
  "language_info": {
   "codemirror_mode": {
    "name": "ipython",
    "version": 3
   },
   "file_extension": ".py",
   "mimetype": "text/x-python",
   "name": "python",
   "nbconvert_exporter": "python",
   "pygments_lexer": "ipython3",
   "version": "3.6.6"
  }
 },
 "nbformat": 4,
 "nbformat_minor": 2
}
