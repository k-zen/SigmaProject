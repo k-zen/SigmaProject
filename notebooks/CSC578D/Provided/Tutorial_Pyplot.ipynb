{
 "cells": [
  {
   "cell_type": "markdown",
   "metadata": {},
   "source": [
    "Pyplot tutorial\n",
    "===============\n",
    "\n",
    "This tutorial is based on the official pyplot tutorial (https://matplotlib.org/users/pyplot_tutorial.html) and other online material.\n",
    "\n",
    "`matplotlib.pyplot` is a collection of\n",
    "command style functions that make matplotlib work like MATLAB. Each\n",
    "`pyplot` function makes some change to a figure: e.g., creates a figure,\n",
    "creates a plotting area in a figure, plots some lines in a plotting\n",
    "area, decorates the plot with labels, etc. \n",
    "\n",
    "Here is a first example. See below for explanations. "
   ]
  },
  {
   "cell_type": "code",
   "execution_count": null,
   "metadata": {
    "scrolled": true
   },
   "outputs": [],
   "source": [
    "import matplotlib.pyplot as plt\n",
    "\n",
    "plt.plot([1,4,9,16])\n",
    "plt.show()"
   ]
  },
  {
   "cell_type": "markdown",
   "metadata": {},
   "source": [
    "You may be wondering why the x-axis ranges from 0-3 and the y-axis from\n",
    "1-4. If you provide a single list or array to the\n",
    "`plot` command,\n",
    "matplotlib assumes it is a sequence of y values, and automatically\n",
    "generates the x values for you. Since python ranges start with 0, the\n",
    "default x vector has the same length as y but starts with 0. Hence the x\n",
    "data are `[0,1,2,3]`.\n",
    "Also observe that the points are connected by straight lines. We will change this behavior next.\n",
    "\n",
    "`plot` is a versatile\n",
    "command, and will take an arbitrary number of arguments. For example, to\n",
    "plot x versus y, you can issue the command:"
   ]
  },
  {
   "cell_type": "code",
   "execution_count": null,
   "metadata": {},
   "outputs": [],
   "source": [
    "plt.plot([1, 2, 3, 4], [1, 4, 9, 16])\n",
    "plt.show()"
   ]
  },
  {
   "cell_type": "markdown",
   "metadata": {},
   "source": [
    "For every x, y pair of arguments, there is an optional third argument\n",
    "which is the format string that indicates the color and line type of the\n",
    "plot. The letters and symbols of the format string are from MATLAB, and\n",
    "you concatenate a color string with a line style string. The default\n",
    "format string is `b-`, which is a solid blue line. For example, to\n",
    "plot the above with red circles, you would issue"
   ]
  },
  {
   "cell_type": "code",
   "execution_count": null,
   "metadata": {},
   "outputs": [],
   "source": [
    "plt.plot([1,2,3,4], [1,4,9,16], 'ro')\n",
    "plt.show()"
   ]
  },
  {
   "cell_type": "markdown",
   "metadata": {},
   "source": [
    "See the `plot`\n",
    "documentation for a complete list of line styles and format strings. The\n",
    "`axis` command in the\n",
    "example above takes a list of `[xmin, xmax, ymin, ymax]` and specifies\n",
    "the viewport of the axes.\n",
    "\n",
    "If matplotlib were limited to working with lists, it would be fairly\n",
    "useless for numeric processing. Generally, you will use [numpy\n",
    "\\<http://www.numpy.org\\>]() arrays. In fact, all sequences are converted\n",
    "to numpy arrays internally. The example below illustrates a plotting\n",
    "several lines with different format styles in one command using arrays."
   ]
  },
  {
   "cell_type": "code",
   "execution_count": null,
   "metadata": {},
   "outputs": [],
   "source": [
    "import numpy as np\n",
    "\n",
    "a = np.array([[1,2,3,4],[1,4,9,16]])\n",
    "\n",
    "plt.plot(a[0], a[1], 'ro')\n",
    "plt.show()"
   ]
  },
  {
   "cell_type": "code",
   "execution_count": null,
   "metadata": {},
   "outputs": [],
   "source": [
    "# adding axis labels\n",
    "plt.xlabel('some numbers')\n",
    "plt.ylabel('squares')\n",
    "\n",
    "plt.plot(a[0], a[1], 'ro')\n",
    "plt.show()"
   ]
  },
  {
   "cell_type": "markdown",
   "metadata": {},
   "source": [
    "The `axis()` command takes a list of [xmin, xmax, ymin, ymax] and specifies the viewport of the axes."
   ]
  },
  {
   "cell_type": "markdown",
   "metadata": {},
   "source": [
    "plotting multiple lines\n",
    "--------------------------------------\n",
    "\n",
    "Below are two script to\n",
    "create three lines on a single plot.\n",
    "They produce exactly the same result."
   ]
  },
  {
   "cell_type": "code",
   "execution_count": null,
   "metadata": {},
   "outputs": [],
   "source": [
    "# evenly sampled time from 0 to 5 at 0.2s intervals\n",
    "t = np.arange(0, 5, 0.2)\n",
    "\n",
    "# red dashes, blue squares and green triangles\n",
    "# first line: red dashes, t vs t (itself)\n",
    "# second line: blue squares, t vs t^2 \n",
    "# third line: green triangles, t vs t^3\n",
    "plt.plot(t, t, 'r--',    t, t**2, 'bs',    t, t**3, 'g^')\n",
    "plt.show()"
   ]
  },
  {
   "cell_type": "code",
   "execution_count": null,
   "metadata": {},
   "outputs": [],
   "source": [
    "# evenly sampled time from 0 to 5 at 0.2s intervals\n",
    "t = np.arange(0, 5, 0.2)\n",
    "\n",
    "# red dashes, blue squares and green triangles\n",
    "# first line: red dashes, t vs t (itself)\n",
    "# second line: blue squares, t vs t^2 \n",
    "# third line: green triangles, t vs t^3\n",
    "plt.plot(t, t, 'r--')\n",
    "plt.plot(t, t**2, 'bs')\n",
    "plt.plot(t, t**3, 'g^')\n",
    "plt.show()"
   ]
  },
  {
   "cell_type": "markdown",
   "metadata": {},
   "source": [
    "Subplots\n",
    "--------------------------------------\n",
    "\n",
    "Below are two scripts to\n",
    "create three subplots. See the text below them for explanations."
   ]
  },
  {
   "cell_type": "code",
   "execution_count": null,
   "metadata": {},
   "outputs": [],
   "source": [
    "plt.subplot(311)\n",
    "plt.plot(t, t, 'r--')\n",
    "\n",
    "plt.subplot(312)\n",
    "plt.plot(t, t**2, 'bs')\n",
    "\n",
    "plt.subplot(313)\n",
    "plt.plot(t, t**3, 'g^')\n",
    "\n",
    "plt.show()"
   ]
  },
  {
   "cell_type": "code",
   "execution_count": null,
   "metadata": {},
   "outputs": [],
   "source": [
    "plt.subplot(131)\n",
    "plt.plot(t, t, 'r--')\n",
    "\n",
    "plt.subplot(132)\n",
    "plt.plot(t, t**2, 'bs')\n",
    "\n",
    "plt.subplot(133)\n",
    "plt.plot(t, t**3, 'g^')\n",
    "\n",
    "plt.show()"
   ]
  },
  {
   "cell_type": "markdown",
   "metadata": {},
   "source": [
    "The `subplot` command specifies `numrows, numcols, fignum` where `fignum`\n",
    "ranges from 1 to `numrows*numcols`. The commas in the `subplot` command\n",
    "are optional if `numrows*numcols<10`. So `subplot(211)` is identical to\n",
    "`subplot(2, 1, 1)`. You can create an arbitrary number of subplots."
   ]
  },
  {
   "cell_type": "markdown",
   "metadata": {},
   "source": [
    "Histogram example\n",
    "-----------"
   ]
  },
  {
   "cell_type": "code",
   "execution_count": null,
   "metadata": {},
   "outputs": [],
   "source": [
    "# let's generate some data\n",
    "x = np.random.randn(10000)\n",
    "\n",
    "plt.hist(x)\n",
    "plt.show()"
   ]
  },
  {
   "cell_type": "code",
   "execution_count": null,
   "metadata": {},
   "outputs": [],
   "source": [
    "#same example with more info\n",
    "\n",
    "# let's generate some data\n",
    "x = np.random.randn(100000)\n",
    "\n",
    "plt.hist(x)\n",
    "plt.title(\"Histogram\")\n",
    "plt.xlabel(\"Value\")\n",
    "plt.ylabel(\"Frequency\")\n",
    "plt.show()"
   ]
  },
  {
   "cell_type": "markdown",
   "metadata": {},
   "source": [
    "Boxplot examples\n",
    "--\n",
    "\n",
    "The box plot (a.k.a. box and whisker diagram) is a standardized way of displaying the distribution of data based on the five number summary: minimum, first quartile, median, third quartile, and maximum.\n",
    "See: https://www.statcan.gc.ca/edu/power-pouvoir/ch12/5214889-eng.htm\n",
    "https://www.statcan.gc.ca/edu/power-pouvoir/ch12/5214890-eng.htm#ex2\n",
    "https://www.statcan.gc.ca/edu/power-pouvoir/ch12/exer/5214875-eng.htm"
   ]
  },
  {
   "cell_type": "code",
   "execution_count": null,
   "metadata": {},
   "outputs": [],
   "source": [
    "# let's generate some data\n",
    "x = np.array([51, 17, 25, 39, 7, 49, 62, 41, 20, 6, 43, 13])\n",
    "\n",
    "plt.boxplot(x)\n",
    "plt.show()"
   ]
  },
  {
   "cell_type": "code",
   "execution_count": null,
   "metadata": {},
   "outputs": [],
   "source": [
    "# multiple boxplots\n",
    "# let's create some data\n",
    "x = np.array([[34, 47, 1, 15, 57, 24, 20, 11, 19, 50, 28, 37], [51, 17, 25, 39, 7, 49, 62, 41, 20, 6, 43, 13]])\n",
    "\n",
    "plt.boxplot(x.tolist())\n",
    "plt.show()"
   ]
  },
  {
   "cell_type": "code",
   "execution_count": null,
   "metadata": {},
   "outputs": [],
   "source": [
    "# outliers\n",
    "x = np.random.randn(1000)\n",
    "\n",
    "plt.boxplot(x)\n",
    "plt.show()"
   ]
  },
  {
   "cell_type": "markdown",
   "metadata": {},
   "source": [
    "The points beyond the whiskers are called `outliers`.\n",
    "\n",
    "From the documentation (https://matplotlib.org/api/_as_gen/matplotlib.axes.Axes.boxplot.html) we have:\n",
    "\n",
    "*whis* : float, sequence, or string (default = 1.5) \n",
    "\n",
    "As a float, determines the reach of the whiskers to the beyond the first and third quartiles. In other words, where IQR is the interquartile range (Q3-Q1), the upper whisker will extend to last datum less than Q3 + whis`*`IQR). Similarly, the lower whisker will extend to the first datum greater than Q1 - whis`*`IQR. Beyond the whiskers, data are considered outliers and are plotted as individual points. Set this to an unreasonably high value to force the whiskers to show the min and max values. Alternatively, set this to an ascending sequence of percentile (e.g., [5, 95]) to set the whiskers at specific percentiles of the data. Finally, whis can be the string 'range' to force the whiskers to the min and max of the data.\n",
    "\n",
    "Let's try another example, where the whiskers are guaranteed to show the min and max values and no point is considered outlier."
   ]
  },
  {
   "cell_type": "code",
   "execution_count": null,
   "metadata": {},
   "outputs": [],
   "source": [
    "# outliers\n",
    "x = np.random.randn(1000)\n",
    "\n",
    "plt.boxplot(x, whis='range')\n",
    "plt.show()"
   ]
  },
  {
   "cell_type": "markdown",
   "metadata": {},
   "source": [
    "Barchart examples\n",
    "--"
   ]
  },
  {
   "cell_type": "code",
   "execution_count": null,
   "metadata": {},
   "outputs": [],
   "source": [
    "D = {'Alex':80, 'Ben': 60, 'Jason':90}\n",
    "\n",
    "plt.bar(range(len(D)), list(D.values()))\n",
    "plt.xticks(range(len(D)), list(D.keys()))\n",
    "\n",
    "plt.show()"
   ]
  },
  {
   "cell_type": "code",
   "execution_count": null,
   "metadata": {},
   "outputs": [],
   "source": [
    "x = ['Alex', 'Ben', 'Jason']\n",
    "course = [80, 60, 90] \n",
    "\n",
    "plt.bar(range(len(x)), course)\n",
    "plt.xticks(range(len(x)), x)\n",
    "\n",
    "plt.show()"
   ]
  },
  {
   "cell_type": "code",
   "execution_count": null,
   "metadata": {},
   "outputs": [],
   "source": [
    "x = ['Alex', 'Ben', 'Jason']\n",
    "course1 = [80, 60, 90] \n",
    "course2 = [70, 70, 60]\n",
    "\n",
    "a = np.array(range(len(x)))\n",
    "\n",
    "plt.bar(a - 0.2, course1, width=0.2)\n",
    "plt.bar(a, course2, width=0.2)\n",
    "\n",
    "plt.xticks(a-0.1, x)\n",
    "\n",
    "plt.show()"
   ]
  }
 ],
 "metadata": {
  "kernelspec": {
   "display_name": "Python 3",
   "language": "python",
   "name": "python3"
  },
  "language_info": {
   "codemirror_mode": {
    "name": "ipython",
    "version": 3
   },
   "file_extension": ".py",
   "mimetype": "text/x-python",
   "name": "python",
   "nbconvert_exporter": "python",
   "pygments_lexer": "ipython3",
   "version": "3.6.6"
  }
 },
 "nbformat": 4,
 "nbformat_minor": 2
}
