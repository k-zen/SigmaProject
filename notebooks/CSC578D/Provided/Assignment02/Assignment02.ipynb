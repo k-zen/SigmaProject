{
 "cells": [
  {
   "cell_type": "markdown",
   "metadata": {},
   "source": [
    "Ex 1 (4 pts). Logistic Regression (by hand)\n",
    "--\n",
    "\n",
    "Suppose we have the following normalized dataset\n",
    "\n",
    "$$\n",
    "\\begin{array}{lllr}\n",
    "GPA\t&GRE\t&Dummy\t&y \\\\ \\hline\n",
    "1\t&1\t&1\t&1 \\\\\n",
    "0.9\t&1\t&1\t&1 \\\\\n",
    "0.9\t&0.875\t&1\t&1 \\\\\n",
    "0.7\t&0.75\t&1\t&-1 \\\\\n",
    "0.6\t&0.875\t&1\t&-1 \\\\\n",
    "\\end{array}\n",
    "$$\t\t\t\n",
    "\t\t\t\n",
    "and want to construct a Logistic Regression classifier using Gradient Descent for Maximum Likelihood. If we start with an all zero weight vector, what will the weight vector be after the first iteration? (Consider kappa=2)\n",
    "Show the details of your calculations. This is a pencil and paper exercise. See the posted Excel spreadsheet for an example. \n"
   ]
  },
  {
   "cell_type": "markdown",
   "metadata": {},
   "source": [
    "Ex 2 (10 pts). Logistic Regression - Gradient Descent\n",
    "--\n",
    "In this part you will build a logistic regression model using Numpy and doing gradient descent. \n",
    "You should complete the TODO parts in the following cells. "
   ]
  },
  {
   "cell_type": "code",
   "execution_count": 1,
   "metadata": {
    "collapsed": true
   },
   "outputs": [],
   "source": [
    "import numpy as np\n",
    "import matplotlib.pyplot as plt"
   ]
  },
  {
   "cell_type": "code",
   "execution_count": 2,
   "metadata": {},
   "outputs": [
    {
     "name": "stdout",
     "output_type": "stream",
     "text": [
      "[[1.     1.     1.    ]\n",
      " [1.     0.9    1.    ]\n",
      " [1.     0.9    0.875 ]\n",
      " [1.     0.7    0.75  ]\n",
      " [1.     0.6    0.875 ]\n",
      " [1.     0.6    0.875 ]\n",
      " [1.     0.5    0.75  ]\n",
      " [1.     0.5    0.8125]\n",
      " [1.     0.5    1.    ]\n",
      " [1.     0.5    0.875 ]\n",
      " [1.     0.5    0.875 ]]\n",
      "[[ 1]\n",
      " [ 1]\n",
      " [ 1]\n",
      " [-1]\n",
      " [-1]\n",
      " [ 1]\n",
      " [-1]\n",
      " [-1]\n",
      " [ 1]\n",
      " [-1]\n",
      " [ 1]]\n"
     ]
    }
   ],
   "source": [
    "# GPA, GRE scores dataset\n",
    "\n",
    "X=np.array([\n",
    "[1,1.0,1.0],\n",
    "[1,0.9,1.0],\n",
    "[1,0.9,0.875],\n",
    "[1,0.7,0.75],\n",
    "[1,0.6,0.875],\n",
    "[1,0.6,0.875],\n",
    "[1,0.5,0.75],\n",
    "[1,0.5,0.8125],\n",
    "[1,0.5,1.0],\n",
    "[1,0.5,0.875],\n",
    "[1,0.5,0.875]])\n",
    "\n",
    "print(X)\n",
    "\n",
    "y=np.array([[\n",
    "1,\n",
    "1,\n",
    "1,\n",
    "-1,\n",
    "-1,\n",
    "1,\n",
    "-1,\n",
    "-1,\n",
    "1,\n",
    "-1,\n",
    "1\n",
    "]]).T;\n",
    "\n",
    "print(y)"
   ]
  },
  {
   "cell_type": "markdown",
   "metadata": {},
   "source": [
    "Create a $w$ array with dimension 1 and X.shape[1] initialized to all ones, i.e. [[1,1,...,1]].\n",
    "\n",
    "Create a function to compute the loss (cost or error) function of logistic regression: \n",
    "$$\n",
    "E(w) = \\frac{1}{n} \\sum_{k=1}^n \\log(1+exp(-y^k*x^k @ w^T))\n",
    "$$\n",
    "where \"@\" is the matrix multiplication operator.\n",
    "Do not use loops. Utilize Numpy matrix operations. \n",
    "\n",
    "**Hints.**\n",
    "\n",
    "Create a function *error(x,y,w)* that returns $\\log(1+exp(-y*x@w^T))$. Use *np.log* and *np.exp*.\n",
    "\n",
    "Create a function *error_mean(X,y,w)* that calls *error(X,y,w)*. The latter returns an array of errors, one for each instance in X. Then sum these errors, and return the result divided by $n$. \n",
    "\n",
    "Do not hardcode $n$, but extract it from the shape of X. "
   ]
  },
  {
   "cell_type": "code",
   "execution_count": 3,
   "metadata": {},
   "outputs": [
    {
     "name": "stdout",
     "output_type": "stream",
     "text": [
      "None\n"
     ]
    }
   ],
   "source": [
    "w = np.ones((1,X.shape[1]))\n",
    "\n",
    "#TODO\n",
    "def error(x,y,w):\n",
    "    return None\n",
    "\n",
    "#TODO\n",
    "def error_mean(X,y,w):\n",
    "    return None\n",
    "\n",
    "print(error_mean(X,y,w))"
   ]
  },
  {
   "cell_type": "markdown",
   "metadata": {},
   "source": [
    "Expected output: \n",
    "\n",
    "1.15644629059"
   ]
  },
  {
   "cell_type": "markdown",
   "metadata": {},
   "source": [
    "Create a function to compute the gradient of the loss function at a point (given by w). \n",
    "Recall the the gradient function is:\n",
    "$$\n",
    "\\nabla_E(w) = -\\frac{1}{n} \\sum_{k=1}^{n} \\frac{y^k * x^k}{1+\\exp(y^k*x^k@w^T)}\n",
    "$$\n",
    "\n",
    "**Hints.**\n",
    "\n",
    "Create a function *grad(x,y,w)* that returns \n",
    "$$\\frac{y * x}{1+\\exp(y*x@w^T)}$$\n",
    "\n",
    "Create a function *grad_mean(X,y,w)* that calls *grad(X,y,w)* and computes and returns $\\nabla_E(w)$.\n",
    "\n",
    "Do not use loops. Do not hard-code $n$."
   ]
  },
  {
   "cell_type": "code",
   "execution_count": 4,
   "metadata": {},
   "outputs": [
    {
     "name": "stdout",
     "output_type": "stream",
     "text": [
      "None\n"
     ]
    }
   ],
   "source": [
    "#TODO\n",
    "def grad(x,y,w):\n",
    "    return None\n",
    "\n",
    "#TODO\n",
    "def grad_mean(X,y,w):\n",
    "    return None\n",
    "\n",
    "print(grad_mean(X,y,w))"
   ]
  },
  {
   "cell_type": "markdown",
   "metadata": {},
   "source": [
    "Expected output:\n",
    "[ 0.37959402  0.20802755  0.30424018]"
   ]
  },
  {
   "cell_type": "markdown",
   "metadata": {},
   "source": [
    "Implement the gradient descent algorithm for logistic regression. \n",
    "\n",
    "For this create a function *fit(X,y,kappa,iter)* starts with an all-zero array for $w$ and improves it using *iter* iterations. Record in a list E the value of the *error_mean(X,y,w)* after each iteration. Return w,E. \n",
    "\n",
    "Plotting list E should give a decreasing curve. "
   ]
  },
  {
   "cell_type": "code",
   "execution_count": 5,
   "metadata": {},
   "outputs": [
    {
     "name": "stdout",
     "output_type": "stream",
     "text": [
      "[[0. 0. 0.]]\n"
     ]
    },
    {
     "data": {
      "image/png": "[encoded data removed]",
      "text/plain": [
       "<Figure size 432x288 with 1 Axes>"
      ]
     },
     "metadata": {
      "needs_background": "light"
     },
     "output_type": "display_data"
    }
   ],
   "source": [
    "def fit(X,y,kappa,iter):\n",
    "    w = np.zeros((1,X.shape[1]))\n",
    "    E = []\n",
    "\n",
    "    #TODO\n",
    "    \n",
    "    return w,E\n",
    "\n",
    "w,E = fit(X,y,1,100)\n",
    "print(w)\n",
    "plt.plot(E)\n",
    "plt.show()"
   ]
  },
  {
   "cell_type": "markdown",
   "metadata": {},
   "source": [
    "Expected output: \n",
    "[[-1.98019655  2.00560449  1.0649168 ]]\n",
    "\n",
    "and a decreasing curve of errors. "
   ]
  },
  {
   "cell_type": "markdown",
   "metadata": {},
   "source": [
    "Ex 3 (10 pts). Logistic regression - Application\n",
    "--\n",
    "In the first part of this exercise, we'll build a logistic regression model to predict whether a student gets admitted to a university. Suppose that you are the administrator of a university department and you want to determine each applicant's chance of admission based on their results on two exams. You have historical data from previous applicants that you can use as a training set for logistic regression. For each training example, you have the applicant's scores on two exams and the admissions decision. To accomplish this, we're going to build a classification model that estimates the probability of admission based on the exam scores.\n",
    "\n",
    "Let's start by examining the data."
   ]
  },
  {
   "cell_type": "code",
   "execution_count": 6,
   "metadata": {},
   "outputs": [
    {
     "data": {
      "text/html": [
       "<div>\n",
       "<style scoped>\n",
       "    .dataframe tbody tr th:only-of-type {\n",
       "        vertical-align: middle;\n",
       "    }\n",
       "\n",
       "    .dataframe tbody tr th {\n",
       "        vertical-align: top;\n",
       "    }\n",
       "\n",
       "    .dataframe thead th {\n",
       "        text-align: right;\n",
       "    }\n",
       "</style>\n",
       "<table border=\"1\" class=\"dataframe\">\n",
       "  <thead>\n",
       "    <tr style=\"text-align: right;\">\n",
       "      <th></th>\n",
       "      <th>Exam 1</th>\n",
       "      <th>Exam 2</th>\n",
       "      <th>Admitted</th>\n",
       "    </tr>\n",
       "  </thead>\n",
       "  <tbody>\n",
       "    <tr>\n",
       "      <th>0</th>\n",
       "      <td>34.623660</td>\n",
       "      <td>78.024693</td>\n",
       "      <td>0</td>\n",
       "    </tr>\n",
       "    <tr>\n",
       "      <th>1</th>\n",
       "      <td>30.286711</td>\n",
       "      <td>43.894998</td>\n",
       "      <td>0</td>\n",
       "    </tr>\n",
       "    <tr>\n",
       "      <th>2</th>\n",
       "      <td>35.847409</td>\n",
       "      <td>72.902198</td>\n",
       "      <td>0</td>\n",
       "    </tr>\n",
       "    <tr>\n",
       "      <th>3</th>\n",
       "      <td>60.182599</td>\n",
       "      <td>86.308552</td>\n",
       "      <td>1</td>\n",
       "    </tr>\n",
       "    <tr>\n",
       "      <th>4</th>\n",
       "      <td>79.032736</td>\n",
       "      <td>75.344376</td>\n",
       "      <td>1</td>\n",
       "    </tr>\n",
       "  </tbody>\n",
       "</table>\n",
       "</div>"
      ],
      "text/plain": [
       "      Exam 1     Exam 2  Admitted\n",
       "0  34.623660  78.024693         0\n",
       "1  30.286711  43.894998         0\n",
       "2  35.847409  72.902198         0\n",
       "3  60.182599  86.308552         1\n",
       "4  79.032736  75.344376         1"
      ]
     },
     "execution_count": 6,
     "metadata": {},
     "output_type": "execute_result"
    }
   ],
   "source": [
    "import pandas as pd\n",
    "\n",
    "data = pd.read_csv('ex3data1.txt', header=None, names=['Exam 1', 'Exam 2', 'Admitted'])\n",
    "data.head()"
   ]
  },
  {
   "cell_type": "code",
   "execution_count": 7,
   "metadata": {
    "collapsed": true
   },
   "outputs": [],
   "source": [
    "# we use .values to obtain the underlying numpy array of the dataframe\n",
    "# we use iloc in order to access parts of the dataframe by using ranges; -1 is the last column\n",
    "X = data.iloc[:,0:-1].values\n",
    "\n",
    "# we normalize X\n",
    "maxX = np.max(X, axis=0)\n",
    "minX = np.min(X, axis=0)\n",
    "X = (X-minX)/(maxX-minX)\n",
    "#print( X )\n",
    "\n",
    "\n",
    "# we insert an all-ones column at index 0\n",
    "X = np.insert(X, 0, 1, axis=1)\n",
    "\n",
    "#print(X)\n",
    "\n",
    "y = data.iloc[:,-1:].values \n",
    "\n",
    "\n",
    "# we build a boolean index\n",
    "where_are_zeros = (y==0)\n",
    "y[where_are_zeros] = -1\n",
    "\n",
    "#print(y)\n",
    "\n",
    "# uncomment the above printouts to see what's going one"
   ]
  },
  {
   "cell_type": "markdown",
   "metadata": {},
   "source": [
    "Now let's make the above into a function to use later"
   ]
  },
  {
   "cell_type": "code",
   "execution_count": 8,
   "metadata": {
    "collapsed": true
   },
   "outputs": [],
   "source": [
    "def prepare(data):\n",
    "    X = data.iloc[:,0:-1].values\n",
    "\n",
    "    # we normalize X\n",
    "    maxX = np.max(X, axis=0)\n",
    "    minX = np.min(X, axis=0)\n",
    "    X = (X-minX)/(maxX-minX)\n",
    "\n",
    "    # we insert an all-ones column at index 0\n",
    "    X = np.insert(X, 0, 1, axis=1)\n",
    "\n",
    "    y = data.iloc[:,-1:].values \n",
    "\n",
    "    where_are_zeros = (y==0)\n",
    "    y[where_are_zeros] = -1\n",
    "    \n",
    "    return X,y\n",
    "\n",
    "\n",
    "X,y = prepare(data)\n",
    "#print(X)\n",
    "#print(y)"
   ]
  },
  {
   "cell_type": "markdown",
   "metadata": {},
   "source": [
    "Let's visualize X and y. We can create a function for that."
   ]
  },
  {
   "cell_type": "code",
   "execution_count": 9,
   "metadata": {},
   "outputs": [
    {
     "data": {
      "image/png": "[encoded data removed]",
      "text/plain": [
       "<Figure size 864x576 with 1 Axes>"
      ]
     },
     "metadata": {
      "needs_background": "light"
     },
     "output_type": "display_data"
    }
   ],
   "source": [
    "def visualize(X, y, col1=1, col2=2):\n",
    "    positive_indexes = np.where(y == 1)[0]  #only the first element of the result is needed, i.e. we do [0]\n",
    "    negative_indexes = np.where(y == -1)[0]\n",
    "\n",
    "    positive = X[positive_indexes]  # positive rows\n",
    "    negative = X[negative_indexes]  # negative rows\n",
    "\n",
    "    fig, ax = plt.subplots(figsize=(12,8))\n",
    "    ax.scatter(positive[:,1:2], positive[:,2:], s=50, c='b', marker='o', label='Positive')\n",
    "    ax.scatter(negative[:,1:2], negative[:,2:], s=50, c='r', marker='x', label='Negative')\n",
    "    ax.legend()\n",
    "    ax.set_xlabel('col' + str(col1))\n",
    "    ax.set_ylabel('col' + str(col2))\n",
    "\n",
    "    plt.show()\n",
    "    \n",
    "\n",
    "visualize(X,y)"
   ]
  },
  {
   "cell_type": "code",
   "execution_count": 10,
   "metadata": {},
   "outputs": [
    {
     "name": "stdout",
     "output_type": "stream",
     "text": [
      "[[0. 0. 0.]]\n"
     ]
    },
    {
     "data": {
      "image/png": "[encoded data removed]",
      "text/plain": [
       "<Figure size 432x288 with 1 Axes>"
      ]
     },
     "metadata": {
      "needs_background": "light"
     },
     "output_type": "display_data"
    }
   ],
   "source": [
    "w,E = fit(X,y,1,1000)\n",
    "print(w)\n",
    "plt.plot(E)\n",
    "plt.show()\n",
    "\n",
    "# We should get a decreasing curve"
   ]
  },
  {
   "cell_type": "markdown",
   "metadata": {},
   "source": [
    "Next we need to write a function that will output predictions for a dataset X using our learned parameters theta. We can then use this function to score the training accuracy of our classifier."
   ]
  },
  {
   "cell_type": "code",
   "execution_count": 11,
   "metadata": {},
   "outputs": [
    {
     "name": "stdout",
     "output_type": "stream",
     "text": [
      "None\n"
     ]
    }
   ],
   "source": [
    "#TODO\n",
    "def predict(w, X):\n",
    "    return None\n",
    "\n",
    "#TODO\n",
    "def accuracy(y,y_pred):\n",
    "    return None\n",
    "\n",
    "y_pred = predict(w,X)\n",
    "print( accuracy(y,y_pred) )"
   ]
  },
  {
   "cell_type": "markdown",
   "metadata": {},
   "source": [
    "Expected output: 0.89"
   ]
  },
  {
   "cell_type": "code",
   "execution_count": 12,
   "metadata": {
    "collapsed": true
   },
   "outputs": [],
   "source": [
    "def split_train_test(X,y,pct=80):\n",
    "    n = X.shape[0]\n",
    "    s = round(n * pct / 100)\n",
    "    \n",
    "    indices = np.random.permutation(n)\n",
    "    train_idx, test_idx = indices[:s], indices[s:]\n",
    "    \n",
    "    X_train, X_test = X[train_idx,:], X[test_idx,:]\n",
    "    y_train, y_test = y[train_idx,:], y[test_idx,:]\n",
    "    \n",
    "    return X_train, y_train, X_test, y_test"
   ]
  },
  {
   "cell_type": "code",
   "execution_count": 13,
   "metadata": {},
   "outputs": [
    {
     "name": "stdout",
     "output_type": "stream",
     "text": [
      "[[0. 0. 0.]]\n"
     ]
    },
    {
     "data": {
      "image/png": "[encoded data removed]",
      "text/plain": [
       "<Figure size 432x288 with 1 Axes>"
      ]
     },
     "metadata": {
      "needs_background": "light"
     },
     "output_type": "display_data"
    },
    {
     "name": "stdout",
     "output_type": "stream",
     "text": [
      "None\n"
     ]
    }
   ],
   "source": [
    "X_train, y_train, X_test, y_test = split_train_test(X,y,pct=80)\n",
    "w,E = fit(X_train,y_train,1,1000)\n",
    "print(w)\n",
    "plt.plot(E)\n",
    "plt.show()\n",
    "y_pred = predict(w,X_test)\n",
    "print( accuracy(y_test,y_pred) )"
   ]
  },
  {
   "cell_type": "markdown",
   "metadata": {},
   "source": [
    "Expected output: \n",
    "\n",
    "[[-8.10599158  9.01450903  8.71087333]]\n",
    "\n",
    "A decreasing curve. \n",
    "\n",
    "Accuracy: 0.95\n",
    "\n",
    "Results may vary due to the randomized nature of the train/test split. "
   ]
  },
  {
   "cell_type": "markdown",
   "metadata": {},
   "source": [
    "Ex. 3 (10 pts). Linear Regression\n",
    "--\n",
    "\n",
    "Extend the linear regression algorithm for Python on the slides to:\n",
    "\n",
    "1.\tRead the data from a file (regdata.csv)\n",
    "2.\tScale the attributes\n",
    "3.\tCompute the error at each iteration and save the error values in a list\n",
    "4.\tPlot the error list as a curve in the end\n",
    "5.\tFind a good learning rate based on the error curve.\n",
    "\n",
    "**Hints.**\n",
    "1. y in the slides of linear regression is a row matrix. So, when extracting it from the dataset be careful to turn it into a row matrix.\n",
    "2. Do not forget to add the \"dummy\" attribute (all ones) to X. \n",
    "3. For this dataset the kappa should be quite small in order to have a decreasing E. "
   ]
  }
 ],
 "metadata": {
  "kernelspec": {
   "display_name": "Python 3",
   "language": "python",
   "name": "python3"
  },
  "language_info": {
   "codemirror_mode": {
    "name": "ipython",
    "version": 3
   },
   "file_extension": ".py",
   "mimetype": "text/x-python",
   "name": "python",
   "nbconvert_exporter": "python",
   "pygments_lexer": "ipython3",
   "version": "3.6.6"
  }
 },
 "nbformat": 4,
 "nbformat_minor": 2
}
