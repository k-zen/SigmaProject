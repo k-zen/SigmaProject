{
 "cells": [
  {
   "cell_type": "code",
   "execution_count": 2,
   "metadata": {
    "collapsed": true
   },
   "outputs": [],
   "source": [
    "import numpy as np"
   ]
  },
  {
   "cell_type": "code",
   "execution_count": 14,
   "metadata": {},
   "outputs": [
    {
     "name": "stdout",
     "output_type": "stream",
     "text": [
      "E =  5.5625\n",
      "new w =  [[ 1.675  1.475]]\n",
      "new E =  2.40328125\n"
     ]
    }
   ],
   "source": [
    "X = np.array([[1,1], \n",
    "              [1,2]])\n",
    "\n",
    "y = np.array([[1.5, 2]])\n",
    "\n",
    "w = np.array([[2,2]])\n",
    "\n",
    "kappa = 0.1\n",
    "\n",
    "n = 2\n",
    "\n",
    "E = (1/(2*n)) * ( np.sum((y-w@X.T)**2) ) \n",
    "print(\"E = \", E)\n",
    "\n",
    "w = w + kappa*( (1/n)*( np.sum( (y-w@X.T).T*X, axis=0, keepdims=True ) ) )\n",
    "print(\"new w = \", w)\n",
    "\n",
    "E = (1/(2*n)) * ( np.sum((y-w@X.T)**2) ) \n",
    "print(\"new E = \", E)"
   ]
  }
 ],
 "metadata": {
  "kernelspec": {
   "display_name": "Python 3",
   "language": "python",
   "name": "python3"
  },
  "language_info": {
   "codemirror_mode": {
    "name": "ipython",
    "version": 3
   },
   "file_extension": ".py",
   "mimetype": "text/x-python",
   "name": "python",
   "nbconvert_exporter": "python",
   "pygments_lexer": "ipython3",
   "version": "3.6.6"
  }
 },
 "nbformat": 4,
 "nbformat_minor": 2
}
