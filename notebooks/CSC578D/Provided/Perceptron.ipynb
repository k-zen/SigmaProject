{
 "cells": [
  {
   "cell_type": "markdown",
   "metadata": {},
   "source": [
    "Perceptron update rule with numpy\n",
    "--\n",
    "\n",
    "This notebook implements the perceptron update rule with all misclassified training instances used in one shot rather than one at a time.  "
   ]
  },
  {
   "cell_type": "code",
   "execution_count": null,
   "metadata": {
    "collapsed": true
   },
   "outputs": [],
   "source": [
    "import numpy as np\n",
    "\n",
    "# This import is needed so that we can display full output in Jupyter, not only the last result.\n",
    "# Importing modules is explained later in this tutorial. \n",
    "# For the moment just execute this cell. \n",
    "\n",
    "from IPython.core.interactiveshell import InteractiveShell\n",
    "InteractiveShell.ast_node_interactivity = \"all\""
   ]
  },
  {
   "cell_type": "code",
   "execution_count": null,
   "metadata": {},
   "outputs": [],
   "source": [
    "X = np.array([\n",
    "[3,0.2,1],\n",
    "[1,0.3,1],\n",
    "[4,0.5,1],\n",
    "[2,0.7,1],\n",
    "[0,1.0,1],\n",
    "[1,1.2,1],\n",
    "[1,1.7,1],\n",
    "[6,0.2,1],\n",
    "[7,0.3,1],\n",
    "[6,0.7,1],\n",
    "[3,1.1,1],\n",
    "[2,1.5,1],\n",
    "[4,1.7,1],\n",
    "[2,1.9,1]\n",
    "])\n",
    "\n",
    "y = np.array([[-1,-1,-1,-1,-1,-1,-1,1,1,1,1,1,1,1,]])\n",
    "y=y.T\n",
    "\n",
    "X,y"
   ]
  },
  {
   "cell_type": "code",
   "execution_count": null,
   "metadata": {
    "collapsed": true
   },
   "outputs": [],
   "source": [
    "w = np.array([[0.3,0.8,-2.2]])"
   ]
  },
  {
   "cell_type": "code",
   "execution_count": null,
   "metadata": {},
   "outputs": [],
   "source": [
    "X@w.T\n",
    "y*X@w.T\n",
    "y*X@w.T<0\n",
    "(y*X@w.T<0).reshape(X.shape[0])\n",
    "XX = X[(y*X@w.T<0).reshape(X.shape[0]), :]\n",
    "yy = y[(y*X@w.T<0).reshape(X.shape[0]), :]\n",
    "XX\n",
    "yy\n",
    "Z = np.sum(yy*XX, axis=0, keepdims=True)\n",
    "Z"
   ]
  },
  {
   "cell_type": "code",
   "execution_count": null,
   "metadata": {},
   "outputs": [],
   "source": [
    "eta =0.01\n",
    "w = w + eta*Z\n",
    "w\n",
    "\n",
    "# Now we need to put this in a loop and execute several times until there is not classification error."
   ]
  }
 ],
 "metadata": {
  "kernelspec": {
   "display_name": "Python 3",
   "language": "python",
   "name": "python3"
  },
  "language_info": {
   "codemirror_mode": {
    "name": "ipython",
    "version": 3
   },
   "file_extension": ".py",
   "mimetype": "text/x-python",
   "name": "python",
   "nbconvert_exporter": "python",
   "pygments_lexer": "ipython3",
   "version": "3.6.6"
  }
 },
 "nbformat": 4,
 "nbformat_minor": 2
}
