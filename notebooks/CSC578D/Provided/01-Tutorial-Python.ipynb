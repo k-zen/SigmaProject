{
 "cells": [
  {
   "cell_type": "markdown",
   "metadata": {},
   "source": [
    "**Python Tutorial**\n",
    "--\n",
    "\n",
    "This is a simple Python tutorial based on https://learnxinyminutes.com/docs/python\n",
    "\n",
    "It assumes you have Python 3.5 or later installed. For this, install the latest (64 bit) Anaconda from https://www.anaconda.com/download\n",
    "\n",
    "When you install Anaconda, make sure it is on the \"PATH\", so that you can run commands from command prompt without specifying full path. In Windows for example, when you install Anaconda, make sure you check the box for adding Anaconda to the PATH. \n",
    "\n",
    "To run this notebook, open a command prompt window (terminal), go the directory where the file is located, then run\n",
    "\n",
    "*jupyter notebook*\n",
    "\n",
    "A browser window will open. Select there the notebook file to use. \n",
    "\n",
    "You can run the cells by doing \"CTRL-Enter\"."
   ]
  },
  {
   "cell_type": "markdown",
   "metadata": {},
   "source": [
    "Simple Constructs\n",
    "--"
   ]
  },
  {
   "cell_type": "code",
   "execution_count": null,
   "metadata": {
    "collapsed": true
   },
   "outputs": [],
   "source": [
    "# This import is needed so that we can display full output in Jupyter, not only the last result.\n",
    "# Importing modules is explained later in this tutorial. \n",
    "# For the moment just execute this cell. \n",
    "\n",
    "from IPython.core.interactiveshell import InteractiveShell\n",
    "InteractiveShell.ast_node_interactivity = \"all\""
   ]
  },
  {
   "cell_type": "code",
   "execution_count": null,
   "metadata": {},
   "outputs": [],
   "source": [
    "# Exponentiation (x to the yth power)\n",
    "2**4"
   ]
  },
  {
   "cell_type": "code",
   "execution_count": null,
   "metadata": {},
   "outputs": [],
   "source": [
    "# Boolean Operators\n",
    "# Note \"and\" and \"or\" are case-sensitive\n",
    "# Can also use &, |\n",
    "True and False\n",
    "False or True\n",
    "True & False\n",
    "False | True"
   ]
  },
  {
   "cell_type": "code",
   "execution_count": null,
   "metadata": {},
   "outputs": [],
   "source": [
    "# Equality is ==\n",
    "1 == 1\n",
    "2 == 1\n",
    "\n",
    "# Inequality is !=\n",
    "1 != 1\n",
    "2 != 1"
   ]
  },
  {
   "cell_type": "code",
   "execution_count": null,
   "metadata": {
    "collapsed": true
   },
   "outputs": [],
   "source": [
    "some_var = 5"
   ]
  },
  {
   "cell_type": "markdown",
   "metadata": {},
   "source": [
    "**Strings**\n",
    "--"
   ]
  },
  {
   "cell_type": "code",
   "execution_count": null,
   "metadata": {},
   "outputs": [],
   "source": [
    "# Strings are created with \" or '\n",
    "print(\"This is a string.\")\n",
    "print('This is also a string.')"
   ]
  },
  {
   "cell_type": "code",
   "execution_count": null,
   "metadata": {},
   "outputs": [],
   "source": [
    "# Strings can be added too!\n",
    "\"Hello \" + \"world!\""
   ]
  },
  {
   "cell_type": "code",
   "execution_count": null,
   "metadata": {},
   "outputs": [],
   "source": [
    "# A string can be treated like a list of characters\n",
    "\"This is a string\"[0]"
   ]
  },
  {
   "cell_type": "markdown",
   "metadata": {},
   "source": [
    "**Lists**\n",
    "--"
   ]
  },
  {
   "cell_type": "code",
   "execution_count": null,
   "metadata": {},
   "outputs": [],
   "source": [
    "# Lists store sequences\n",
    "li = []    # Empty list\n",
    "# You can start with a prefilled list\n",
    "other_li = [4, 5, 6]\n",
    "\n",
    "# Add stuff to the end of a list with append\n",
    "li.append(1)    # li is now [1]\n",
    "li.append(2)    # li is now [1, 2]\n",
    "li.append(3)    # li is now [1, 2, 3]\n",
    "li.append(4)    # li is now [1, 2, 3, 4]\n",
    "\n",
    "# Remove from the end with pop\n",
    "li.pop()        # => 4 and li is now [1, 2, 3]\n",
    "\n",
    "# Let's put it back\n",
    "li.append(4)    # li is now [1, 2, 3, 4] again."
   ]
  },
  {
   "cell_type": "code",
   "execution_count": null,
   "metadata": {},
   "outputs": [],
   "source": [
    "# Access a list like you would any array\n",
    "\n",
    "# Look at the first element\n",
    "li[0]\n",
    "\n",
    "# Look at the last element\n",
    "li[-1]"
   ]
  },
  {
   "cell_type": "markdown",
   "metadata": {},
   "source": [
    "**List slicing**\n",
    "--"
   ]
  },
  {
   "cell_type": "code",
   "execution_count": null,
   "metadata": {},
   "outputs": [],
   "source": [
    "li  = [1, 2, 3, 4]\n",
    "\n",
    "# You can look at ranges with slice syntax. \n",
    "# (It's a closed/open range.)\n",
    "li[1:3]"
   ]
  },
  {
   "cell_type": "code",
   "execution_count": null,
   "metadata": {},
   "outputs": [],
   "source": [
    "# Omit the first element\n",
    "li[1:]"
   ]
  },
  {
   "cell_type": "code",
   "execution_count": null,
   "metadata": {},
   "outputs": [],
   "source": [
    "# Omit the last element\n",
    "li[:-1]"
   ]
  },
  {
   "cell_type": "code",
   "execution_count": null,
   "metadata": {},
   "outputs": [],
   "source": [
    "# Omit the first and the last element\n",
    "li[1:-1]"
   ]
  },
  {
   "cell_type": "code",
   "execution_count": null,
   "metadata": {},
   "outputs": [],
   "source": [
    "# Remove arbitrary elements from a list with \"del\"\n",
    "del li[2]\n",
    "\n",
    "li"
   ]
  },
  {
   "cell_type": "code",
   "execution_count": null,
   "metadata": {},
   "outputs": [],
   "source": [
    "# You can add lists\n",
    "li + other_li"
   ]
  },
  {
   "cell_type": "code",
   "execution_count": null,
   "metadata": {
    "scrolled": true
   },
   "outputs": [],
   "source": [
    "# Check for membership in a list with \"in\"\n",
    "1 in li"
   ]
  },
  {
   "cell_type": "code",
   "execution_count": null,
   "metadata": {},
   "outputs": [],
   "source": [
    "# Examine the length with \"len()\"\n",
    "len(li)"
   ]
  },
  {
   "cell_type": "markdown",
   "metadata": {},
   "source": [
    "**Tuples**\n",
    "--"
   ]
  },
  {
   "cell_type": "code",
   "execution_count": null,
   "metadata": {},
   "outputs": [],
   "source": [
    "# Tuples are like lists but are immutable.\n",
    "tup = (1, 2, 3)\n",
    "tup[0]"
   ]
  },
  {
   "cell_type": "code",
   "execution_count": null,
   "metadata": {},
   "outputs": [],
   "source": [
    "# You can do all those list thingies on tuples too\n",
    "len(tup)\n",
    "tup + (4, 5, 6)\n",
    "tup[:2]\n",
    "2 in tup"
   ]
  },
  {
   "cell_type": "code",
   "execution_count": null,
   "metadata": {},
   "outputs": [],
   "source": [
    "# You can unpack tuples (or lists) into variables\n",
    "a, b, c = (1, 2, 3)     \n",
    "# a is now 1, b is now 2 and c is now 3\n",
    "\n",
    "a\n",
    "b \n",
    "c"
   ]
  },
  {
   "cell_type": "markdown",
   "metadata": {},
   "source": [
    "**Dictionaries**\n",
    "--"
   ]
  },
  {
   "cell_type": "code",
   "execution_count": null,
   "metadata": {},
   "outputs": [],
   "source": [
    "# They are like maps in Java\n",
    "# Let's create a dictionary of marks for students\n",
    "marks = {\"Bill\": 90, \"John\":80, \"Eva\":95}\n",
    "\n",
    "marks[\"Bill\"]"
   ]
  },
  {
   "cell_type": "code",
   "execution_count": null,
   "metadata": {},
   "outputs": [],
   "source": [
    "print(marks)"
   ]
  },
  {
   "cell_type": "code",
   "execution_count": null,
   "metadata": {},
   "outputs": [],
   "source": [
    "# Add a new student\n",
    "marks[\"Rich\"]=99\n",
    "\n",
    "print(marks)"
   ]
  },
  {
   "cell_type": "code",
   "execution_count": null,
   "metadata": {},
   "outputs": [],
   "source": [
    "# Check if a key is in the dictionary\n",
    "\n",
    "if \"Eva\" in marks:\n",
    "    print(\"Eva is in marks\")\n",
    "else:\n",
    "    print(\"Eva is not in marks\")"
   ]
  },
  {
   "cell_type": "code",
   "execution_count": null,
   "metadata": {},
   "outputs": [],
   "source": [
    "# Delete a key from dictionary\n",
    "\n",
    "marks.pop(\"Rich\", None)\n",
    "\n",
    "# This will return marks[\"Rich\"] if key exists in the dictionary, and None otherwise. \n",
    "# If the second parameter is not specified (i.e. marks.pop(\"Rich\")) \n",
    "# and key does not exist, a KeyError is raised.\n",
    "\n",
    "# If you run this cell multiple times, only the first run will produce output."
   ]
  },
  {
   "cell_type": "markdown",
   "metadata": {},
   "source": [
    "**Control Flow**\n",
    "--"
   ]
  },
  {
   "cell_type": "code",
   "execution_count": null,
   "metadata": {},
   "outputs": [],
   "source": [
    "# Let's just make a variable\n",
    "some_var = 5\n",
    "\n",
    "# Indentation is significant in python!\n",
    "# prints \"some_var is smaller than 10\"\n",
    "# Observe the : at the end of if clauses\n",
    "\n",
    "if some_var > 10:\n",
    "    print(\"some_var is totally bigger than 10.\")\n",
    "elif some_var < 10:    # This elif clause is optional.\n",
    "    print(\"some_var is smaller than 10.\")\n",
    "else:           # This is optional too.\n",
    "    print(\"some_var is indeed 10.\")"
   ]
  },
  {
   "cell_type": "code",
   "execution_count": null,
   "metadata": {},
   "outputs": [],
   "source": [
    "#For loops iterate over lists. \n",
    "for animal in [\"dog\", \"cat\", \"mouse\"]:\n",
    "    print(animal)"
   ]
  },
  {
   "cell_type": "code",
   "execution_count": null,
   "metadata": {},
   "outputs": [],
   "source": [
    "# range(n) returns a list of numbers from 0 to n-1\n",
    "for i in range(4):\n",
    "    print(i)"
   ]
  },
  {
   "cell_type": "code",
   "execution_count": null,
   "metadata": {},
   "outputs": [],
   "source": [
    "# the equivalent while formulation of the above\n",
    "x = 0\n",
    "while x < 4:\n",
    "    print(x)\n",
    "    x += 1"
   ]
  },
  {
   "cell_type": "markdown",
   "metadata": {},
   "source": [
    "**List Comprehensions**\n",
    "--\n",
    "\n",
    "Math notation examples:\n",
    "$$\\{x^2 : x\\in \\lbrack 3,4,5,6,7\\rbrack \\}$$\n",
    "\n",
    "$$\\{x : x\\in \\lbrack 3,4,5,6,7 \\rbrack \\land x>5\\}$$\n",
    "\n",
    "In Python it is very similar, \":\" becomes \"for\"."
   ]
  },
  {
   "cell_type": "code",
   "execution_count": null,
   "metadata": {},
   "outputs": [],
   "source": [
    "[x**2 for x in [3, 4, 5, 6, 7]]\n",
    "\n",
    "[x for x in [3, 4, 5, 6, 7] if x > 5]"
   ]
  },
  {
   "cell_type": "markdown",
   "metadata": {},
   "source": [
    "**Functions**\n",
    "--"
   ]
  },
  {
   "cell_type": "code",
   "execution_count": null,
   "metadata": {},
   "outputs": [],
   "source": [
    "# Use \"def\" to create new functions\n",
    "def add(x, y):\n",
    "    print(\"x is %s and y is %s\" % (x, y))\n",
    "    return x + y\n",
    "\n",
    "# Calling functions with parameters\n",
    "add(5, 6)"
   ]
  },
  {
   "cell_type": "code",
   "execution_count": null,
   "metadata": {},
   "outputs": [],
   "source": [
    "# Function with default parameter\n",
    "def add(x, y=10):\n",
    "    print(\"x is %s and y is %s\" % (x, y))\n",
    "    return x + y\n",
    "\n",
    "# Now, we can omit specifying y\n",
    "add(5)"
   ]
  },
  {
   "cell_type": "code",
   "execution_count": null,
   "metadata": {},
   "outputs": [],
   "source": [
    "# Function with default parameters\n",
    "def add(x=20, y=10):\n",
    "    print(\"x is %s and y is %s\" % (x, y))\n",
    "    return x + y\n",
    "\n",
    "# Now, we can omit specifying x and y\n",
    "add()\n",
    "\n",
    "# Or we can use keyed arguments\n",
    "add(x=25, y=10)\n",
    "\n",
    "# Good when we don't remember the order of parameters\n",
    "add(y=10, x=25)"
   ]
  },
  {
   "cell_type": "markdown",
   "metadata": {},
   "source": [
    "**Classes**\n",
    "--"
   ]
  },
  {
   "cell_type": "code",
   "execution_count": null,
   "metadata": {},
   "outputs": [],
   "source": [
    "# We subclass from object to get a class.\n",
    "class Human(object):\n",
    "\n",
    "    # Basic initializer (i.e. constructor); \n",
    "    # called when the class is instantiated (i.e. object created).\n",
    "    # \"self\" is like \"this\" in Java. \n",
    "    # In Python, we need to explicitly list \"self\" when we \n",
    "    # define a method, but not when we call it.\n",
    "    # Note that the double leading and trailing underscores denote objects\n",
    "    # or attributes that are used by python but that live in user-controlled\n",
    "    # namespaces. You should not invent such names on your own.\n",
    "    def __init__(self, name):\n",
    "        # Assign the argument to the instance's name attribute\n",
    "        self.name = name\n",
    "\n",
    "    # An instance method. All such methods take \"self\" as the first argument\n",
    "    def say(self, msg):\n",
    "        return self.name + \": \" + msg\n",
    "\n",
    "\n",
    "# Instantiate a class\n",
    "i = Human(name=\"Ian\")\n",
    "print(i.say(\"hi\"))"
   ]
  },
  {
   "cell_type": "markdown",
   "metadata": {},
   "source": [
    "Modules\n",
    "--"
   ]
  },
  {
   "cell_type": "code",
   "execution_count": null,
   "metadata": {},
   "outputs": [],
   "source": [
    "# You can import modules\n",
    "import math\n",
    "\n",
    "print(math.sqrt(16))"
   ]
  },
  {
   "cell_type": "code",
   "execution_count": null,
   "metadata": {},
   "outputs": [],
   "source": [
    "# You can get specific functions from a module\n",
    "from math import ceil, floor\n",
    "\n",
    "print(ceil(3.7))\n",
    "print(floor(3.7))"
   ]
  },
  {
   "cell_type": "code",
   "execution_count": null,
   "metadata": {},
   "outputs": [],
   "source": [
    "# You can shorten module names\n",
    "import math as m\n",
    "\n",
    "print(m.sqrt(16))  # => 4"
   ]
  }
 ],
 "metadata": {
  "kernelspec": {
   "display_name": "Python 3",
   "language": "python",
   "name": "python3"
  },
  "language_info": {
   "codemirror_mode": {
    "name": "ipython",
    "version": 3
   },
   "file_extension": ".py",
   "mimetype": "text/x-python",
   "name": "python",
   "nbconvert_exporter": "python",
   "pygments_lexer": "ipython3",
   "version": "3.7.0"
  }
 },
 "nbformat": 4,
 "nbformat_minor": 2
}
