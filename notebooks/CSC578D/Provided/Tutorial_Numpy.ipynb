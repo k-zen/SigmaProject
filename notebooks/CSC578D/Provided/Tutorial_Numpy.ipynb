{
 "cells": [
  {
   "cell_type": "markdown",
   "metadata": {},
   "source": [
    "Numpy Tutorial\n",
    "--"
   ]
  },
  {
   "cell_type": "code",
   "execution_count": null,
   "metadata": {
    "collapsed": true
   },
   "outputs": [],
   "source": [
    "import numpy as np\n",
    "\n",
    "\n",
    "# This import is needed so that we can display full output in Jupyter, not only the last result.\n",
    "# Importing modules is explained later in this tutorial. \n",
    "# For the moment just execute this cell. \n",
    "\n",
    "from IPython.core.interactiveshell import InteractiveShell\n",
    "InteractiveShell.ast_node_interactivity = \"all\""
   ]
  },
  {
   "cell_type": "markdown",
   "metadata": {},
   "source": [
    "Arrays\n",
    "--\n",
    "\n",
    "The main entity is the \"array\". They are also called tensors.\n",
    "\n",
    "Arrays have a shape, e.g. 3x4, which is represented by a tuple, e.g. (3,4)."
   ]
  },
  {
   "cell_type": "code",
   "execution_count": null,
   "metadata": {},
   "outputs": [],
   "source": [
    "a = np.array([1, 2, 3])  # Create a rank 1 array\n",
    "print (a.shape)            # Prints \"(3,)\"\n",
    "print (a[0], a[1], a[2])   # Prints \"1 2 3\"\n",
    "\n",
    "a[0] = 5                 # Change an element of the array\n",
    "print (a)                  # Prints \"[5, 2, 3]\""
   ]
  },
  {
   "cell_type": "code",
   "execution_count": null,
   "metadata": {},
   "outputs": [],
   "source": [
    "b = np.array([[1,2,3],[4,5,6]])   # Create a rank 2 array\n",
    "print (b.shape)                     # Prints \"(2, 3)\"\n",
    "print (b[0, 0], b[0, 1], b[1, 0])   # Prints \"1 2 4\""
   ]
  },
  {
   "cell_type": "markdown",
   "metadata": {},
   "source": [
    "Array Math\n",
    "--"
   ]
  },
  {
   "cell_type": "code",
   "execution_count": null,
   "metadata": {
    "collapsed": true
   },
   "outputs": [],
   "source": [
    "x = np.array( [[1,2],[3,4]] )\n",
    "y = np.array( [[5,6],[7,8]] )"
   ]
  },
  {
   "cell_type": "code",
   "execution_count": null,
   "metadata": {},
   "outputs": [],
   "source": [
    "# Elementwise sum\n",
    "z = x + y\n",
    "print (\"x+y = \\n\", z, \"\\n\")\n",
    "\n",
    "# Elementwise difference\n",
    "z = x - y\n",
    "print (\"x-y = \\n\", z, \"\\n\")\n",
    "\n",
    "# Elementwise product\n",
    "z = x * y\n",
    "print (\"x*y = \\n\", z, \"\\n\")"
   ]
  },
  {
   "cell_type": "code",
   "execution_count": null,
   "metadata": {},
   "outputs": [],
   "source": [
    "# Matrix / matrix product; \n",
    "# There are three different ways -- same result\n",
    "z = x.dot(y)\n",
    "print (\"x.dot(y) = \\n\", z, \"\\n\")\n",
    "\n",
    "z = np.dot(x, y)\n",
    "print (\"np.dot(x, y) = \\n\", z, \"\\n\")\n",
    "\n",
    "z = x @ y     # Only in Python 3\n",
    "print (\"x @ y = \\n\", z, \"\\n\")"
   ]
  },
  {
   "cell_type": "code",
   "execution_count": null,
   "metadata": {},
   "outputs": [],
   "source": [
    "# Matrix transpose\n",
    "z = x.T\n",
    "print (\"x.T = \\n\", z, \"\\n\")"
   ]
  },
  {
   "cell_type": "code",
   "execution_count": null,
   "metadata": {},
   "outputs": [],
   "source": [
    "# Multiplying a matrix with a number\n",
    "z = x * 2\n",
    "print (\"x*2 = \\n\", z, \"\\n\")"
   ]
  },
  {
   "cell_type": "code",
   "execution_count": null,
   "metadata": {},
   "outputs": [],
   "source": [
    "# Create a 3x4 array of zeros\n",
    "x = np.zeros((3,4))\n",
    "print(x)"
   ]
  },
  {
   "cell_type": "code",
   "execution_count": null,
   "metadata": {},
   "outputs": [],
   "source": [
    "# Create a 3x4 array of ones\n",
    "x = np.ones((3,4))\n",
    "print(x)"
   ]
  },
  {
   "cell_type": "code",
   "execution_count": null,
   "metadata": {},
   "outputs": [],
   "source": [
    "# Create an array of the given shape and populate it \n",
    "# with random samples from a uniform distribution over [0, 1).\n",
    "\n",
    "x = np.random.rand(3,4)\n",
    "print(x)"
   ]
  },
  {
   "cell_type": "code",
   "execution_count": null,
   "metadata": {},
   "outputs": [],
   "source": [
    "# Create an array of the given shape and populate it \n",
    "# with random samples from \"standard normal\" distribution\n",
    "# (mean = 0, var = 1).\n",
    "\n",
    "x = np.random.randn(3,4)\n",
    "print(x)"
   ]
  },
  {
   "cell_type": "markdown",
   "metadata": {},
   "source": [
    "Reshaping Arrays\n",
    "--"
   ]
  },
  {
   "cell_type": "code",
   "execution_count": null,
   "metadata": {},
   "outputs": [],
   "source": [
    "print(\"x = \\n\",x)\n",
    "\n",
    "z = np.reshape(x, (4,3))\n",
    "\n",
    "print(\"z = \\n\", z)"
   ]
  },
  {
   "cell_type": "code",
   "execution_count": null,
   "metadata": {},
   "outputs": [],
   "source": [
    "# We will often want to reshape 2D images to nx1 or 1xn arrays.\n",
    "\n",
    "z = np.reshape(x,(x.shape[0]*x.shape[1],1))\n",
    "\n",
    "print(\"z = \\n\", z)"
   ]
  },
  {
   "cell_type": "code",
   "execution_count": null,
   "metadata": {},
   "outputs": [],
   "source": [
    "# If we also call x.reshape(...); same as np.reshape(x,...)\n",
    "\n",
    "z = x.reshape((x.shape[0]*x.shape[1],1))\n",
    "\n",
    "print(\"z = \\n\", z)"
   ]
  },
  {
   "cell_type": "markdown",
   "metadata": {},
   "source": [
    "Array Slicing\n",
    "--\n",
    "Array slicing is similar to list slicing, but here we need to do slicing in each dimension."
   ]
  },
  {
   "cell_type": "code",
   "execution_count": null,
   "metadata": {},
   "outputs": [],
   "source": [
    "# Let's create an array\n",
    "a = np.array([[1,2,3,4], [5,6,7,8], [9,10,11,12]])\n",
    "print(a)"
   ]
  },
  {
   "cell_type": "code",
   "execution_count": null,
   "metadata": {},
   "outputs": [],
   "source": [
    "# Slice in the 1st dimension from 0 to 2 (not including 2)\n",
    "# Slice in the 2nd dimension from 1 to 3 (not including 3)\n",
    "b = a[0:2, 1:3]\n",
    "\n",
    "print(b)"
   ]
  },
  {
   "cell_type": "code",
   "execution_count": null,
   "metadata": {},
   "outputs": [],
   "source": [
    "# The previous example can also be written as follows.\n",
    "# We don't need to specify 0. \n",
    "b = a[:2, 1:3]\n",
    "\n",
    "print(b)"
   ]
  },
  {
   "cell_type": "code",
   "execution_count": null,
   "metadata": {},
   "outputs": [],
   "source": [
    "# Here is another example\n",
    "b = a[:2, 1:4]\n",
    "\n",
    "print(b)"
   ]
  },
  {
   "cell_type": "code",
   "execution_count": null,
   "metadata": {},
   "outputs": [],
   "source": [
    "# The previous example can also be written as follows.\n",
    "# We don't need to specify 4. \n",
    "b = a[:2, 1:]\n",
    "\n",
    "print(b)"
   ]
  },
  {
   "cell_type": "code",
   "execution_count": null,
   "metadata": {},
   "outputs": [],
   "source": [
    "# Negative indexes are used to count backwards from the end of a range. \n",
    "# Suppose we want all the rows of an array, and all the columns, except the last column.\n",
    "\n",
    "# Let's recall a\n",
    "print(\"a = \\n\", a)\n",
    "\n",
    "# Now let's take the slice we want\n",
    "b = a[:, :-1]\n",
    "\n",
    "print(\"b = \\n\", b)"
   ]
  },
  {
   "cell_type": "markdown",
   "metadata": {},
   "source": [
    "Numpy Math Functions\n",
    "--"
   ]
  },
  {
   "cell_type": "code",
   "execution_count": null,
   "metadata": {},
   "outputs": [],
   "source": [
    "# Let's create a 1x3 array\n",
    "a = np.array([[1,2,3,4]])\n",
    "\n",
    "# compute e^x for each number in the array\n",
    "print(\"np.exp(a) = \\n\", np.exp(a))\n",
    "\n",
    "# compute the log (base e) of each number in the array\n",
    "print(\"np.log(a) = \\n\", np.log(a))\n",
    "\n",
    "# See, numpy functions, such as exp and log, \n",
    "# take arrays as input and produce arrays as output. \n",
    "# They compute the function on each element of the input array."
   ]
  },
  {
   "cell_type": "markdown",
   "metadata": {},
   "source": [
    "**The Sigmoid Function**\n",
    "\n",
    "An important function in neural networks is the Sigmoid function, sometimes known as the logistic function\n",
    "$$\n",
    "sigmoid(x) = \\frac{1}{1+e^{-x}}.\n",
    "$$\n",
    "Let's implement it using numpy."
   ]
  },
  {
   "cell_type": "code",
   "execution_count": null,
   "metadata": {},
   "outputs": [],
   "source": [
    "def sigmoid(x):\n",
    "    return 1/(1+np.exp(-x))\n",
    "\n",
    "sigmoid(a)"
   ]
  },
  {
   "cell_type": "markdown",
   "metadata": {},
   "source": [
    "**Axis and keepdims**\n",
    "\n",
    "Some numpy functions, such as sum, avg, min, max, etc, take as input an array and return a number, e.g. the sum, average, min, max of the elements of the array. What if we want the sum, average, min, max of each row or each column? For this we use *axis* and *keepdims*. See examples below."
   ]
  },
  {
   "cell_type": "code",
   "execution_count": null,
   "metadata": {},
   "outputs": [],
   "source": [
    "# Let's create an array\n",
    "a = np.array([[1,2,3,4], [5,6,7,8], [9,10,11,12]])\n",
    "\n",
    "a\n",
    "\n",
    "# Sum of all elements in the array\n",
    "np.sum(a)\n",
    "\n",
    "# Sum of elements in each column\n",
    "np.sum(a, axis=0)\n",
    "\n",
    "# Sum of elements in each row\n",
    "np.sum(a, axis=1)\n",
    "\n",
    "# The problem with the above is that the result is not a 2D array. \n",
    "# If we need the result to be a 2D array, specify keepdims=True.\n",
    "\n",
    "np.sum(a, keepdims=True)\n",
    "\n",
    "np.sum(a, axis=0, keepdims=True)\n",
    "\n",
    "np.sum(a, axis=1, keepdims=True)"
   ]
  },
  {
   "cell_type": "markdown",
   "metadata": {},
   "source": [
    "Broadcasting\n",
    "--\n",
    "We can perform operations with arrays of different shapes. For example suppose we have an array \n",
    "$$\n",
    "a = \\begin{bmatrix}\n",
    "    1 & 2 & 3 & 4  \\\\\n",
    "    5 & 6 & 7 & 8 \\\\\n",
    "    9 & 10 & 11 & 12 \n",
    "\\end{bmatrix}\n",
    "$$\n",
    "and would like to multiply it with \n",
    "$$\n",
    "b = \\begin{bmatrix}\n",
    "    1 \\\\\n",
    "    5 \\\\\n",
    "    9  \n",
    "\\end{bmatrix}\n",
    "$$\n",
    "If we say $a*b$, array $b$ will be first expanded (broadcast) to \n",
    "\\begin{bmatrix}\n",
    "    1 & 1 & 1 & 1\\\\\n",
    "    5 & 5 & 5 & 5\\\\\n",
    "    9 & 9 & 9 & 9 \n",
    "\\end{bmatrix}\n",
    "then element-wise multiplication will be performed. "
   ]
  },
  {
   "cell_type": "code",
   "execution_count": null,
   "metadata": {},
   "outputs": [],
   "source": [
    "a\n",
    "\n",
    "b = np.array([[1],[5],[9]])\n",
    "\n",
    "b\n",
    "\n",
    "a*b"
   ]
  }
 ],
 "metadata": {
  "kernelspec": {
   "display_name": "Python 3",
   "language": "python",
   "name": "python3"
  },
  "language_info": {
   "codemirror_mode": {
    "name": "ipython",
    "version": 3
   },
   "file_extension": ".py",
   "mimetype": "text/x-python",
   "name": "python",
   "nbconvert_exporter": "python",
   "pygments_lexer": "ipython3",
   "version": "3.6.6"
  }
 },
 "nbformat": 4,
 "nbformat_minor": 2
}
