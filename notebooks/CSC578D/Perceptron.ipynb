{
 "cells": [
  {
   "cell_type": "markdown",
   "metadata": {},
   "source": [
    "# Perceptron Classifier / CSC 578D / Fall 2018\n",
    "\n",
    "### Notes:\n",
    "1. Dataset can be found __[here](http://www.apkc.net/data)__.\n",
    "1. See notes by hand __[here](http://www.apkc.net/_8)__.\n",
    "\n",
    "**Author:** Andreas P. Koenzen <akoenzen@uvic.ca>\n",
    "<br>\n",
    "**Version:** 0.1"
   ]
  },
  {
   "cell_type": "code",
   "execution_count": null,
   "metadata": {},
   "outputs": [],
   "source": [
    "%matplotlib inline\n",
    "\n",
    "import pandas as pd\n",
    "import numpy as np\n",
    "import matplotlib as mpl\n",
    "import matplotlib.pyplot as plt\n",
    "import matplotlib.animation as ani\n",
    "\n",
    "from mpl_toolkits import mplot3d\n",
    "\n",
    "from IPython.core.interactiveshell import InteractiveShell\n",
    "InteractiveShell.ast_node_interactivity = \"all\"\n",
    "\n",
    "from IPython.display import HTML\n",
    "\n",
    "mpl.rcParams['animation.embed_limit'] = 100"
   ]
  },
  {
   "cell_type": "markdown",
   "metadata": {},
   "source": [
    "### Bankruptcy example:\n",
    "- L = is the number of late payments on credit cards over the past year.\n",
    "- R = is the ratio of earnings to expenses (earnings : expenses).\n",
    "- Bankrupt = **-1 is NO / 1 is YES**."
   ]
  },
  {
   "cell_type": "code",
   "execution_count": null,
   "metadata": {},
   "outputs": [],
   "source": [
    "data = pd.read_csv(\"http://www.apkc.net/data/csc_578d/perceptron_1.csv\")\n",
    "data"
   ]
  },
  {
   "cell_type": "markdown",
   "metadata": {},
   "source": [
    "### Plot the data:"
   ]
  },
  {
   "cell_type": "code",
   "execution_count": null,
   "metadata": {},
   "outputs": [],
   "source": [
    "_, ax = plt.subplots(figsize=(8, 4))\n",
    "data.plot.scatter(x=1, \n",
    "                  y=0, \n",
    "                  c=2, \n",
    "                  colormap='jet', \n",
    "                  ax=ax)\n",
    "_ = ax.set_xlabel('Earning:Expenses', fontsize=14)\n",
    "_ = ax.set_ylabel('Late Payments', fontsize=14)\n",
    "_ = plt.title('# of Late Payments on CC vs. Earning:Expenses', fontsize=14)\n",
    "plt.show();"
   ]
  },
  {
   "cell_type": "markdown",
   "metadata": {},
   "source": [
    "### Compute the weights of the line:\n",
    "\n",
    "Do N iterations and test the classifier."
   ]
  },
  {
   "cell_type": "code",
   "execution_count": null,
   "metadata": {},
   "outputs": [],
   "source": [
    "iterations = 200\n",
    "eta = 0.01\n",
    "debug = False\n",
    "w = np.array([[1.0, 1.0, 1.0]])\n",
    "plot_data = []\n",
    "\n",
    "for k in range(iterations):\n",
    "    # create vector x: should be feature #2, feature #1, y-intercept or feature #0\n",
    "    # 1. add the feature #0 to the X vector\n",
    "    w0 = np.ones((len(data.index), 1), dtype=float)\n",
    "    x = np.hstack([data.values[:,:2], w0])\n",
    "    if debug:\n",
    "        if k + 1 == iterations:\n",
    "            x\n",
    "\n",
    "    # 2. create the y vector. the class vector and compute its transpose\n",
    "    y = np.array([[-1, -1, -1, -1, -1, -1, -1, 1, 1, 1, 1, 1, 1, 1]])\n",
    "    y = y.T\n",
    "    if debug:\n",
    "        if k + 1 == iterations:\n",
    "            y\n",
    "\n",
    "    # 4. compute the dot product of x.w\n",
    "    # x @ w.T\n",
    "\n",
    "    # 5. multiply by y\n",
    "    # y * (x @ w.T)\n",
    "\n",
    "    # 6. nudge vector w\n",
    "    # select instances that evaluate to True (Wrongly classified) and add them \n",
    "    # to a new array. the line: ((y * (x @ w.T)) < 0).reshape(x.shape[0]) \n",
    "    # creates a 1D array of boolean values which is used as row evaluation \n",
    "    # subscript in x. only rows that evaluate to TRUE will be added to the xx array.\n",
    "    xx = x[((y * (x @ w.T)) < 0).reshape(x.shape[0]), :]\n",
    "    yy = y[((y * (x @ w.T)) < 0).reshape(x.shape[0]), :]\n",
    "    # debug\n",
    "    if debug:\n",
    "        if k + 1 == iterations:\n",
    "            ((y * (x @ w.T)) < 0)\n",
    "            xx\n",
    "            yy\n",
    "        \n",
    "    z = np.sum(yy * xx, axis=0, keepdims=True)\n",
    "    if debug:\n",
    "        if k + 1 == iterations:\n",
    "            z\n",
    "    \n",
    "    if debug:\n",
    "        if k + 1 == iterations:\n",
    "            nyx = ((yy * xx) * eta)\n",
    "            nyx\n",
    "    \n",
    "    w = w + (z * eta)\n",
    "    if debug:\n",
    "        if k + 1 == iterations:\n",
    "            w\n",
    "            \n",
    "    # 7. Append to plot data.\n",
    "    plot_data.append(w)\n",
    "\n",
    "# w"
   ]
  },
  {
   "cell_type": "markdown",
   "metadata": {},
   "source": [
    "### Animate the weight vector:"
   ]
  },
  {
   "cell_type": "code",
   "execution_count": null,
   "metadata": {
    "scrolled": false
   },
   "outputs": [],
   "source": [
    "# FOR 2D PLOTTING:\n",
    "fig1, ax1 = plt.subplots(figsize=(8, 4))\n",
    "_ = ax1.set_xlabel('Earning:Expenses', fontsize=14)\n",
    "_ = ax1.set_ylabel('Late Payments', fontsize=14)\n",
    "_ = plt.title('# of Late Payments on CC vs. Earning:Expenses', fontsize=14)\n",
    "_ = ax1.scatter(x=data.values[:,1:2],\n",
    "                y=data.values[:,0:1], \n",
    "                c=data.values[:,2:], \n",
    "                cmap='jet')\n",
    "line, = ax1.plot([], [], c= \"red\")\n",
    "\n",
    "def init():\n",
    "    line.set_data([], [])\n",
    "    return line,\n",
    "\n",
    "def animate(i, ax):    \n",
    "    w2 = np.asscalar(plot_data[i][0][0])\n",
    "    w1 = np.asscalar(plot_data[i][0][1])\n",
    "    w0 = np.asscalar(plot_data[i][0][2])\n",
    "        \n",
    "    x = np.linspace(0.0, 2.0, num=10)\n",
    "    y = [((-(w1 * k) - (w0)) / w2) for k in x]\n",
    "    line.set_data(x, y)\n",
    "    \n",
    "    ax.legend([\n",
    "        \"Iteration {}\".format(i + 1), \n",
    "        \"w2:{:.2f} w1:{:.2f} w0:{:.2f}\".format(w2, w1, w0)\n",
    "    ])\n",
    "    \n",
    "    return line,\n",
    "\n",
    "anim = ani.FuncAnimation(fig1,\n",
    "                         animate,\n",
    "                         init_func=init,\n",
    "                         frames=iterations, \n",
    "                         fargs=(ax1,))\n",
    "plt.close()\n",
    "HTML(anim.to_jshtml())\n",
    "\n",
    "# FOR 3D PLOTTING, WHICH IN THIS CASE DOESN'T MAKE MUCH SENSE.\n",
    "# fig1 = plt.figure(figsize=(8, 8))\n",
    "# ax1 = fig1.gca(projection='3d')\n",
    "\n",
    "# _ = ax1.view_init(azim = 135, elev = 15)\n",
    "# _ = ax1.set_xlabel('Earning:Expenses', fontsize=12)\n",
    "# _ = ax1.set_ylabel('Late Payments', fontsize=12)\n",
    "# _ = ax1.set_zlabel('Class', fontsize=12)\n",
    "# _ = plt.title('# of Late Payments on CC vs. Earning:Expenses', fontsize=12)\n",
    "\n",
    "# _ = ax1.scatter3D(xs=data.values[:,1:2],\n",
    "#                   ys=data.values[:,0:1],\n",
    "#                   zs=data.values[:,2:],\n",
    "#                   c=data.values[:,2:].ravel(),\n",
    "#                   cmap='jet')\n",
    "# line, = ax1.plot3D([], [], [], c= \"red\")\n",
    "\n",
    "# def init():\n",
    "#     line.set_data([], [])\n",
    "#     line.set_3d_properties([])\n",
    "#     return line,\n",
    "\n",
    "# def animate(i, ax):\n",
    "#     ax.legend([\"Iteration {}\".format(i + 1)])\n",
    "    \n",
    "#     w2 = np.asscalar(plot_data[i][0][0])\n",
    "#     w1 = np.asscalar(plot_data[i][0][1])\n",
    "#     w0 = np.asscalar(plot_data[i][0][2])\n",
    "        \n",
    "#     x = np.linspace(0.0, 2.0, num=10)\n",
    "#     y = [((-(w1 * k) - (w0)) / w2) for k in x]\n",
    "#     line.set_data(x, y)\n",
    "    \n",
    "#     z = np.linspace(-1.0, 1.0, num=10)\n",
    "#     line.set_3d_properties(z)\n",
    "    \n",
    "#     return line,\n",
    "\n",
    "# anim = ani.FuncAnimation(fig1,\n",
    "#                          animate,\n",
    "#                          init_func=init,\n",
    "#                          frames=iterations, \n",
    "#                          fargs=(ax1,))\n",
    "# plt.close()\n",
    "# HTML(anim.to_jshtml())"
   ]
  },
  {
   "cell_type": "markdown",
   "metadata": {},
   "source": [
    "### Plot the final line:"
   ]
  },
  {
   "cell_type": "code",
   "execution_count": null,
   "metadata": {},
   "outputs": [],
   "source": [
    "_, ax = plt.subplots(figsize=(8, 4))\n",
    "data.plot.scatter(x=1, \n",
    "                  y=0, \n",
    "                  c=2, \n",
    "                  colormap='jet', \n",
    "                  ax=ax)\n",
    "w2 = np.asscalar(w[0][0])\n",
    "w1 = np.asscalar(w[0][1])\n",
    "w0 = np.asscalar(w[0][2])\n",
    "x = np.linspace(0.0, 2.0, num=10)\n",
    "y = [((-(w1 * k) - (w0)) / w2) for k in x]\n",
    "plt.plot(x, y, c= \"red\")\n",
    "_ = ax.set_xlabel('Earning:Expenses', fontsize=14)\n",
    "_ = ax.set_ylabel('Late Payments', fontsize=14)\n",
    "_ = plt.title('# of Late Payments on CC vs. Earning:Expenses', fontsize=14)\n",
    "plt.show();"
   ]
  },
  {
   "cell_type": "markdown",
   "metadata": {},
   "source": [
    "***\n",
    "# END"
   ]
  }
 ],
 "metadata": {
  "kernelspec": {
   "display_name": "Python 3",
   "language": "python",
   "name": "python3"
  },
  "language_info": {
   "codemirror_mode": {
    "name": "ipython",
    "version": 3
   },
   "file_extension": ".py",
   "mimetype": "text/x-python",
   "name": "python",
   "nbconvert_exporter": "python",
   "pygments_lexer": "ipython3",
   "version": "3.6.6"
  }
 },
 "nbformat": 4,
 "nbformat_minor": 2
}
