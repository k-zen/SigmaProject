{
 "cells": [
  {
   "cell_type": "markdown",
   "metadata": {},
   "source": [
    "# Perceptron Classifier / CSC 578D / Fall 2018\n",
    "\n",
    "### Notes:\n",
    "1. Dataset can be found __[here](http://www.apkc.net/data)__.\n",
    "1. See notes by hand __[here](http://www.apkc.net)__.\n",
    "\n",
    "**Author:** Andreas P. Koenzen <akoenzen@uvic.ca>\n",
    "<br>\n",
    "**Version:** 0.1"
   ]
  },
  {
   "cell_type": "code",
   "execution_count": 22,
   "metadata": {},
   "outputs": [],
   "source": [
    "import pandas as pd\n",
    "import numpy as np\n",
    "import matplotlib.pyplot as plt\n",
    "\n",
    "from IPython.core.interactiveshell import InteractiveShell\n",
    "InteractiveShell.ast_node_interactivity = \"all\""
   ]
  },
  {
   "cell_type": "markdown",
   "metadata": {},
   "source": [
    "### Bankruptcy example:\n",
    "- L = is the number of late payments on credit cards over the past year.\n",
    "- R = is the ratio of earnings to expenses (earnings : expenses).\n",
    "- Bankrupt = **-1 is NO / 1 is YES**."
   ]
  },
  {
   "cell_type": "code",
   "execution_count": 19,
   "metadata": {},
   "outputs": [
    {
     "data": {
      "text/html": [
       "<div>\n",
       "<style scoped>\n",
       "    .dataframe tbody tr th:only-of-type {\n",
       "        vertical-align: middle;\n",
       "    }\n",
       "\n",
       "    .dataframe tbody tr th {\n",
       "        vertical-align: top;\n",
       "    }\n",
       "\n",
       "    .dataframe thead th {\n",
       "        text-align: right;\n",
       "    }\n",
       "</style>\n",
       "<table border=\"1\" class=\"dataframe\">\n",
       "  <thead>\n",
       "    <tr style=\"text-align: right;\">\n",
       "      <th></th>\n",
       "      <th>L</th>\n",
       "      <th>R</th>\n",
       "      <th>Bankupt</th>\n",
       "    </tr>\n",
       "  </thead>\n",
       "  <tbody>\n",
       "    <tr>\n",
       "      <th>0</th>\n",
       "      <td>3</td>\n",
       "      <td>0.2</td>\n",
       "      <td>-1</td>\n",
       "    </tr>\n",
       "    <tr>\n",
       "      <th>1</th>\n",
       "      <td>1</td>\n",
       "      <td>0.3</td>\n",
       "      <td>-1</td>\n",
       "    </tr>\n",
       "    <tr>\n",
       "      <th>2</th>\n",
       "      <td>4</td>\n",
       "      <td>0.5</td>\n",
       "      <td>-1</td>\n",
       "    </tr>\n",
       "    <tr>\n",
       "      <th>3</th>\n",
       "      <td>2</td>\n",
       "      <td>0.7</td>\n",
       "      <td>-1</td>\n",
       "    </tr>\n",
       "    <tr>\n",
       "      <th>4</th>\n",
       "      <td>0</td>\n",
       "      <td>1.0</td>\n",
       "      <td>-1</td>\n",
       "    </tr>\n",
       "    <tr>\n",
       "      <th>5</th>\n",
       "      <td>1</td>\n",
       "      <td>1.2</td>\n",
       "      <td>-1</td>\n",
       "    </tr>\n",
       "    <tr>\n",
       "      <th>6</th>\n",
       "      <td>1</td>\n",
       "      <td>1.7</td>\n",
       "      <td>-1</td>\n",
       "    </tr>\n",
       "    <tr>\n",
       "      <th>7</th>\n",
       "      <td>6</td>\n",
       "      <td>0.2</td>\n",
       "      <td>1</td>\n",
       "    </tr>\n",
       "    <tr>\n",
       "      <th>8</th>\n",
       "      <td>7</td>\n",
       "      <td>0.3</td>\n",
       "      <td>1</td>\n",
       "    </tr>\n",
       "    <tr>\n",
       "      <th>9</th>\n",
       "      <td>6</td>\n",
       "      <td>0.7</td>\n",
       "      <td>1</td>\n",
       "    </tr>\n",
       "    <tr>\n",
       "      <th>10</th>\n",
       "      <td>3</td>\n",
       "      <td>1.1</td>\n",
       "      <td>1</td>\n",
       "    </tr>\n",
       "    <tr>\n",
       "      <th>11</th>\n",
       "      <td>2</td>\n",
       "      <td>1.5</td>\n",
       "      <td>1</td>\n",
       "    </tr>\n",
       "    <tr>\n",
       "      <th>12</th>\n",
       "      <td>4</td>\n",
       "      <td>1.7</td>\n",
       "      <td>1</td>\n",
       "    </tr>\n",
       "    <tr>\n",
       "      <th>13</th>\n",
       "      <td>2</td>\n",
       "      <td>1.9</td>\n",
       "      <td>1</td>\n",
       "    </tr>\n",
       "  </tbody>\n",
       "</table>\n",
       "</div>"
      ],
      "text/plain": [
       "    L    R  Bankupt\n",
       "0   3  0.2       -1\n",
       "1   1  0.3       -1\n",
       "2   4  0.5       -1\n",
       "3   2  0.7       -1\n",
       "4   0  1.0       -1\n",
       "5   1  1.2       -1\n",
       "6   1  1.7       -1\n",
       "7   6  0.2        1\n",
       "8   7  0.3        1\n",
       "9   6  0.7        1\n",
       "10  3  1.1        1\n",
       "11  2  1.5        1\n",
       "12  4  1.7        1\n",
       "13  2  1.9        1"
      ]
     },
     "execution_count": 19,
     "metadata": {},
     "output_type": "execute_result"
    }
   ],
   "source": [
    "data = pd.read_csv(\"http://www.apkc.net/data/csc_578d/perceptron_1.csv\")\n",
    "data"
   ]
  },
  {
   "cell_type": "markdown",
   "metadata": {},
   "source": [
    "### Plot the data:"
   ]
  },
  {
   "cell_type": "code",
   "execution_count": 101,
   "metadata": {},
   "outputs": [
    {
     "data": {
      "text/plain": [
       "<matplotlib.axes._subplots.AxesSubplot at 0x11eab9898>"
      ]
     },
     "execution_count": 101,
     "metadata": {},
     "output_type": "execute_result"
    },
    {
     "data": {
      "text/plain": [
       "[Text(0,0.5,'L'), Text(0.5,0,'R')]"
      ]
     },
     "execution_count": 101,
     "metadata": {},
     "output_type": "execute_result"
    },
    {
     "data": {
      "image/png": "[encoded data removed]",
      "text/plain": [
       "<Figure size 432x288 with 2 Axes>"
      ]
     },
     "metadata": {
      "needs_background": "light"
     },
     "output_type": "display_data"
    }
   ],
   "source": [
    "fig, ax = plt.subplots()\n",
    "data.plot.scatter(x=1, y=0, c=2, colormap='jet', ax=ax)\n",
    "ax.set(xlabel='R', ylabel='L')\n",
    "plt.show()"
   ]
  },
  {
   "cell_type": "markdown",
   "metadata": {},
   "source": [
    "### Compute the weights of the line:\n",
    "\n",
    "Do N iterations and test the classifier."
   ]
  },
  {
   "cell_type": "code",
   "execution_count": 100,
   "metadata": {},
   "outputs": [
    {
     "data": {
      "text/plain": [
       "array([[3. , 0.2, 1. ],\n",
       "       [1. , 0.3, 1. ],\n",
       "       [4. , 0.5, 1. ],\n",
       "       [2. , 0.7, 1. ],\n",
       "       [0. , 1. , 1. ],\n",
       "       [1. , 1.2, 1. ],\n",
       "       [1. , 1.7, 1. ],\n",
       "       [6. , 0.2, 1. ],\n",
       "       [7. , 0.3, 1. ],\n",
       "       [6. , 0.7, 1. ],\n",
       "       [3. , 1.1, 1. ],\n",
       "       [2. , 1.5, 1. ],\n",
       "       [4. , 1.7, 1. ],\n",
       "       [2. , 1.9, 1. ]])"
      ]
     },
     "execution_count": 100,
     "metadata": {},
     "output_type": "execute_result"
    },
    {
     "data": {
      "text/plain": [
       "array([[-1],\n",
       "       [-1],\n",
       "       [-1],\n",
       "       [-1],\n",
       "       [-1],\n",
       "       [-1],\n",
       "       [-1],\n",
       "       [ 1],\n",
       "       [ 1],\n",
       "       [ 1],\n",
       "       [ 1],\n",
       "       [ 1],\n",
       "       [ 1],\n",
       "       [ 1]])"
      ]
     },
     "execution_count": 100,
     "metadata": {},
     "output_type": "execute_result"
    },
    {
     "data": {
      "text/plain": [
       "array([[False],\n",
       "       [False],\n",
       "       [False],\n",
       "       [False],\n",
       "       [False],\n",
       "       [False],\n",
       "       [False],\n",
       "       [False],\n",
       "       [False],\n",
       "       [False],\n",
       "       [False],\n",
       "       [False],\n",
       "       [False],\n",
       "       [False]])"
      ]
     },
     "execution_count": 100,
     "metadata": {},
     "output_type": "execute_result"
    },
    {
     "data": {
      "text/plain": [
       "array([], shape=(0, 3), dtype=float64)"
      ]
     },
     "execution_count": 100,
     "metadata": {},
     "output_type": "execute_result"
    },
    {
     "data": {
      "text/plain": [
       "array([], shape=(0, 1), dtype=int64)"
      ]
     },
     "execution_count": 100,
     "metadata": {},
     "output_type": "execute_result"
    },
    {
     "data": {
      "text/plain": [
       "array([[0., 0., 0.]])"
      ]
     },
     "execution_count": 100,
     "metadata": {},
     "output_type": "execute_result"
    },
    {
     "data": {
      "text/plain": [
       "array([], shape=(0, 3), dtype=float64)"
      ]
     },
     "execution_count": 100,
     "metadata": {},
     "output_type": "execute_result"
    },
    {
     "data": {
      "text/plain": [
       "array([[ 0.09 ,  0.221, -0.51 ]])"
      ]
     },
     "execution_count": 100,
     "metadata": {},
     "output_type": "execute_result"
    },
    {
     "data": {
      "text/plain": [
       "array([[ 0.09 ,  0.221, -0.51 ]])"
      ]
     },
     "execution_count": 100,
     "metadata": {},
     "output_type": "execute_result"
    }
   ],
   "source": [
    "iterations = 500\n",
    "\n",
    "# initialize vector w to all 1.0\n",
    "# w = np.array([[1.0, 1.0, 1.0]])\n",
    "w = np.array([[1.0, 1.0, 1.0]])\n",
    "# w\n",
    "\n",
    "for k in range(iterations):\n",
    "    # create vector x: should be feature #2, feature #1, y-intercept or feature #0\n",
    "    # 1. add the feature #0 to the X vector\n",
    "    w0 = np.ones((len(data.index), 1), dtype=float)\n",
    "    x = np.hstack([data.values[:,:2], w0])\n",
    "    if k + 1 == iterations:\n",
    "        x\n",
    "\n",
    "    # 2. create the y vector. the class vector and compute its transpose\n",
    "    y = np.array([[-1, -1, -1, -1, -1, -1, -1, 1, 1, 1, 1, 1, 1, 1]])\n",
    "    y = y.T\n",
    "    if k + 1 == iterations:\n",
    "        y\n",
    "\n",
    "    # 4. compute the dot product of x.w\n",
    "    # x @ w.T\n",
    "\n",
    "    # 5. multiply by y\n",
    "    # y * (x @ w.T)\n",
    "\n",
    "    # 6. nudge vector w\n",
    "    # select instances that evaluate to True (Wrongly classified) and add them to a new array.\n",
    "    # the line: ((y * (x @ w.T)) < 0).reshape(x.shape[0]) creates a 1D array of boolean values\n",
    "    # which is used as row evaluation subscript in x. only rows that evaluate to TRUE will\n",
    "    # be added to the xx array.\n",
    "    xx = x[((y * (x @ w.T)) < 0).reshape(x.shape[0]), :]\n",
    "    yy = y[((y * (x @ w.T)) < 0).reshape(x.shape[0]), :]\n",
    "    # debug\n",
    "    if k + 1 == iterations:\n",
    "        ((y * (x @ w.T)) < 0)\n",
    "        xx\n",
    "        yy\n",
    "        \n",
    "    z = np.sum(yy * xx, axis=0, keepdims=True)\n",
    "    if k + 1 == iterations:\n",
    "        z\n",
    "    \n",
    "    if k + 1 == iterations:\n",
    "        nyx = ((yy * xx) * 0.01)\n",
    "        nyx\n",
    "    \n",
    "    w = w + (z * 0.01)\n",
    "    if k + 1 == iterations:\n",
    "        w\n",
    "    \n",
    "w"
   ]
  },
  {
   "cell_type": "markdown",
   "metadata": {},
   "source": [
    "### Plot the line:"
   ]
  },
  {
   "cell_type": "code",
   "execution_count": 108,
   "metadata": {},
   "outputs": [
    {
     "data": {
      "text/plain": [
       "<matplotlib.axes._subplots.AxesSubplot at 0x11f0cbd30>"
      ]
     },
     "execution_count": 108,
     "metadata": {},
     "output_type": "execute_result"
    },
    {
     "data": {
      "text/plain": [
       "[Text(0,0.5,'L'), Text(0.5,0,'R')]"
      ]
     },
     "execution_count": 108,
     "metadata": {},
     "output_type": "execute_result"
    },
    {
     "data": {
      "text/plain": [
       "[<matplotlib.lines.Line2D at 0x11e42da20>]"
      ]
     },
     "execution_count": 108,
     "metadata": {},
     "output_type": "execute_result"
    },
    {
     "data": {
      "image/png": "[encoded data removed]",
      "text/plain": [
       "<Figure size 432x288 with 2 Axes>"
      ]
     },
     "metadata": {
      "needs_background": "light"
     },
     "output_type": "display_data"
    }
   ],
   "source": [
    "fig, ax = plt.subplots()\n",
    "\n",
    "# draw the scatter plot\n",
    "data.plot.scatter(x=1, y=0, c=2, colormap='jet', ax=ax)\n",
    "ax.set(xlabel='R', ylabel='L')\n",
    "\n",
    "# draw the line\n",
    "plt.plot(\n",
    "    [(-(0.09*k) - (-0.51)) / 0.221 for k in range(7)],\n",
    "    range(7), \n",
    "    c= \"red\"\n",
    ")\n",
    "\n",
    "plt.show()"
   ]
  }
 ],
 "metadata": {
  "kernelspec": {
   "display_name": "Python 3",
   "language": "python",
   "name": "python3"
  },
  "language_info": {
   "codemirror_mode": {
    "name": "ipython",
    "version": 3
   },
   "file_extension": ".py",
   "mimetype": "text/x-python",
   "name": "python",
   "nbconvert_exporter": "python",
   "pygments_lexer": "ipython3",
   "version": "3.6.6"
  }
 },
 "nbformat": 4,
 "nbformat_minor": 2
}
