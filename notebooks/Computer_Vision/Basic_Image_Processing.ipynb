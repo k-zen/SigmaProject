{
 "cells": [
  {
   "cell_type": "markdown",
   "metadata": {},
   "source": [
    "# Basic Image Processing in Python (CSC 586B)\n",
    "\n",
    "**Author:** Andreas P. Koenzen (akoenzen at uvic.ca)"
   ]
  },
  {
   "cell_type": "markdown",
   "metadata": {},
   "source": [
    "## Imports"
   ]
  },
  {
   "cell_type": "code",
   "execution_count": null,
   "metadata": {},
   "outputs": [],
   "source": [
    "%matplotlib inline\n",
    "\n",
    "import cv2 as cv\n",
    "import h5py as h5\n",
    "import numpy as np\n",
    "import matplotlib as mpl\n",
    "import matplotlib.pyplot as plt\n",
    "\n",
    "from IPython.core.interactiveshell import InteractiveShell\n",
    "InteractiveShell.ast_node_interactivity = \"all\"\n",
    "\n",
    "from IPython.display import Javascript, IFrame\n",
    "from IPython.core.display import HTML"
   ]
  },
  {
   "cell_type": "markdown",
   "metadata": {},
   "source": [
    "## Miscellaneous Configuration:"
   ]
  },
  {
   "cell_type": "code",
   "execution_count": null,
   "metadata": {},
   "outputs": [],
   "source": [
    "HTML(\n",
    "    '<style>'\n",
    "    'ol           {counter-reset:item}'\n",
    "    'ol li        {display:block}'\n",
    "    'ol li:before {content:counter(item) \". \";counter-increment:item;font-weight:bold}'\n",
    "    'iframe       {border:0px;}'\n",
    "    'table        {float:left;}'\n",
    "    'img          {width:300px;}'\n",
    "    '</style>'\n",
    ")\n",
    "\n",
    "plt.style.use(['default', 'ggplot'])\n",
    "plt.rcParams.update({'font.size': 8})"
   ]
  },
  {
   "cell_type": "markdown",
   "metadata": {},
   "source": [
    "## Environment Variables and Constants:"
   ]
  },
  {
   "cell_type": "code",
   "execution_count": null,
   "metadata": {},
   "outputs": [],
   "source": [
    "# must be set to replicate\n",
    "data_set_home = %env CSC_586B_DATA"
   ]
  },
  {
   "cell_type": "markdown",
   "metadata": {},
   "source": [
    "## Reading an Image using OpenCV:"
   ]
  },
  {
   "cell_type": "code",
   "execution_count": null,
   "metadata": {},
   "outputs": [],
   "source": [
    "img = cv.imread('{}/Assignment01/input.jpg'.format(data_set_home), cv.IMREAD_COLOR)\n",
    "img = cv.cvtColor(img, cv.COLOR_BGR2RGB) # Convert from BGR to RGB.\n",
    "\n",
    "_ = plt.imshow(img)\n",
    "_ = plt.show()"
   ]
  },
  {
   "cell_type": "markdown",
   "metadata": {},
   "source": [
    "## Invert image by substracting a white image:"
   ]
  },
  {
   "cell_type": "code",
   "execution_count": null,
   "metadata": {},
   "outputs": [],
   "source": [
    "# Create a black image using numpy.\n",
    "black_img = np.zeros((640, 480, 3), np.uint8) # Numpy array dimensions: Height x Width x Depth (3 = 1 for each color RGB)\n",
    "white_img = black_img[:] = (255, 255, 255)\n",
    "\n",
    "# Substract from the image above.\n",
    "inverted_img = white_img - img\n",
    "\n",
    "_ = plt.imshow(inverted_img)\n",
    "_ = plt.show()"
   ]
  },
  {
   "cell_type": "markdown",
   "metadata": {},
   "source": [
    "## Save image to HDF5 format:"
   ]
  },
  {
   "cell_type": "code",
   "execution_count": null,
   "metadata": {},
   "outputs": [],
   "source": [
    "h5f = h5.File('/tmp/output.h5', 'w')\n",
    "\n",
    "_ = h5f.create_dataset('image', data=inverted_img)\n",
    "_ = h5f.close()"
   ]
  },
  {
   "cell_type": "markdown",
   "metadata": {},
   "source": [
    "## Read the image in HDF5 format:"
   ]
  },
  {
   "cell_type": "code",
   "execution_count": null,
   "metadata": {},
   "outputs": [],
   "source": [
    "h5f = h5.File('/tmp/output.h5', 'r')\n",
    "h5_image = h5f['image'][:]\n",
    "\n",
    "# DEBUG\n",
    "# h5_image.shape\n",
    "\n",
    "_ = h5f.close()\n",
    "\n",
    "_ = plt.imshow(h5_image)\n",
    "_ = plt.show()"
   ]
  },
  {
   "cell_type": "markdown",
   "metadata": {},
   "source": [
    "***\n",
    "# END"
   ]
  }
 ],
 "metadata": {
  "kernelspec": {
   "display_name": "Python 3",
   "language": "python",
   "name": "python3"
  },
  "language_info": {
   "codemirror_mode": {
    "name": "ipython",
    "version": 3
   },
   "file_extension": ".py",
   "mimetype": "text/x-python",
   "name": "python",
   "nbconvert_exporter": "python",
   "pygments_lexer": "ipython3",
   "version": "3.6.6"
  }
 },
 "nbformat": 4,
 "nbformat_minor": 2
}
