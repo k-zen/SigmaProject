{
 "cells": [
  {
   "cell_type": "markdown",
   "metadata": {},
   "source": [
    "# Simple Neural Network Implementation (CSC 586B)\n",
    "\n",
    "**Author:** Andreas P. Koenzen (akoenzen at uvic.ca)"
   ]
  },
  {
   "cell_type": "code",
   "execution_count": null,
   "metadata": {},
   "outputs": [],
   "source": [
    "%matplotlib inline\n",
    "\n",
    "# Enable autoreload for some modules.\n",
    "# See: https://ipython.org/ipython-doc/3/config/extensions/autoreload.html\n",
    "%load_ext autoreload\n",
    "%autoreload 2\n",
    "\n",
    "import matplotlib.pyplot as plt\n",
    "\n",
    "from sklearn.linear_model import LogisticRegressionCV\n",
    "\n",
    "from IPython.core.interactiveshell import InteractiveShell\n",
    "InteractiveShell.ast_node_interactivity = \"all\"\n",
    "\n",
    "from IPython.core.display import HTML\n",
    "\n",
    "# Specific imports from within SigmaProject.\n",
    "import sys, os\n",
    "sys.path.append(\n",
    "    os.path.join(\n",
    "        os.path.dirname(os.path.abspath('')), \n",
    "        '../sigmaproject'\n",
    "    )\n",
    ")\n",
    "from data.Data import Data\n",
    "from plotting.Plotting import Plotting\n",
    "from neural_net.ActivationFunction import ActivationFunction\n",
    "from neural_net.ActivationFunction import ActivationFunctionType\n",
    "from neural_net.Layer import Layer\n",
    "from neural_net.Layer import LayerType\n",
    "from neural_net.Network import Network"
   ]
  },
  {
   "cell_type": "markdown",
   "metadata": {},
   "source": [
    "## Miscellaneous Configuration:"
   ]
  },
  {
   "cell_type": "code",
   "execution_count": null,
   "metadata": {},
   "outputs": [],
   "source": [
    "HTML(\n",
    "    '<style>'\n",
    "    'ol           {counter-reset:item}'\n",
    "    'ol li        {display:block}'\n",
    "    'ol li:before {content:counter(item) \". \";counter-increment:item;font-weight:bold}'\n",
    "    'table        {float:left;}'\n",
    "    '</style>'\n",
    ")"
   ]
  },
  {
   "cell_type": "markdown",
   "metadata": {},
   "source": [
    "## Environment Variables and Constants:"
   ]
  },
  {
   "cell_type": "code",
   "execution_count": null,
   "metadata": {},
   "outputs": [],
   "source": [
    "# If there were a dataset it will be here.\n",
    "data_set_home = %env CSC_586B_DATA\n",
    "\n",
    "# Epochs\n",
    "EPOCHS = 20000"
   ]
  },
  {
   "cell_type": "markdown",
   "metadata": {},
   "source": [
    "# Generate the Data:"
   ]
  },
  {
   "cell_type": "code",
   "execution_count": null,
   "metadata": {},
   "outputs": [],
   "source": [
    "data = Data()\n",
    "data.generate_data(1)\n",
    "\n",
    "X_train, y_train = data.data"
   ]
  },
  {
   "cell_type": "markdown",
   "metadata": {},
   "source": [
    "# Plot the data:"
   ]
  },
  {
   "cell_type": "code",
   "execution_count": null,
   "metadata": {},
   "outputs": [],
   "source": [
    "Plotting().scatter(X_train, y_train)"
   ]
  },
  {
   "cell_type": "markdown",
   "metadata": {},
   "source": [
    "# Try to use a Linear Classifier on the data:"
   ]
  },
  {
   "cell_type": "code",
   "execution_count": null,
   "metadata": {},
   "outputs": [],
   "source": [
    "lr = LogisticRegressionCV(cv=5)\n",
    "_ = lr.fit(X_train, y_train)"
   ]
  },
  {
   "cell_type": "code",
   "execution_count": null,
   "metadata": {},
   "outputs": [],
   "source": [
    "plot = Plotting()\n",
    "\n",
    "plot.decision_boundary(X_train, lambda x: lr.predict(x))\n",
    "plot.scatter(X_train, y_train)"
   ]
  },
  {
   "cell_type": "markdown",
   "metadata": {},
   "source": [
    "# Neural Network Implementation:"
   ]
  },
  {
   "cell_type": "code",
   "execution_count": null,
   "metadata": {},
   "outputs": [],
   "source": [
    "network = Network()\n",
    "\n",
    "network.add_layer(\n",
    "    Layer(2,\n",
    "          4, \n",
    "          LayerType.HIDDEN, \n",
    "          ActivationFunction(ActivationFunctionType.TANH))\n",
    ")\n",
    "network.add_layer(\n",
    "    Layer(4,\n",
    "          2, \n",
    "          LayerType.OUTPUT,\n",
    "          ActivationFunction(ActivationFunctionType.SIGMOID))\n",
    ")"
   ]
  },
  {
   "cell_type": "code",
   "execution_count": null,
   "metadata": {},
   "outputs": [],
   "source": [
    "# Train the Network.\n",
    "loss = []\n",
    "for i in range(0, EPOCHS):\n",
    "    _ = network.forward(X_train)\n",
    "    _ = network.backward(X_train, y_train)\n",
    "    _ = loss.append(network.loss(y_train))"
   ]
  },
  {
   "cell_type": "code",
   "execution_count": null,
   "metadata": {},
   "outputs": [],
   "source": [
    "plotting = Plotting()\n",
    "\n",
    "plotting.loss(loss)"
   ]
  },
  {
   "cell_type": "code",
   "execution_count": null,
   "metadata": {},
   "outputs": [],
   "source": [
    "plot = Plotting()\n",
    "\n",
    "plot.decision_boundary(X_train, lambda x: network.predict(x))\n",
    "plot.scatter(X_train, y_train)"
   ]
  },
  {
   "cell_type": "markdown",
   "metadata": {},
   "source": [
    "***\n",
    "# END"
   ]
  }
 ],
 "metadata": {
  "kernelspec": {
   "display_name": "Python 3",
   "language": "python",
   "name": "python3"
  },
  "language_info": {
   "codemirror_mode": {
    "name": "ipython",
    "version": 3
   },
   "file_extension": ".py",
   "mimetype": "text/x-python",
   "name": "python",
   "nbconvert_exporter": "python",
   "pygments_lexer": "ipython3",
   "version": "3.6.6"
  }
 },
 "nbformat": 4,
 "nbformat_minor": 2
}
