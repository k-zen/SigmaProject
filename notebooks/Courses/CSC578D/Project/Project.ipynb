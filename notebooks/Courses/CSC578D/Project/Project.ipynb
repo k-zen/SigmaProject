{
 "cells": [
  {
   "cell_type": "markdown",
   "metadata": {},
   "source": [
    "# CSC 578D / Data Mining / Fall 2018 / University of Victoria\n",
    "\n",
    "## Python Notebook for Final Project\n",
    "\n",
    "### The datasets for this project are the following:\n",
    "1. Crime statistics for the city of Chicago from 2017. [Link to dataset](https://data.cityofchicago.org/Public-Safety/Crimes-2017/d62x-nvdr).\n",
    "    1. [Download here](http://www.apkc.net/data/csc_578d/project/Chicago_Crimes_2017.csv.zip)\n",
    "1. The Police beats boundaries for the city of Chicago. [Link to dataset](https://data.cityofchicago.org/Public-Safety/Boundaries-Police-Beats-current-/aerh-rz74).\n",
    "    1. [Download here](http://www.apkc.net/data/csc_578d/project/Chicago_Boundaries.geojson.zip)\n",
    "1. List of crimes by special code, in this case named IUCR (Illinois Uniform Crime Reporting). [Link to dataset](https://data.cityofchicago.org/Public-Safety/Chicago-Police-Department-Illinois-Uniform-Crime-R/c7ck-438e/data).\n",
    "    1. [Download here](http://www.apkc.net/data/csc_578d/project/Chicago_Police_IUCR_Codes.csv.zip)\n",
    "\n",
    "### Goals of this analysis:\n",
    "1. Look for patterns in crime.\n",
    "1. Visualize crime in a concise and efficient manner.\n",
    "1. Analyze crime as Time Series.\n",
    "1. Superpose the data onto a map to find better patterns.\n",
    "1. Build a **Ball tree** of some types of crime segmented by time in intervals of 1 hour. **Ball trees** can be queried very fast to determine if a person is in danger of being victim of a crime based on his/her location and time. Instead of using the Euclidean distance, I will use the Haversine distance, this will help me query the tree based on GPS coordinates of a person. The following is a list of crimes to be included in the tree:\n",
    "    1. Homicide: Code 1XX\n",
    "    1. Sexual Assault: Code 2XX\n",
    "    1. Robbery: Code 3XX\n",
    "    1. Battery: Code 4XX\n",
    "    1. Assault: Code 5XX\n",
    "    1. Theft: Code 8XX\n",
    "    1. Motor Vehicle Theft: Code 9XX\n",
    "    1. Deceptive Practice: Code 11XX\n",
    "\n",
    "### TODO:\n",
    "1. Separate violent crimes from non-violent ones.\n",
    "1. Add more dimensions to the **Ball tree**. Maybe I can add one type of crime per dimension, instead of all crimes in 1D.\n",
    "\n",
    "**Author:** Andreas P. Koenzen <akoenzen@uvic.ca>\n",
    "\n",
    "**Version:** 0.1\n",
    "\n",
    "**Disclaimer:** This analysis was made as a project for the course **CSC 578D**, at the University of Victoria during Fall of 2018. I do not own the data used in this analysis, but the analysis was entirely devised by me, including the code."
   ]
  },
  {
   "cell_type": "code",
   "execution_count": null,
   "metadata": {},
   "outputs": [],
   "source": [
    "%matplotlib inline\n",
    "\n",
    "import pandas as pd\n",
    "import numpy as np\n",
    "import matplotlib as mpl\n",
    "import matplotlib.pyplot as plt\n",
    "import matplotlib.dates as mdates\n",
    "import seaborn as sbn\n",
    "import json\n",
    "import re\n",
    "import datetime\n",
    "\n",
    "from sklearn.neighbors import BallTree\n",
    "from ast import literal_eval\n",
    "\n",
    "from IPython.core.interactiveshell import InteractiveShell\n",
    "InteractiveShell.ast_node_interactivity = \"all\"\n",
    "\n",
    "from IPython.display import Javascript, IFrame\n",
    "from IPython.core.display import HTML"
   ]
  },
  {
   "cell_type": "markdown",
   "metadata": {},
   "source": [
    "## Miscellaneous Configuration:"
   ]
  },
  {
   "cell_type": "code",
   "execution_count": null,
   "metadata": {},
   "outputs": [],
   "source": [
    "HTML(\n",
    "    '<style>'\n",
    "    'ol           {counter-reset:item}'\n",
    "    'ol li        {display:block}'\n",
    "    'ol li:before {content:counter(item) \". \";counter-increment:item;font-weight:bold}'\n",
    "    'iframe       {border:0px;}'\n",
    "    'table        {float:left;}'\n",
    "    '</style>'\n",
    ")\n",
    "\n",
    "plt.style.use(['default', 'ggplot'])\n",
    "plt.rcParams.update({'font.size': 8})"
   ]
  },
  {
   "cell_type": "markdown",
   "metadata": {},
   "source": [
    "## Environment Variables and Constants:"
   ]
  },
  {
   "cell_type": "code",
   "execution_count": null,
   "metadata": {},
   "outputs": [],
   "source": [
    "# must be set to replicate\n",
    "data_set_home = %env DATA_SETS_HOME\n",
    "mapbox_token  = %env MAPBOX_TOKEN\n",
    "\n",
    "# the earth's radius in kilometers\n",
    "KMS_PER_RADIAN = 6371.0088"
   ]
  },
  {
   "cell_type": "markdown",
   "metadata": {},
   "source": [
    "## Functions:"
   ]
  },
  {
   "cell_type": "code",
   "execution_count": null,
   "metadata": {},
   "outputs": [],
   "source": [
    "# function which returns the hours of daylight\n",
    "# given the day of the year, from 0 to 365\n",
    "def hours_of_daylight(date, axis=23.44, latitude=47.61):\n",
    "    \"\"\"\n",
    "    Compute the hours of daylight for the given date.\n",
    "    \n",
    "    :param date:     A pandas' date object.\n",
    "    :param axis:     Earth's tilt.\n",
    "    :param latitude: The latitude of the location for which to compute\n",
    "                     the daylight hours.\n",
    "                     \n",
    "    :returns: A scalar value denoting the amount of daylight hours.\n",
    "    \"\"\"\n",
    "    diff = date - pd.datetime(2000, 12, 21)\n",
    "    day = diff.total_seconds() / 24. / 3600\n",
    "    day %= 365.25\n",
    "    m = 1. - np.tan(np.radians(latitude)) * np.tan(np.radians(axis) * np.cos(day * np.pi / 182.625))\n",
    "    m = max(0, min(m, 2))\n",
    "    \n",
    "    return 24. * np.degrees(np.arccos(1 - m)) / 180.\n",
    "\n",
    "# function which returns if a person is in danger or not of being victim of a crime\n",
    "# based on their current time of the day and location within the boundaries\n",
    "# of the city of Chicago.\n",
    "def am_i_in_danger(tree_list, time: datetime.time, coordinates=(41.841832, -87.623177), radius=0.5):\n",
    "    \"\"\"\n",
    "    Query a Ball tree previously train to compute crimes within a fixed radius,\n",
    "    and if enough points are returned, according to a constant, then we can resolve\n",
    "    that that person *MAY* be in danger.\n",
    "    \n",
    "    Definition of danger: If the count of crimes within 500 meters of the location\n",
    "    exceeds or is equals to 10 then it *MAY* be a danger zone.\n",
    "    \n",
    "    :param tree_list:   A list of Ball trees. Each index corresponds to 1 hours, starting at midnight.\n",
    "    :param time:        The time of the day as a datetime.time object.\n",
    "    :param coordinates: A tuple containing the latitude and longitude.\n",
    "    :param radius:      The radius in kilometers.\n",
    "    \n",
    "    : returns: True if the person is in danger, False otherwise.\n",
    "    \"\"\"   \n",
    "    return 'Yes, you may be in danger.' if np.asscalar(tree_list[time.hour].query_radius(\n",
    "        np.radians(coordinates).reshape(1, -1), \n",
    "        r=(radius / KMS_PER_RADIAN), \n",
    "        count_only=True\n",
    "    ) >= 10) else 'No danger around here, but depends on your luck :)'"
   ]
  },
  {
   "cell_type": "markdown",
   "metadata": {},
   "source": [
    "## Load the entire dataset into memory as a DataFrame:\n",
    "1. Index the dataset by the **Date** column.\n",
    "1. One row corresponds to **one** crime."
   ]
  },
  {
   "cell_type": "code",
   "execution_count": null,
   "metadata": {},
   "outputs": [],
   "source": [
    "raw_data = pd.read_csv(\n",
    "    \"{0}/CSC_578D/Project/Chicago_Crimes_2017.csv\".format(data_set_home),\n",
    "    index_col=['Date'],\n",
    "    parse_dates=True,\n",
    "    date_parser=lambda x: pd.datetime.strptime(x, \"%m/%d/%Y %I:%M:%S %p\")\n",
    ")\n",
    "raw_data.sort_index(inplace=True)\n",
    "\n",
    "# print basic information about the data\n",
    "print('Shape: {}'.format(raw_data.shape))\n",
    "print('Size in memory: {} MB'.format(int(raw_data.memory_usage(index=True, deep=True).sum() / 1024 ** 2)))\n",
    "raw_data.head()"
   ]
  },
  {
   "cell_type": "markdown",
   "metadata": {},
   "source": [
    "## Pre-processing:\n",
    "1. Since the dataset is large in size, I need to remove some unused or duplicate columns. The following are redundant columns, which will be removed.\n",
    "    1. ID\n",
    "    1. Case Number\n",
    "    1. Block: We can remove the block because we will use other information to pin point locations, like Beat, etc.\n",
    "    1. Primary Type: I will use the IUCR to categorize danger.\n",
    "    1. Location Description: I will use the \"Domestic\" column to filter out crimes commited indoors.\n",
    "    1. Arrest\n",
    "    1. Community Area\n",
    "    1. Ward\n",
    "    1. Year\n",
    "    1. FBI Code\n",
    "    1. Updated On\n",
    "    1. X Coordinate\n",
    "    1. Y Coordinate\n",
    "1. Index the entire dataset by the Date column."
   ]
  },
  {
   "cell_type": "code",
   "execution_count": null,
   "metadata": {},
   "outputs": [],
   "source": [
    "# filter out redundant columns\n",
    "data = raw_data.drop([\n",
    "    'ID', \n",
    "    'Case Number',\n",
    "    'Block',\n",
    "    'Primary Type',\n",
    "    'Location Description',\n",
    "    'Arrest',\n",
    "    'Community Area',\n",
    "    'Ward',\n",
    "    'FBI Code',\n",
    "    'Updated On',\n",
    "    'X Coordinate',\n",
    "    'Y Coordinate'\n",
    "], axis=1)\n",
    "data.head()\n",
    "\n",
    "# filtered data\n",
    "non_domestic_crime = data.loc[(data['Domestic'] == False)]\n",
    "domestic_crime = data.loc[(data['Domestic'] == True)]"
   ]
  },
  {
   "cell_type": "markdown",
   "metadata": {},
   "source": [
    "## Describe the dataset:\n",
    "Gather metrics for:\n",
    "1. Top 10 Most Violent Beats: In police terminology, a beat is the territory and time that a police officer patrols.\n",
    "1. Describe the dataset using Time Series analysis."
   ]
  },
  {
   "cell_type": "markdown",
   "metadata": {},
   "source": [
    "### Top 10 Most Violent Beats:"
   ]
  },
  {
   "cell_type": "code",
   "execution_count": null,
   "metadata": {},
   "outputs": [],
   "source": [
    "tmp = data.groupby('Beat').size().sort_values(ascending=False)[0:10]\n",
    "top_10_mv_beats = pd.DataFrame(index=range(1, 11), data={\n",
    "    'Beat #': tmp.index,\n",
    "    'Crime Count ' + str(data['Year'].unique()[0]): tmp.values\n",
    "})\n",
    "top_10_mv_beats"
   ]
  },
  {
   "cell_type": "markdown",
   "metadata": {},
   "source": [
    "#### Result:\n",
    "The most violent **Police Beat** in the city of Chicago is **Beat #1834**. Later on we would see more about the crimes that are commited in this particular Beat and others as well."
   ]
  },
  {
   "cell_type": "markdown",
   "metadata": {},
   "source": [
    "### Segment beats into 5 crime categories using the count of crimes for each beat:\n",
    "\n",
    "The color for each category in the [Choropleth](https://en.wikipedia.org/wiki/Choropleth_map), were drawn from [this](http://colorbrewer2.org/#type=sequential&scheme=Reds&n=5) website.\n",
    "\n",
    "| ----- | Category 1 | Category 2 | Category 3 | Category 4 | Category 5 |\n",
    "|-------|------------|------------|------------| -----------|------------|\n",
    "| Range | 0-600      | 601-1200   | 1201-1800  | 1801-2400  | 2401-10000 |\n",
    "| Color | #fee5d9    | #fcae91    | #fb6a4a    | #de2d26    | #a50f15    |"
   ]
  },
  {
   "cell_type": "code",
   "execution_count": null,
   "metadata": {},
   "outputs": [],
   "source": [
    "beats_sorted = non_domestic_crime.groupby('Beat').size().sort_values(ascending=False)\n",
    "\n",
    "categories = []\n",
    "for i in range(0, 5):\n",
    "    categories.append(beats_sorted[(beats_sorted > (i * 600)) & (beats_sorted <= (10000 if (i == 4) else (i * 600) + 600))])\n",
    "for e in categories:\n",
    "    pd.DataFrame(data=e.head(2), columns=['Crime Count']) # pretty print the first 2 of each"
   ]
  },
  {
   "cell_type": "markdown",
   "metadata": {},
   "source": [
    "### Group data by crime type and keep the top 10:\n",
    "Filter both by Beat and IUCR. We should have a multi-index DataFrame, where the first index is **Beat** and the second will be **IUCR**, then we would have only one column named **Crime Count** listing the count of crimes. Then finally we should join our DataFrame with the one built from the **Chicago_Police_IUCR_Codes.csv** file and add both description columns from the latter."
   ]
  },
  {
   "cell_type": "code",
   "execution_count": null,
   "metadata": {},
   "outputs": [],
   "source": [
    "# use Pandas Hierarchical Indexing\n",
    "tmp = non_domestic_crime.groupby(['Beat', 'IUCR']).size()\n",
    "tmp = tmp.sort_values(0, ascending=False).sort_index(level='Beat', sort_remaining=False)\n",
    "tmp = tmp.groupby(level=0).head(10) # list the top 10 for each Beat\n",
    "tmp = pd.DataFrame(index=tmp.index, data={'Crime Count': tmp})\n",
    "# tmp.head()\n",
    "\n",
    "# now match each IUCR with a description from Chicago_Police_IUCR_Codes.csv file\n",
    "iucr_codes = pd.read_csv(\n",
    "    \"{0}/CSC_578D/Project/Chicago_Police_IUCR_Codes.csv\".format(data_set_home)\n",
    ")\n",
    "iucr_codes['IUCR'] = iucr_codes['IUCR'].apply(lambda x: x.zfill(4)) # pad with leading 0 (zero) if IUCR entry is less than 4\n",
    "iucr_codes.set_index('IUCR', inplace=True)\n",
    "# iucr_codes.head()\n",
    "\n",
    "# add new column with the secondary description\n",
    "# see: http://blog.rlucas.net/bugfix/pandas-merge-woes-on-multiindex-solved/\n",
    "tmp.index.levels[0].name = 'Beat'\n",
    "tmp.index.levels[1].name = 'IUCR'\n",
    "iucr_codes.index.name = 'IUCR'\n",
    "tmp = tmp.join(iucr_codes) # magic! no need to specify the merging key!\n",
    "\n",
    "# drop innecessary columns\n",
    "tmp = tmp.drop(['INDEX CODE'], axis=1)\n",
    "tmp.columns = [\n",
    "    'Crime Count', \n",
    "    'Primary', \n",
    "    'Secondary'\n",
    "]\n",
    "\n",
    "crime_by_beat_iucr = tmp\n",
    "tmp.head(20) # pretty print the first 2 beats"
   ]
  },
  {
   "cell_type": "markdown",
   "metadata": {},
   "source": [
    "### Time Series analysis:\n",
    "**Requisite:** The dataset needs to be indexed by date."
   ]
  },
  {
   "cell_type": "markdown",
   "metadata": {},
   "source": [
    "#### Plot data by month:"
   ]
  },
  {
   "cell_type": "code",
   "execution_count": null,
   "metadata": {},
   "outputs": [],
   "source": [
    "# build a new index for months\n",
    "months = pd.period_range('2017-01', periods=12, freq='M')\n",
    "\n",
    "month = data.groupby(data.index.month).size()\n",
    "month = pd.DataFrame(index=months, data={'Crimes': list(month)})\n",
    "\n",
    "fig, ax = plt.subplots(figsize=(6, 4))\n",
    "_ = month.plot(\n",
    "    ax=ax,\n",
    "    title='Crimes by Month',\n",
    "    style=['--']\n",
    ")\n",
    "_ = ax.set_ylabel('Count')\n",
    "_ = ax.set_xlabel('Month')"
   ]
  },
  {
   "cell_type": "markdown",
   "metadata": {},
   "source": [
    "#### Result:\n",
    "Given the chart above we can see that a pattern emerges from the data, where crimes are commited more often during summer months. So I will formulate an hypothesis and look further to see if it holds."
   ]
  },
  {
   "cell_type": "markdown",
   "metadata": {},
   "source": [
    "#### Hypothesis 1:\n",
    "Crimes are higher during summer months, due to more people being outdoors than indoors."
   ]
  },
  {
   "cell_type": "markdown",
   "metadata": {},
   "source": [
    "#### Hypothesis 1 Testing:\n",
    "To test this hypothesis I will separate domestic crimes from non-domestic crimes and see if the pattern is still present."
   ]
  },
  {
   "cell_type": "code",
   "execution_count": null,
   "metadata": {},
   "outputs": [],
   "source": [
    "months = pd.period_range('2017-01', periods=12, freq='M')\n",
    "\n",
    "month_outdoor = non_domestic_crime.groupby(non_domestic_crime.index.month).size()\n",
    "month_outdoor = pd.DataFrame(index=months, data={'Crimes': list(month_outdoor)})\n",
    "\n",
    "month_indoor = domestic_crime.groupby(domestic_crime.index.month).size()\n",
    "month_indoor = pd.DataFrame(index=months, data={'Crimes': list(month_indoor)})\n",
    "\n",
    "fig, (ax_left, ax_right) = plt.subplots(ncols=2, figsize=(12, 4))\n",
    "_ = ax_left.set_ylabel('Count')\n",
    "_ = ax_left.set_xlabel('Month')\n",
    "_ = ax_right.set_ylabel('Count')\n",
    "_ = ax_right.set_xlabel('Month')\n",
    "\n",
    "_ = month_outdoor.plot(\n",
    "    ax=ax_left,\n",
    "    title='Non-Domestic Crimes by Month',\n",
    "    style=['--']\n",
    ")\n",
    "_ = ax_left.legend([\"{} Crimes Total\".format(month_outdoor['Crimes'].sum())])\n",
    "\n",
    "_ = month_indoor.plot(\n",
    "    ax=ax_right,\n",
    "    title='Domestic Crimes by Month',\n",
    "    style=['--']\n",
    ")\n",
    "_ = ax_right.legend([\"{} Crimes Total\".format(month_indoor['Crimes'].sum())])"
   ]
  },
  {
   "cell_type": "markdown",
   "metadata": {},
   "source": [
    "#### Result:\n",
    "Well, we can see after separating the two sets (outdoor & indoor) crimes, that hypothesis 1 is rejected since both charts follow the same pattern. We can see in the right chart that indoor crimes also spike during summer months. Maybe we can formulate another hypothesis for why this pattern occurs."
   ]
  },
  {
   "cell_type": "markdown",
   "metadata": {},
   "source": [
    "#### Hypothesis 2:\n",
    "Non-domestic crimes are higher during summer months, due to more daylight hours, and more people are in the streets."
   ]
  },
  {
   "cell_type": "markdown",
   "metadata": {},
   "source": [
    "#### Hypothesis 2 Testing:"
   ]
  },
  {
   "cell_type": "code",
   "execution_count": null,
   "metadata": {},
   "outputs": [],
   "source": [
    "hour = non_domestic_crime.groupby(non_domestic_crime.index.hour).size()\n",
    "hour = pd.DataFrame(index=hour.index, data={'Crimes': list(hour)})\n",
    "# hour\n",
    "\n",
    "fig, (ax_left, ax_right) = plt.subplots(ncols=2, figsize=(12, 4))\n",
    "_ = hour.plot(\n",
    "    ax=ax_left,\n",
    "    title='Crimes by Hour',\n",
    "    style=['--']\n",
    ")\n",
    "_ = ax_left.set_ylabel('Count')\n",
    "_ = ax_left.set_xlabel('Hour')\n",
    "\n",
    "start = datetime.datetime(year=2017, month=1, day=1)\n",
    "days = start + pd.to_timedelta(np.arange(365), \"D\")\n",
    "\n",
    "# iterate all days an compute the daylight hours\n",
    "hours = pd.DataFrame(\n",
    "    data=days.map(lambda day: hours_of_daylight(day, latitude=41.841832)),\n",
    "    columns=[\"Daylight Hours\"],\n",
    "    index=days\n",
    ")\n",
    "_ = hours.plot(\n",
    "    ax=ax_right,\n",
    "    title='Daylight Hours Chicago',\n",
    "    style=['--'],\n",
    "    color='b'\n",
    ")\n",
    "_ = ax_right.set_ylabel('Hours of Daylight')\n",
    "_ = ax_right.set_xlabel('Month')"
   ]
  },
  {
   "cell_type": "markdown",
   "metadata": {},
   "source": [
    "I have plotted Chicago crimes by hour on the left, and on the right we have a plot of daylight hours by month. We can observe that crime **rises** at 5:00AM, increases during the day, up to a peak at noon and later starts to decrease roughly at 6:00PM. This implies that crimes happen more often during daylight hours. That **may** be a reason why we observed more crimes during the summer months than winter months, but that is subject to much more analysis and variables like temperature and others."
   ]
  },
  {
   "cell_type": "markdown",
   "metadata": {},
   "source": [
    "#### Weekdays vs. Weekends:"
   ]
  },
  {
   "cell_type": "code",
   "execution_count": null,
   "metadata": {},
   "outputs": [],
   "source": [
    "compound = non_domestic_crime.groupby([\n",
    "    np.where(non_domestic_crime.index.weekday < 5, \"Weekday\", \"Weekend\"), \n",
    "    non_domestic_crime.index.hour\n",
    "]).size()\n",
    "# compound\n",
    "\n",
    "fig, (ax_left, ax_right) = plt.subplots(ncols=2, figsize=(12, 4))\n",
    "_ = compound['Weekday'].plot(\n",
    "    ax=ax_left,\n",
    "    title='Crimes during Weekdays',\n",
    "    style=['--']\n",
    ")\n",
    "_ = ax_left.set_ylabel('Count')\n",
    "_ = ax_left.set_xlabel('Time')\n",
    "\n",
    "_ = compound['Weekend'].plot(\n",
    "    ax=ax_right,\n",
    "    title='Crimes during Weekends',\n",
    "    style=['--']\n",
    ")\n",
    "_ = ax_right.set_ylabel('Count')\n",
    "_ = ax_right.set_xlabel('Time')"
   ]
  },
  {
   "cell_type": "markdown",
   "metadata": {},
   "source": [
    "#### Results:\n",
    "Above I plotted crimes segmented by **Weekdays** and **Weekends**, trying to further the analysis, but no distinctive patterns emerged from this last analysis, besides that crime **rises** a few minutes later on weekends. So I can say that more analysis is need to test *Hypothesis 2*. Maybe segment crimes by their type before doing the time series analysis."
   ]
  },
  {
   "cell_type": "markdown",
   "metadata": {},
   "source": [
    "## Visualization:\n",
    "1. Plot crimes by Beat.\n",
    "1. Build a Choropleth using the Chicago Boundaries dataset."
   ]
  },
  {
   "cell_type": "code",
   "execution_count": null,
   "metadata": {},
   "outputs": [],
   "source": [
    "ax = top_10_mv_beats.plot.bar(\n",
    "    x=0,\n",
    "    y=1,\n",
    "    figsize=(6, 4),\n",
    "    title='Top 10 Crimes Police Beats',\n",
    "    color='r'\n",
    ");\n",
    "ax.set_ylabel('Count');\n",
    "ax.set_xlabel('Beat #');\n",
    "ax.set_axisbelow(True);\n",
    "ax.yaxis.grid(color='gray', linestyle='dashed');\n",
    "ax.xaxis.grid(color='gray', linestyle='dashed');"
   ]
  },
  {
   "cell_type": "markdown",
   "metadata": {},
   "source": [
    "## Choropleth:\n",
    "1. First separate the map into beats covering the entire city of Chicago.\n",
    "1. Plot the data using a choropleth chart.\n",
    "1. Filter crime by outdoor only.\n",
    "1. Filter crime by top 10 crimes per beat."
   ]
  },
  {
   "cell_type": "code",
   "execution_count": null,
   "metadata": {},
   "outputs": [],
   "source": [
    "# read the boundaries dataset\n",
    "boundaries = ''\n",
    "with open(\"{0}/CSC_578D/Project/Chicago_Boundaries.geojson\".format(data_set_home)) as json_file:  \n",
    "    boundaries = json.load(json_file)"
   ]
  },
  {
   "cell_type": "code",
   "execution_count": null,
   "metadata": {},
   "outputs": [],
   "source": [
    "# build the multipolygons layers\n",
    "layers = ''\n",
    "layer = \"\"\"\n",
    "map.addLayer({{\n",
    "  'id':'Beat_{}_{}',\n",
    "  'type':'{}',\n",
    "  'source':{{\n",
    "    'type':'geojson',\n",
    "    'data':{{\n",
    "      'type':'Feature',\n",
    "      'geometry':{{\n",
    "        'type':'Polygon',\n",
    "        'coordinates':{}\n",
    "      }}\n",
    "    }}\n",
    "  }},\n",
    "  'layout': {{}},\n",
    "  'paint': {{\n",
    "    '{}':'{}',\n",
    "    '{}':{}\n",
    "  }}\n",
    "}});\n",
    "\"\"\"\n",
    "popups = ''\n",
    "popup = \"\"\"\n",
    "map.on('click', 'Beat_{}_Fill', function (e) {{\n",
    "    new mapboxgl.Popup().setLngLat(e.lngLat).setHTML('{}').addTo(map);\n",
    "}});\n",
    "map.on('mouseenter', 'Beat_{}_Fill', function () {{\n",
    "    map.getCanvas().style.cursor = 'pointer';\n",
    "}});\n",
    "map.on('mouseleave', 'Beat_{}_Fill', function () {{\n",
    "    map.getCanvas().style.cursor = '';\n",
    "}});\n",
    "\"\"\"\n",
    "for _, e in enumerate(boundaries['features']):\n",
    "    beat_num = e['properties']['beat_num']\n",
    "    coordinates = e['geometry']['coordinates'][0]\n",
    "    crimes = 0\n",
    "    \n",
    "    if int(beat_num) == 3100:\n",
    "        continue\n",
    "    \n",
    "    # use a different color for each category\n",
    "    colors = ['#fee5d9', '#fcae91', '#fb6a4a', '#de2d26', '#a50f15']\n",
    "    color = ''\n",
    "    for i, e in enumerate(categories):\n",
    "        crimes = e.get(int(beat_num), default=None)\n",
    "        if crimes != None:\n",
    "            color = colors[i]\n",
    "            break\n",
    "            \n",
    "    # get beat information\n",
    "    beat_info = '<ol>'\n",
    "    for index, data in crime_by_beat_iucr.iterrows():\n",
    "        if int(index[0]) == int(beat_num):\n",
    "            beat_info += '<li>{}-{} ({} crimes)</li>'.format(data[1], data[2], data[0])\n",
    "    beat_info += '</ol>'\n",
    "    \n",
    "    layers += layer.format(\n",
    "        beat_num, \n",
    "        'Fill',\n",
    "        'fill',\n",
    "        json.dumps(coordinates),\n",
    "        'fill-color',\n",
    "        color if color != '' else '#999',\n",
    "        'fill-opacity',\n",
    "        0.75\n",
    "    )\n",
    "    layers += layer.format(\n",
    "        beat_num, \n",
    "        'Outline',\n",
    "        'line',\n",
    "        json.dumps(coordinates), \n",
    "        'line-color', \n",
    "        '#67000d', \n",
    "        'line-width', \n",
    "        0.60\n",
    "    )\n",
    "    popup_html = \"<h1>Beat ID: {}</h1><p>Crimes #: {} crimes in 2017</p>{}\".format(\n",
    "        beat_num, \n",
    "        crimes,\n",
    "        beat_info\n",
    "    )\n",
    "    popups += popup.format(\n",
    "        beat_num,\n",
    "        popup_html,\n",
    "        beat_num,\n",
    "        beat_num\n",
    "    )"
   ]
  },
  {
   "cell_type": "code",
   "execution_count": null,
   "metadata": {},
   "outputs": [],
   "source": [
    "replacements = {\n",
    "    'mapbox_token': mapbox_token,\n",
    "    'layers': layers,\n",
    "    'popups': popups,\n",
    "    'total_crimes': str(beats_sorted.sum())\n",
    "}\n",
    "\n",
    "html = \"\"\"\n",
    "<!DOCTYPE html>\n",
    "<html>\n",
    "<head>\n",
    "    <meta charset='utf-8'/>\n",
    "    <title>Project</title>\n",
    "    <meta name='viewport' content='initial-scale=1,maximum-scale=1,user-scalable=no'/>\n",
    "    <script src='https://api.tiles.mapbox.com/mapbox-gl-js/v0.51.0/mapbox-gl.js'></script>\n",
    "    <link href='https://api.tiles.mapbox.com/mapbox-gl-js/v0.51.0/mapbox-gl.css' rel='stylesheet'/>\n",
    "    <style>\n",
    "    body {margin:0; padding:0;}\n",
    "    #map {position:absolute;top:0;bottom:0;width:100%;}\n",
    "    .legend {\n",
    "        background-color:#fff;\n",
    "        border-radius:3px;\n",
    "        bottom:30px;\n",
    "        box-shadow:0 1px 2px rgba(0,0,0,0.10);\n",
    "        font:12px/20px 'Helvetica Neue', Arial, Helvetica, sans-serif;\n",
    "        padding:10px;\n",
    "        position:absolute;\n",
    "        right:10px;\n",
    "        z-index:1;\n",
    "    }\n",
    "    .legend h4 {margin:0 0 10px;}\n",
    "    .legend div span {\n",
    "        border-radius:50%;\n",
    "        display:inline-block;\n",
    "        height:10px;\n",
    "        margin-right:5px;\n",
    "        width:10px;\n",
    "    }\n",
    "    .mapboxgl-popup {max-width:400px;font:12px/20px 'Helvetica Neue', Arial, Helvetica, sans-serif;}\n",
    "    </style>\n",
    "</head>\n",
    "<body>\n",
    "    <div id='map'></div>\n",
    "    <div id='crime-legend' class='legend'>\n",
    "    <h4>Chicago Non-Domestic Crimes by Police Beat per Year (2017)</h4>\n",
    "    <div><span style='background-color:transparent'></span>No Data</div>\n",
    "    <div><span style='background-color:#fee5d9'></span>0 - 600 crimes</div>\n",
    "    <div><span style='background-color:#fcae91'></span>601 - 1200</div>\n",
    "    <div><span style='background-color:#fb6a4a'></span>1201 - 1800</div>\n",
    "    <div><span style='background-color:#de2d26'></span>1801 - 2400</div>\n",
    "    <div><span style='background-color:#a50f15'></span>2401 - 10000</div>\n",
    "    <h4>Total Non-Domestic Crimes: (total_crimes)</h4>\n",
    "</div>\n",
    "    <script>\n",
    "    mapboxgl.accessToken = '(mapbox_token)';\n",
    "    var map = new mapboxgl.Map({\n",
    "        container: 'map',\n",
    "        style: 'mapbox://styles/mapbox/streets-v10',\n",
    "        center: [-87.623177, 41.841832],\n",
    "        zoom: 9.5\n",
    "    });\n",
    "    map.on('load', function () {\n",
    "        (layers)\n",
    "        (popups)\n",
    "    });\n",
    "    </script>\n",
    "</body>\n",
    "</html>\n",
    "\"\"\"\n",
    "\n",
    "for key, value in replacements.items():\n",
    "    html = html.replace(\"({})\".format(key), value)\n",
    "\n",
    "display(HTML('<iframe srcdoc=\"{srcdoc}\" style=\"width:100%;height:800px;\"></iframe>'.format(srcdoc=html)))"
   ]
  },
  {
   "cell_type": "markdown",
   "metadata": {},
   "source": [
    "## Segment and plot some crimes as scatter plots:\n",
    "This will help to detect patterns, specially if segmented by hour."
   ]
  },
  {
   "cell_type": "code",
   "execution_count": null,
   "metadata": {},
   "outputs": [],
   "source": [
    "tmp = non_domestic_crime.copy()\n",
    "# tmp.head()\n",
    "\n",
    "# filter by robbery. in the IUCR list, robbery' codes start with 3!\n",
    "tmp['IUCR'] = tmp['IUCR'].apply(lambda x: x.zfill(4))\n",
    "tmp = tmp[tmp.apply(lambda x: str(x['IUCR']).startswith((\n",
    "    '01',\n",
    "    '02',\n",
    "    '03',\n",
    "    '04',\n",
    "    '05',\n",
    "    '08',\n",
    "    '09',\n",
    "    '011'\n",
    ")), axis=1)]\n",
    "\n",
    "robbery_data = tmp\n",
    "# robbery_data.head()\n",
    "\n",
    "fig, ax = plt.subplots(ncols=2, nrows=6, figsize=(16, 40), sharex=True, sharey=True)\n",
    "s = 0\n",
    "for k in range(6):\n",
    "    e = s + 2\n",
    "    \n",
    "    d = robbery_data.between_time(\n",
    "        '{}:00'.format(s), \n",
    "        '{}:00'.format(e if e != 24 else '23:59')\n",
    "    )\n",
    "    \n",
    "    _ = d.plot.scatter(\n",
    "        x='Longitude', \n",
    "        y='Latitude',\n",
    "        ax=ax[k][0],\n",
    "        title='Crimes (From {}hs to {}hs)'.format(\n",
    "            '{}:00'.format(s), \n",
    "            '{}:00'.format(e if e != 24 else '23:59')\n",
    "        ),\n",
    "        s=2\n",
    "    )\n",
    "    \n",
    "    s = e\n",
    "    e = e + 2\n",
    "    \n",
    "    d = robbery_data.between_time(\n",
    "        '{}:00'.format(s), \n",
    "        '{}:00'.format(e if e != 24 else '23:59')\n",
    "    )\n",
    "    \n",
    "    _ = d.plot.scatter(\n",
    "        x='Longitude', \n",
    "        y='Latitude',\n",
    "        ax=ax[k][1],\n",
    "        title='Crimes (From {}hs to {}hs)'.format(\n",
    "            '{}:00'.format(s), \n",
    "            '{}:00'.format(e if e != 24 else '23:59')\n",
    "        ),\n",
    "        s=2\n",
    "    )\n",
    "    \n",
    "    s = e"
   ]
  },
  {
   "cell_type": "markdown",
   "metadata": {},
   "source": [
    "## k-Nearest Neighbor:\n",
    "1. Build a **Ball tree** for each time segment."
   ]
  },
  {
   "cell_type": "code",
   "execution_count": null,
   "metadata": {},
   "outputs": [],
   "source": [
    "s = [re.sub('^\\d days ', '', str(x)) for x in pd.timedelta_range(start='00:00:00', end='24:00:00', freq='1h', closed='left')]\n",
    "e = [re.sub('^\\d days ', '', str(x - pd.Timedelta(minutes=1))) for x in pd.timedelta_range(start='00:00:00', end='24:00:00', freq='1h', closed='right')]\n",
    "\n",
    "segmented_robberies = []\n",
    "for k in range(24):\n",
    "    segmented_robberies.append(list(robbery_data.between_time(s[k], e[k])['Location'].dropna()))\n",
    "    \n",
    "trees = []\n",
    "for e in segmented_robberies:\n",
    "    locations = []\n",
    "    for k in e:\n",
    "        locations.append(list(literal_eval(k)))\n",
    "    trees.append(BallTree(np.radians(locations), leaf_size=30, metric='haversine'))"
   ]
  },
  {
   "cell_type": "markdown",
   "metadata": {},
   "source": [
    "## Inferences:"
   ]
  },
  {
   "cell_type": "code",
   "execution_count": null,
   "metadata": {},
   "outputs": [],
   "source": [
    "HTML('<img src=\"http://www.apkc.net/img/images/CSC_578D_1.png\"/>')\n",
    "am_i_in_danger(\n",
    "    tree_list=trees, \n",
    "    time=datetime.time(13, 10, 20), \n",
    "    coordinates=(41.900889, -87.709259)\n",
    ")\n",
    "\n",
    "HTML('<img src=\"http://www.apkc.net/img/images/CSC_578D_2.png\">')\n",
    "am_i_in_danger(\n",
    "    tree_list=trees, \n",
    "    time=datetime.time(13, 10, 20), \n",
    "    coordinates=(41.973190, -87.839996)\n",
    ")"
   ]
  },
  {
   "cell_type": "markdown",
   "metadata": {},
   "source": [
    "***\n",
    "# The End"
   ]
  }
 ],
 "metadata": {
  "kernelspec": {
   "display_name": "Python 3",
   "language": "python",
   "name": "python3"
  },
  "language_info": {
   "codemirror_mode": {
    "name": "ipython",
    "version": 3
   },
   "file_extension": ".py",
   "mimetype": "text/x-python",
   "name": "python",
   "nbconvert_exporter": "python",
   "pygments_lexer": "ipython3",
   "version": "3.6.6"
  }
 },
 "nbformat": 4,
 "nbformat_minor": 2
}
