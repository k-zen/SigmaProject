{
 "cells": [
  {
   "cell_type": "markdown",
   "metadata": {},
   "source": [
    "# CSC 578D / Data Mining / Fall 2018 / University of Victoria\n",
    "## Python Notebook explaining Assignment 01 / Problem 01\n",
    "### The dataset for the Assignment #1 is the following:\n",
    "The Weka datasets can be found at my personal Website at __[www.apkc.net](http://www.apkc.net)__.\n",
    "\n",
    "**Author:** Andreas P. Koenzen <akoenzen@uvic.ca>\n",
    "<br>\n",
    "**Version:** 0.1"
   ]
  },
  {
   "cell_type": "code",
   "execution_count": null,
   "metadata": {},
   "outputs": [],
   "source": [
    "import pandas as pd\n",
    "import numpy as np\n",
    "import requests as rq\n",
    "\n",
    "from scipy.io import arff\n",
    "from io import StringIO"
   ]
  },
  {
   "cell_type": "code",
   "execution_count": null,
   "metadata": {},
   "outputs": [],
   "source": [
    "url_data = rq.get('http://www.apkc.net/data/weka/contact-lenses.arff').text\n",
    "data = arff.loadarff(StringIO(url_data))\n",
    "df = pd.DataFrame(data[0], index=pd.Index(np.arange(24) + 1), dtype='object')\n",
    "\n",
    "# Convert all data in the columns to strings instead of binary objects.\n",
    "string_df = df.select_dtypes([np.object]).stack().str.decode('UTF-8').unstack()\n",
    "for col in string_df:\n",
    "    df[col] = string_df[col]\n",
    "df"
   ]
  },
  {
   "cell_type": "markdown",
   "metadata": {},
   "source": [
    "### Solution to Problem #1 of Assignment #1:\n",
    "#### The problem #1 states the following:\n",
    "(4 points) Construct the root and the first level of a decision tree for the contact lenses data. Use the ID3 algorithm. Show the details of your construction. Then, check your solution with Weka (the data file is included with Weka).\n",
    "\n",
    "#### The full tree for this problem is the following:\n",
    "```\n",
    "tear-prod-rate = reduced: none\n",
    "tear-prod-rate = normal\n",
    "|  astigmatism = no\n",
    "|  |  age = young: soft\n",
    "|  |  age = pre-presbyopic: soft\n",
    "|  |  age = presbyopic\n",
    "|  |  |  spectacle-prescrip = myope: none\n",
    "|  |  |  spectacle-prescrip = hypermetrope: soft\n",
    "|  astigmatism = yes\n",
    "|  |  spectacle-prescrip = myope: hard\n",
    "|  |  spectacle-prescrip = hypermetrope\n",
    "|  |  |  age = young: hard\n",
    "|  |  |  age = pre-presbyopic: none\n",
    "|  |  |  age = presbyopic: none\n",
    "```\n",
    "\n",
    "#### Notes:\n",
    "- 3 significant digits are used for all results.\n",
    "- results are rounded up if 4th significant digit is >= 5."
   ]
  },
  {
   "cell_type": "markdown",
   "metadata": {},
   "source": [
    "***\n",
    "#### Step #1:\n",
    "We need to select the ROOT node basing the decision for which attribute/feature to use on **Entropy**. We must use the attribute with less entropy, and then branch on the possible values. This will result in the final tree being smaller.\n",
    "<br>\n",
    "<br>\n",
    "**Entropy:** It is also known as \"Measure of Information\", and computes the level of homogeneity in a dataset. \n",
    "<br>\n",
    "<br>\n",
    "*Formula:* $ E = -(p1 log_2 p1) - ((1 - p1) log_2 (1 - p1)) $ given that p1 + p2 = 1.\n",
    "<br>\n",
    "<br>\n",
    "When p1 and p2 are closer to each other in value the entropy score is at its biggest and viceversa. The lowest entropy is attained when the values of p1 and p2 are farther from each other. e.g. p1=0.1, p2=0.9.\n",
    "<br>\n",
    "<br>\n",
    "Entropy is represented in this notebook as $\\Delta_{\\text{info}}$, meaning lower values of $\\Delta_{\\text{info}}$ means the dataset is homogenous and higher values is heterogenous. The weighted entropy is represented in this notebook as $I(\\text{Attribute})$. The weighted entropy is the entropy times the probability $Pr(X=value)$ of a particular attribute. e.g. if we have three possible values for an attribute and the occurrence of each is 8 classes over a total of 24, then the $Pr(X=value) = \\frac{8}{24} = \\frac{1}{3}$."
   ]
  },
  {
   "cell_type": "markdown",
   "metadata": {},
   "source": [
    "#### Entropy for column \"age\":\n",
    "```\n",
    "age\n",
    "|  young: none, none, none, none, soft, soft, hard, hard\n",
    "|  pre-presbyopic: none, none, none, none, none, soft, soft, hard\n",
    "|  presbyopic: none, none, none, none, none, none, soft, hard\n",
    "```\n",
    "\n",
    "$\\Delta_{\\text{info}} (\\text{age=young[4, 2, 2]}) = -(\\frac{4}{8} log_2 \\frac{4}{8}) - (\\frac{2}{8} log_2 \\frac{2}{8}) - (\\frac{2}{8} log_2 \\frac{2}{8}) = 1.5$\n",
    "<br>\n",
    "<br>\n",
    "$\\Delta_{\\text{info}} (\\text{age=pre-presbyopic[5, 2, 1]}) = -(\\frac{5}{8} log_2 \\frac{5}{8}) - (\\frac{2}{8} log_2 \\frac{2}{8}) - (\\frac{1}{8} log_2 \\frac{1}{8}) = 1.3$\n",
    "<br>\n",
    "<br>\n",
    "$\\Delta_{\\text{info}} (\\text{age=presbyopic[6, 1, 1]}) = -(\\frac{6}{8} log_2 \\frac{6}{8}) - (\\frac{1}{8} log_2 \\frac{1}{8}) - (\\frac{1}{8} log_2 \\frac{1}{8}) = 1.07$\n",
    "<br>\n",
    "<br>\n",
    "**Weighted Entropy**\n",
    "<br>\n",
    "$I(\\text{age}) = 1.5 \\times \\frac{8}{24} + 1.3 \\times \\frac{8}{24} + 1.07 \\times \\frac{8}{24} = 1.28$"
   ]
  },
  {
   "cell_type": "markdown",
   "metadata": {},
   "source": [
    "#### Entropy for column \"spectacle-prescrip\":\n",
    "```\n",
    "spectacle-prescrip\n",
    "|  myope: none, none, none, none, none, none, none, soft, soft, hard, hard, hard\n",
    "|  hypermetrope: none, none, none, none, none, none, none, none, soft, soft, soft, hard\n",
    "```\n",
    "\n",
    "$\\Delta_{\\text{info}} (\\text{spectacle-prescript=myope[7, 2, 3]}) = -(\\frac{7}{12} log_2 \\frac{7}{12}) - (\\frac{2}{12} log_2 \\frac{2}{12}) - (\\frac{3}{12} log_2 \\frac{3}{12}) = 1.38$\n",
    "<br>\n",
    "<br>\n",
    "$\\Delta_{\\text{info}} (\\text{spectacle-prescript=hypermetrope[8, 2, 2]}) = -(\\frac{8}{12} log_2 \\frac{8}{12}) - (\\frac{2}{12} log_2 \\frac{2}{12}) - (\\frac{2}{12} log_2 \\frac{2}{12}) = 1.25$\n",
    "<br>\n",
    "<br>\n",
    "**Weighted Entropy**\n",
    "<br>\n",
    "$I(\\text{spectacle-prescript}) = 1.38 \\times \\frac{12}{24} + 1.25 \\times \\frac{12}{24} = 1.44$"
   ]
  },
  {
   "cell_type": "markdown",
   "metadata": {},
   "source": [
    "#### Entropy for column \"astigmatism\":\n",
    "```\n",
    "astigmatism\n",
    "|  yes: none, none, none, none, none, none, none, none, hard, hard, hard, hard\n",
    "|  no: none, none, none, none, none, none, none, soft, soft, soft, soft, soft\n",
    "```\n",
    "\n",
    "$\\Delta_{\\text{info}} (\\text{astigmatism=yes[8, 4]}) = -(\\frac{8}{12} log_2 \\frac{8}{12}) - (\\frac{4}{12} log_2 \\frac{4}{12}) = 0.91$\n",
    "<br>\n",
    "<br>\n",
    "$\\Delta_{\\text{info}} (\\text{astigmatism=no[7, 5]}) = -(\\frac{7}{12} log_2 \\frac{7}{12}) - (\\frac{5}{12} log_2 \\frac{5}{12}) = 0.97$\n",
    "<br>\n",
    "<br>\n",
    "**Weighted Entropy**\n",
    "<br>\n",
    "$I(\\text{astigmatism}) = 0.91 \\times \\frac{12}{24} + 0.97 \\times \\frac{12}{24} = 0.95$"
   ]
  },
  {
   "cell_type": "markdown",
   "metadata": {},
   "source": [
    "#### Entropy for column \"tear-prod-rate\":\n",
    "```\n",
    "tear-prod-rate\n",
    "|  reduced: none, none, none, none, none, none, none, none, none, none, none, none\n",
    "|  normal: none, none, none, soft, soft, soft, soft, soft, hard, hard, hard, hard\n",
    "```\n",
    "\n",
    "$\\Delta_{\\text{info}} (\\text{tear-prod-rate=reduced[12]}) = -(\\frac{12}{12} log_2 \\frac{12}{12}) = 0$\n",
    "<br>\n",
    "<br>\n",
    "$\\Delta_{\\text{info}} (\\text{tear-prod-rate=normal[3, 5, 4]}) = -(\\frac{3}{12} log_2 \\frac{3}{12}) - (\\frac{5}{12} log_2 \\frac{5}{12}) - (\\frac{4}{12} log_2 \\frac{4}{12}) = 1.55$\n",
    "<br>\n",
    "<br>\n",
    "**Weighted Entropy**\n",
    "<br>\n",
    "$I(\\text{tear-prod-rate}) = 0 + 1.55 \\times \\frac{12}{24} = 0.78$"
   ]
  },
  {
   "cell_type": "markdown",
   "metadata": {},
   "source": [
    "#### Result of Step #1:\n",
    "The column with the lowest entropy value is column **tear-prod-rate**, which has a value of 0.78. This means that this column will be the ROOT node of our decision tree.\n",
    "\n",
    "So the tree is the following:\n",
    "```\n",
    "tear-prod-rate = reduced: none\n",
    "tear-prod-rate = normal\n",
    "|  ???\n",
    "```"
   ]
  },
  {
   "cell_type": "markdown",
   "metadata": {},
   "source": [
    "***\n",
    "#### Step #2:\n",
    "We continue to compute the tree GIVEN that *tear-prod-rate=normal* has occur.\n",
    "\n",
    "#### Entropy for column \"age | tear-prod-rate=normal\"\n",
    "```\n",
    "tear-prod-rate = normal\n",
    "|  age\n",
    "|  |  young: soft, soft, hard, hard\n",
    "|  |  pre-presbyopic: none, soft, soft, hard\n",
    "|  |  presbyopic: none, none, soft, hard\n",
    "```\n",
    "\n",
    "$\\Delta_{\\text{info}} (\\text{age=young[2, 2] | tear-prod-rate=normal}) = -(\\frac{2}{4} log_2 \\frac{2}{4}) - (\\frac{2}{4} log_2 \\frac{2}{4}) = 1.00$\n",
    "<br>\n",
    "<br>\n",
    "$\\Delta_{\\text{info}} (\\text{age=pre-presbyopic[1, 2, 1] | tear-prod-rate=normal}) = -(\\frac{1}{4} log_2 \\frac{1}{4}) - (\\frac{2}{4} log_2 \\frac{2}{4}) - (\\frac{1}{4} log_2 \\frac{1}{4}) = 1.5$\n",
    "<br>\n",
    "<br>\n",
    "$\\Delta_{\\text{info}} (\\text{age=presbyopic[2, 1, 1] | tear-prod-rate=normal}) = -(\\frac{2}{4} log_2 \\frac{2}{4}) - (\\frac{1}{4} log_2 \\frac{1}{4}) - (\\frac{1}{4} log_2 \\frac{1}{4}) = 1.5$\n",
    "<br>\n",
    "<br>\n",
    "**Weighted Entropy**\n",
    "<br>\n",
    "$I(\\text{age | tear-prod-rate=normal}) = 1.00 \\times \\frac{4}{12} + 1.5 \\times \\frac{4}{12} + 1.5 \\times \\frac{4}{12} = 1.33$"
   ]
  },
  {
   "cell_type": "markdown",
   "metadata": {},
   "source": [
    "#### Entropy for column \"spectacle-prescrip | tear-prod-rate=normal\":\n",
    "```\n",
    "tear-prod-rate = normal\n",
    "|  spectacle-prescrip\n",
    "|  |  myope: none, soft, soft, hard, hard, hard\n",
    "|  |  hypermetrope: none, none, soft, soft, soft, hard\n",
    "```\n",
    "\n",
    "$\\Delta_{\\text{info}} (\\text{spectacle-prescrip=myope[1, 2, 3] | tear-prod-rate=normal}) = -(\\frac{1}{6} log_2 \\frac{1}{6}) - (\\frac{2}{6} log_2 \\frac{2}{6}) - (\\frac{3}{6} log_2 \\frac{3}{6}) = 1.46$\n",
    "<br>\n",
    "<br>\n",
    "$\\Delta_{\\text{info}} (\\text{spectacle-prescrip=hypermetrope[2, 3, 1] | tear-prod-rate=normal}) = -(\\frac{2}{6} log_2 \\frac{2}{6}) - (\\frac{3}{6} log_2 \\frac{3}{6}) - (\\frac{1}{6} log_2 \\frac{1}{6}) = 1.46$\n",
    "<br>\n",
    "<br>\n",
    "**Weighted Entropy**\n",
    "<br>\n",
    "$I(\\text{spectacle-prescrip | tear-prod-rate=normal}) = 1.46 \\times \\frac{6}{12} + 1.46 \\times \\frac{6}{12} = 1.46$"
   ]
  },
  {
   "cell_type": "markdown",
   "metadata": {},
   "source": [
    "#### Entropy for column \"astigmatism | tear-prod-rate=normal\":\n",
    "```\n",
    "tear-prod-rate = normal\n",
    "|  astigmatism\n",
    "|  |  yes: none, none, hard, hard, hard, hard\n",
    "|  |  no: none, soft, soft, soft, soft, soft\n",
    "```\n",
    "\n",
    "$\\Delta_{\\text{info}} (\\text{astigmatism=yes[2, 4] | tear-prod-rate=normal}) = -(\\frac{2}{6} log_2 \\frac{2}{6}) - (\\frac{4}{6} log_2 \\frac{4}{6}) = 0.92$\n",
    "<br>\n",
    "<br>\n",
    "$\\Delta_{\\text{info}} (\\text{astigmatism=no[1, 5] | tear-prod-rate=normal}) = -(\\frac{1}{6} log_2 \\frac{1}{6}) - (\\frac{5}{6} log_2 \\frac{5}{6}) = 0.65$\n",
    "<br>\n",
    "<br>\n",
    "**Weighted Entropy**\n",
    "<br>\n",
    "$I(\\text{astigmatism | tear-prod-rate=normal}) = 0.92 \\times \\frac{6}{12} + 0.65 \\times \\frac{6}{12} = 0.79$"
   ]
  },
  {
   "cell_type": "markdown",
   "metadata": {},
   "source": [
    "***\n",
    "#### Final solution:\n",
    "After computing the ROOT and first level of the tree we have the following partial tree.\n",
    "\n",
    "```\n",
    "         ----------------\n",
    "        |     <NODE>     |\n",
    "        | tear-prod-rate | (ROOT)\n",
    "         ----------------\n",
    "                |\n",
    "        reduced | normal \n",
    "         -------|----------\n",
    "        |                  |\n",
    "     --------         ------------\n",
    "    | <LEAF> |       |   <NODE>   |\n",
    "    |  NONE  |       |astigmatism | (FIRST LEVEL)\n",
    "     --------         ------------\n",
    "                           |\n",
    "                       yes | no\n",
    "                   --------|-------\n",
    "                  |                |\n",
    "                -----             -----\n",
    "               | ??? |           | ??? |\n",
    "                -----             -----\n",
    "```"
   ]
  },
  {
   "cell_type": "markdown",
   "metadata": {},
   "source": [
    "***\n",
    "# END"
   ]
  }
 ],
 "metadata": {
  "kernelspec": {
   "display_name": "Python 3",
   "language": "python",
   "name": "python3"
  },
  "language_info": {
   "codemirror_mode": {
    "name": "ipython",
    "version": 3
   },
   "file_extension": ".py",
   "mimetype": "text/x-python",
   "name": "python",
   "nbconvert_exporter": "python",
   "pygments_lexer": "ipython3",
   "version": "3.6.6"
  }
 },
 "nbformat": 4,
 "nbformat_minor": 2
}
