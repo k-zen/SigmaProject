{
 "cells": [
  {
   "cell_type": "markdown",
   "metadata": {},
   "source": [
    "# CSC 578D / Data Mining / Fall 2018 / University of Victoria\n",
    "# Python Notebook explaining Assignment 02 / Problem 03\n",
    "\n",
    "### Notes:\n",
    "1. Dataset can be found __[here](http://www.apkc.net/data)__.\n",
    "\n",
    "**Author:** Andreas P. Koenzen (akoenzen => uvic.ca)\n",
    "<br>\n",
    "**Version:** 0.1"
   ]
  },
  {
   "cell_type": "code",
   "execution_count": null,
   "metadata": {},
   "outputs": [],
   "source": [
    "import pandas as pd\n",
    "import numpy as np\n",
    "import matplotlib.pyplot as plt\n",
    "\n",
    "from IPython.core.interactiveshell import InteractiveShell\n",
    "InteractiveShell.ast_node_interactivity = \"all\""
   ]
  },
  {
   "cell_type": "code",
   "execution_count": null,
   "metadata": {},
   "outputs": [],
   "source": [
    "data = pd.read_csv(\n",
    "    'http://www.apkc.net/data/csc_578d/assignment02/ex3data1.txt', \n",
    "    header=None, \n",
    "    names=['Exam 1', 'Exam 2', 'Admitted']\n",
    ")\n",
    "data.head()"
   ]
  },
  {
   "cell_type": "markdown",
   "metadata": {},
   "source": [
    "### Preprocessing functions:"
   ]
  },
  {
   "cell_type": "code",
   "execution_count": null,
   "metadata": {},
   "outputs": [],
   "source": [
    "def prepare(data):\n",
    "    x = data.values[:,0:-1]\n",
    "    # print(x[:10, :])\n",
    "    \n",
    "    max_x = np.max(x, axis=0)\n",
    "    min_x = np.min(x, axis=0)\n",
    "    x = (x - min_x) / (max_x - min_x)\n",
    "    # print(x[:10, :])\n",
    "\n",
    "    x = np.insert(x, 0, 1, axis=1)\n",
    "    # print(x[:10, :])\n",
    "    \n",
    "    y = data.values[:,-1:]\n",
    "    # print(y[:10, :])\n",
    "\n",
    "    y[(y == 0)] = -1\n",
    "    # print(y[:10, :])\n",
    "    \n",
    "    return x, y\n",
    "\n",
    "x, y = prepare(data)"
   ]
  },
  {
   "cell_type": "markdown",
   "metadata": {},
   "source": [
    "### Plot the data:"
   ]
  },
  {
   "cell_type": "code",
   "execution_count": null,
   "metadata": {},
   "outputs": [],
   "source": [
    "def visualize(x, y, col_1=1, col_2=2):\n",
    "    positive = x[np.where(y == 1)[0]]\n",
    "    negative = x[np.where(y == -1)[0]]\n",
    "\n",
    "    _, ax = plt.subplots(figsize=(8, 6))\n",
    "    ax.scatter(positive[:,1:2], positive[:,2:], s=50, c='b', marker='o', label='Accepted')\n",
    "    ax.scatter(negative[:,1:2], negative[:,2:], s=50, c='r', marker='x', label='Rejected')\n",
    "    ax.legend()\n",
    "    ax.set_xlabel(\"Exam {}\".format(col_1), fontsize=14)\n",
    "    ax.set_ylabel(\"Exam {}\".format(col_2), fontsize=14)\n",
    "    ax.set_xlim([-0.1, 1.1])\n",
    "    ax.set_ylim([-0.1, 1.1])\n",
    "\n",
    "    plt.grid(True)\n",
    "    plt.show()\n",
    "    \n",
    "visualize(x, y)"
   ]
  },
  {
   "cell_type": "markdown",
   "metadata": {},
   "source": [
    "### Build the model and plot the error curve:"
   ]
  },
  {
   "cell_type": "code",
   "execution_count": null,
   "metadata": {},
   "outputs": [],
   "source": [
    "def error(x, y, w):\n",
    "    return np.log(1 + np.exp(-y * (x @ w.T)))\n",
    "\n",
    "def error_mean(x, y, w):\n",
    "    return np.asscalar(((1 / len(x)) * np.sum(\n",
    "        error(x, y, w), \n",
    "        axis=0, \n",
    "        keepdims=True)).ravel())\n",
    "\n",
    "def grad(x, y, w):\n",
    "    return (y * x) / (1 + np.exp(y * (x @ w.T)))\n",
    "\n",
    "def grad_mean(x, y, w):\n",
    "    return ((-1 / len(x)) * np.sum(\n",
    "        grad(x, y, w), \n",
    "        axis=0, \n",
    "        keepdims=True)).ravel()\n",
    "\n",
    "def fit(x, y, kappa, iterations):\n",
    "    w = np.zeros((1, x.shape[1]))\n",
    "    e = []\n",
    "\n",
    "    for k in range(iterations):\n",
    "        e.append(error_mean(x, y, w))\n",
    "        w = w - (kappa * grad_mean(x, y, w))\n",
    "    \n",
    "    return w, e\n",
    "\n",
    "w, e = fit(x, y, 1, 1000)\n",
    "print(\"Weight vector: {}\".format(w))\n",
    "print()\n",
    "print(\"Error curve:\")\n",
    "_ = plt.plot(e)\n",
    "plt.show()"
   ]
  },
  {
   "cell_type": "markdown",
   "metadata": {},
   "source": [
    "### Make predictions and plot:"
   ]
  },
  {
   "cell_type": "code",
   "execution_count": null,
   "metadata": {},
   "outputs": [],
   "source": [
    "# Compute Pr(y=1 | x) and if Pr > 0.5 is 1, else is -1\n",
    "# Return the prediction's array\n",
    "def predict(x, w, real_y=None):\n",
    "    p = 1 / (1 + np.exp(-1 * (x @ w.T)))\n",
    "    \n",
    "    if type(real_y) is np.ndarray:\n",
    "        print()\n",
    "        print(\"Prediction plotting:\")\n",
    "        \n",
    "        pred_accepted = x[np.where(p > 0.5)[0]]\n",
    "        pred_rejected = x[np.where(p <= 0.5)[0]]\n",
    "    \n",
    "        # labeled data\n",
    "        positive = x[np.where(real_y == 1)[0]]\n",
    "        negative = x[np.where(real_y == -1)[0]]\n",
    "\n",
    "        _, ax = plt.subplots(figsize=(12, 8))\n",
    "        ax.scatter(positive[:,1:2], positive[:,2:], s=100, c='c', marker='s', label='Accepted')\n",
    "        ax.scatter(negative[:,1:2], negative[:,2:], s=100, c='y', marker='s', label='Rejected')\n",
    "        ax.scatter(pred_accepted[:,1:2], pred_accepted[:,2:], s=25, c='b', marker='o', label='Predicted Accepted')\n",
    "        ax.scatter(pred_rejected[:,1:2], pred_rejected[:,2:], s=25, c='r', marker='o', label='Predicted Rejected')\n",
    "        ax.legend()\n",
    "        ax.set_xlabel(\"Exam {}\".format(1), fontsize=14)\n",
    "        ax.set_ylabel(\"Exam {}\".format(2), fontsize=14)\n",
    "        ax.set_xlim([-0.1, 1.1])\n",
    "        ax.set_ylim([-0.1, 1.1])\n",
    "\n",
    "        plt.grid(True)\n",
    "        plt.show()\n",
    "    \n",
    "    return p\n",
    "\n",
    "def accuracy(y, y_pred):\n",
    "    y_pred = np.where(y_pred > 0.5, 1, -1)\n",
    "    \n",
    "    return np.count_nonzero(y == y_pred) / len(y)\n",
    "\n",
    "acc = accuracy(y, predict(x, w, real_y=y))\n",
    "print(\"Prediction accuracy: {} ({}%)\".format(acc, acc * 100))"
   ]
  },
  {
   "cell_type": "markdown",
   "metadata": {},
   "source": [
    "### Cross-validate using the Holdout method:"
   ]
  },
  {
   "cell_type": "code",
   "execution_count": null,
   "metadata": {},
   "outputs": [],
   "source": [
    "def split_train_test(x, y, pct=80):\n",
    "    n = x.shape[0]\n",
    "    s = round(n * pct / 100)\n",
    "    \n",
    "    indices = np.random.permutation(n)\n",
    "    train_idx, test_idx = indices[:s], indices[s:]\n",
    "    \n",
    "    x_train, x_test = x[train_idx,:], x[test_idx,:]\n",
    "    y_train, y_test = y[train_idx,:], y[test_idx,:]\n",
    "    \n",
    "    return x_train, y_train, x_test, y_test\n",
    "    \n",
    "x_train, y_train, x_test, y_test = split_train_test(x, y, pct=80)\n",
    "\n",
    "w, e = fit(x_train, y_train, 1, 1000)\n",
    "print(\"Weight vector: {}\".format(w))\n",
    "print()\n",
    "print(\"Error curve:\")\n",
    "_ = plt.plot(e)\n",
    "plt.show()\n",
    "\n",
    "acc = accuracy(y_test, predict(x_test, w, real_y=y_test))\n",
    "print(\"Prediction Accuracy: {} ({}%)\".format(acc, acc * 100))"
   ]
  },
  {
   "cell_type": "markdown",
   "metadata": {},
   "source": [
    "***\n",
    "# END"
   ]
  }
 ],
 "metadata": {
  "kernelspec": {
   "display_name": "Python 3",
   "language": "python",
   "name": "python3"
  },
  "language_info": {
   "codemirror_mode": {
    "name": "ipython",
    "version": 3
   },
   "file_extension": ".py",
   "mimetype": "text/x-python",
   "name": "python",
   "nbconvert_exporter": "python",
   "pygments_lexer": "ipython3",
   "version": "3.6.6"
  }
 },
 "nbformat": 4,
 "nbformat_minor": 2
}
