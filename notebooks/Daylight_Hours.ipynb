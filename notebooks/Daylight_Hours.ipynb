{
 "cells": [
  {
   "cell_type": "markdown",
   "metadata": {},
   "source": [
    "# Jupyter notebook to display the daylight hours by month:\n",
    "\n",
    "The functions used here were taken from the blog post named \"Is Seattle Really Seeing an Uptick In Cycling?\".\n",
    "\n",
    "Link: __[Is Seattle Really Seeing an Uptick In Cycling?](https://jakevdp.github.io/blog/2014/06/10/is-seattle-really-seeing-an-uptick-in-cycling/)__"
   ]
  },
  {
   "cell_type": "code",
   "execution_count": null,
   "metadata": {},
   "outputs": [],
   "source": [
    "from datetime import datetime\n",
    "\n",
    "import matplotlib.pyplot as plt\n",
    "import numpy as np\n",
    "import pandas as pd"
   ]
  },
  {
   "cell_type": "code",
   "execution_count": null,
   "metadata": {},
   "outputs": [],
   "source": [
    "# function which returns the hours of daylight\n",
    "# given the day of the year, from 0 to 365\n",
    "def hours_of_daylight(date, axis=23.44, latitude=47.61):\n",
    "    \"\"\"\n",
    "    Compute the hours of daylight for the given date.\n",
    "    \n",
    "    :param date:     A pandas' date object.\n",
    "    :param axis:     Earth's tilt.\n",
    "    :param latitude: The latitude of the location for which to compute\n",
    "                     the daylight hours.\n",
    "                     \n",
    "    :returns: TODO\n",
    "    \"\"\"\n",
    "    diff = date - pd.datetime(2000, 12, 21)\n",
    "    day = diff.total_seconds() / 24. / 3600\n",
    "    day %= 365.25\n",
    "    m = 1. - np.tan(np.radians(latitude)) * np.tan(np.radians(axis) * np.cos(day * np.pi / 182.625))\n",
    "    m = max(0, min(m, 2))\n",
    "    \n",
    "    return 24. * np.degrees(np.arccos(1 - m)) / 180."
   ]
  },
  {
   "cell_type": "markdown",
   "metadata": {},
   "source": [
    "## Test the function:"
   ]
  },
  {
   "cell_type": "code",
   "execution_count": null,
   "metadata": {},
   "outputs": [],
   "source": [
    "# Asuncion / CA / Paraguay = -25.2637˚\n",
    "# Victoria / BC / Canada   = +48.4284˚\n",
    "INDEX:int = 2\n",
    "\n",
    "places = {\n",
    "    \"Asunción\": -25.2637,\n",
    "    \"Victoria\": +48.4284,\n",
    "    \"Chicago\": 41.841832\n",
    "}\n",
    "start = datetime(year=2018, month=1, day=1)\n",
    "days = start + pd.to_timedelta(np.arange(365), \"D\")\n",
    "\n",
    "# debug:\n",
    "# days\n",
    "\n",
    "# iterate all days an compute the daylight hours\n",
    "hours = pd.DataFrame(\n",
    "    days.map(lambda day: hours_of_daylight(day, latitude=list(places.values())[INDEX])),\n",
    "    columns=[\"Daylight Hours\"],\n",
    "    index=days\n",
    ")\n",
    "\n",
    "# debug:\n",
    "# hours.head()\n",
    "\n",
    "# plot\n",
    "hours.plot()\n",
    "plt.ylabel(\"Hours of daylight ({})\".format(list(places.keys())[INDEX]))\n",
    "\n",
    "# observation:\n",
    "# to print in hours, minutes and seconds use: dt.timedelta(hours=hours_of_daylight())"
   ]
  }
 ],
 "metadata": {
  "kernelspec": {
   "display_name": "Python 3",
   "language": "python",
   "name": "python3"
  },
  "language_info": {
   "codemirror_mode": {
    "name": "ipython",
    "version": 3
   },
   "file_extension": ".py",
   "mimetype": "text/x-python",
   "name": "python",
   "nbconvert_exporter": "python",
   "pygments_lexer": "ipython3",
   "version": "3.6.6"
  }
 },
 "nbformat": 4,
 "nbformat_minor": 2
}
