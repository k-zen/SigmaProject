{
 "cells": [
  {
   "cell_type": "markdown",
   "metadata": {},
   "source": [
    "<div style=\"text-align:right\">\n",
    "    <b>Author:</b> Andreas P. Koenzen (akc at apkc.net) / <a href=\"http://www.apkc.net\">www.apkc.net</a>\n",
    "</div>"
   ]
  },
  {
   "cell_type": "markdown",
   "metadata": {},
   "source": [
    "# Perceptron Classifier\n",
    "\n",
    "### Notes:\n",
    "1. Dataset can be found __[here](http://www.apkc.net/data)__.\n",
    "1. See notes by hand __[here](http://www.apkc.net/_8)__."
   ]
  },
  {
   "cell_type": "markdown",
   "metadata": {},
   "source": [
    "## Imports"
   ]
  },
  {
   "cell_type": "code",
   "execution_count": null,
   "metadata": {},
   "outputs": [],
   "source": [
    "%run '../../../../imports.py'"
   ]
  },
  {
   "cell_type": "markdown",
   "metadata": {},
   "source": [
    "## Configuration"
   ]
  },
  {
   "cell_type": "code",
   "execution_count": null,
   "metadata": {},
   "outputs": [],
   "source": [
    "%run '../../../../config.py'"
   ]
  },
  {
   "cell_type": "markdown",
   "metadata": {},
   "source": [
    "## Environment variables"
   ]
  },
  {
   "cell_type": "code",
   "execution_count": null,
   "metadata": {},
   "outputs": [],
   "source": [
    "%run '../../../../env_variables.py'"
   ]
  },
  {
   "cell_type": "markdown",
   "metadata": {},
   "source": [
    "## Bankruptcy Example\n",
    "- L = is the number of late payments on credit cards over the past year.\n",
    "- R = is the ratio of earnings to expenses (earnings : expenses).\n",
    "- Bankrupt = **-1 is NO / 1 is YES**."
   ]
  },
  {
   "cell_type": "code",
   "execution_count": null,
   "metadata": {},
   "outputs": [],
   "source": [
    "data = pd.read_csv(\"http://www.apkc.net/data/csc_578d/perceptron_1.csv\")\n",
    "data"
   ]
  },
  {
   "cell_type": "markdown",
   "metadata": {},
   "source": [
    "## Transform Data"
   ]
  },
  {
   "cell_type": "code",
   "execution_count": null,
   "metadata": {},
   "outputs": [],
   "source": [
    "data = pd.DataFrame(\n",
    "    data={\n",
    "        0: data['R'],      # X\n",
    "        1: data['L'],      # Y\n",
    "        2: data['Bankupt'] # Label\n",
    "    }\n",
    ")\n",
    "data"
   ]
  },
  {
   "cell_type": "markdown",
   "metadata": {},
   "source": [
    "## Plot the Data (2D)"
   ]
  },
  {
   "cell_type": "code",
   "execution_count": null,
   "metadata": {},
   "outputs": [],
   "source": [
    "fig, ax = plt.subplots(figsize=(8, 4))\n",
    "\n",
    "_ = ax.scatter(\n",
    "    x=data[0], \n",
    "    y=data[1], \n",
    "    c=data[2], \n",
    "    cmap=mpl.colors.ListedColormap(['red', 'blue']),\n",
    "    marker='o', \n",
    "    s=40)\n",
    "\n",
    "_ = ax.set_xlabel('Earning:Expenses')\n",
    "_ = ax.set_ylabel('Late Payments')"
   ]
  },
  {
   "cell_type": "markdown",
   "metadata": {},
   "source": [
    "## Plot the Data (3D)"
   ]
  },
  {
   "cell_type": "code",
   "execution_count": null,
   "metadata": {},
   "outputs": [],
   "source": [
    "fig = plt.figure(figsize=(8, 4))\n",
    "ax = fig.gca(projection='3d')\n",
    "\n",
    "_ = ax.scatter3D(xs=data[0],\n",
    "                 ys=data[1],\n",
    "                 zs=data[2],\n",
    "                 c=data[2],\n",
    "                 cmap=mpl.colors.ListedColormap(['red', 'blue']),\n",
    "                 marker='o',\n",
    "                 s=40)\n",
    "\n",
    "_ = ax.set_xlabel('Earning:Expenses')\n",
    "_ = ax.set_ylabel('Late Payments')\n",
    "_ = ax.set_zlabel('Class')"
   ]
  },
  {
   "cell_type": "markdown",
   "metadata": {},
   "source": [
    "## Compute the Weights of the Line\n",
    "\n",
    "Do N iterations and test the classifier."
   ]
  },
  {
   "cell_type": "code",
   "execution_count": null,
   "metadata": {},
   "outputs": [],
   "source": [
    "iterations = 200\n",
    "eta = 0.01\n",
    "debug = False\n",
    "w = np.array([[1.0, 1.0, 1.0]]) # Weight vector: X, Y, b\n",
    "plot_data = []\n",
    "\n",
    "for k in range(iterations):\n",
    "    # create vector x: should be feature #2, feature #1, y-intercept or feature #0\n",
    "    # 1. add the feature #0 to the X vector\n",
    "    b = np.ones((len(data.index), 1), dtype=float)\n",
    "    x = np.hstack([data.values[:,:2], b])\n",
    "    if debug:\n",
    "        if k + 1 == iterations:\n",
    "            x\n",
    "\n",
    "    # 2. create the *labels* vector. the class vector and compute its transpose\n",
    "    labels = np.array([data[2].to_numpy()])\n",
    "    labels = labels.T\n",
    "    if debug:\n",
    "        if k + 1 == iterations:\n",
    "            labels\n",
    "\n",
    "    # 4. compute the dot product of x.w\n",
    "    # x @ w.T\n",
    "\n",
    "    # 5. multiply by y\n",
    "    # y * (x @ w.T)\n",
    "\n",
    "    # 6. nudge vector w\n",
    "    # select instances that evaluate to True (Wrongly classified) and add them \n",
    "    # to a new array. the line: ((y * (x @ w.T)) < 0).reshape(x.shape[0]) \n",
    "    # creates a 1D array of boolean values which is used as row evaluation \n",
    "    # subscript in x. only rows that evaluate to TRUE will be added to the xx array.\n",
    "    xx = x[((labels * (x @ w.T)) < 0).reshape(x.shape[0]), :]\n",
    "    yy = labels[((labels * (x @ w.T)) < 0).reshape(x.shape[0]), :]\n",
    "    # debug\n",
    "    if debug:\n",
    "        if k + 1 == iterations:\n",
    "            ((labels * (x @ w.T)) < 0)\n",
    "            xx\n",
    "            yy\n",
    "        \n",
    "    z = np.sum(yy * xx, axis=0, keepdims=True)\n",
    "    if debug:\n",
    "        if k + 1 == iterations:\n",
    "            z\n",
    "    \n",
    "    if debug:\n",
    "        if k + 1 == iterations:\n",
    "            nyx = ((yy * xx) * eta)\n",
    "            nyx\n",
    "    \n",
    "    w = w + (z * eta)\n",
    "    if debug:\n",
    "        if k + 1 == iterations:\n",
    "            w\n",
    "            \n",
    "    # 7. Append to plot data.\n",
    "    plot_data.append(w)\n",
    "\n",
    "# w"
   ]
  },
  {
   "cell_type": "markdown",
   "metadata": {},
   "source": [
    "## Animate the Weight Vector (2D)"
   ]
  },
  {
   "cell_type": "code",
   "execution_count": null,
   "metadata": {},
   "outputs": [],
   "source": [
    "fig, ax = plt.subplots(figsize=(8, 4))\n",
    "\n",
    "_ = ax.set_xlabel('Earning:Expenses')\n",
    "_ = ax.set_ylabel('Late Payments')\n",
    "\n",
    "_ = ax.scatter(x=data[0],\n",
    "               y=data[1],\n",
    "               c=data[2],\n",
    "               cmap=mpl.colors.ListedColormap(['red', 'blue']),\n",
    "               marker='o',\n",
    "               s=40)\n",
    "\n",
    "line, = ax.plot([], [], c= 'black')\n",
    "annotations = []\n",
    "\n",
    "def init():\n",
    "    line.set_data([], [])\n",
    "    return line,\n",
    "\n",
    "def animate(i, ax):    \n",
    "    A = plot_data[i][0][0].item()\n",
    "    B = plot_data[i][0][1].item()\n",
    "    C = plot_data[i][0][2].item()\n",
    "        \n",
    "    temp_x_data = np.linspace(0.0, 2.0, num=10)\n",
    "    temp_y_data = [(-((A * k) + (C)) / B) for k in temp_x_data]\n",
    "    line.set_data(temp_x_data, temp_y_data)\n",
    "    \n",
    "    _ = ax.legend(['Iteration {}'.format(i + 1)])\n",
    "    \n",
    "    for k in annotations:\n",
    "        k.remove()\n",
    "    annotations[:] = []\n",
    "    annotations.append(ax.annotate(\n",
    "        'A:{:.2f} B:{:.2f} C:{:.2f}'.format(A, B, C),\n",
    "        xy=(10, 230),\n",
    "        xycoords='axes points',\n",
    "        bbox=dict(boxstyle='round', fc='w')))\n",
    "    \n",
    "    return line,\n",
    "\n",
    "anim = ani.FuncAnimation(fig,\n",
    "                         animate,\n",
    "                         init_func=init,\n",
    "                         frames=iterations, \n",
    "                         fargs=(ax,))\n",
    "plt.close()\n",
    "HTML(anim.to_jshtml())"
   ]
  },
  {
   "cell_type": "markdown",
   "metadata": {},
   "source": [
    "## Plot the Final Line (2D)"
   ]
  },
  {
   "cell_type": "code",
   "execution_count": null,
   "metadata": {},
   "outputs": [],
   "source": [
    "fig, ax = plt.subplots(figsize=(8, 4))\n",
    "\n",
    "_ = ax.scatter(\n",
    "    x=data[0], \n",
    "    y=data[1], \n",
    "    c=data[2], \n",
    "    cmap=mpl.colors.ListedColormap(['red', 'blue']),\n",
    "    marker='o',\n",
    "    s=40)\n",
    "\n",
    "A = w[0][0].item()\n",
    "B = w[0][1].item()\n",
    "C = w[0][2].item()\n",
    "\n",
    "temp_x_data = np.linspace(0.0, 2.0, num=10)\n",
    "temp_y_data = [(-((A * k) + (C)) / B) for k in temp_x_data]\n",
    "\n",
    "_ = plt.plot(temp_x_data, temp_y_data, c='black')\n",
    "\n",
    "_ = ax.set_xlabel('Earning:Expenses')\n",
    "_ = ax.set_ylabel('Late Payments')"
   ]
  },
  {
   "cell_type": "markdown",
   "metadata": {},
   "source": [
    "## Plot the Final Plane (3D)"
   ]
  },
  {
   "cell_type": "code",
   "execution_count": null,
   "metadata": {},
   "outputs": [],
   "source": [
    "fig = plt.figure(figsize=(8, 4))\n",
    "ax = fig.gca(projection='3d')\n",
    "frames = 360 * 2\n",
    "max_elev = 60\n",
    "min_elev = 15\n",
    "ele = list(range(min_elev, max_elev, 1))\n",
    "\n",
    "for k in range(1, int(frames / (max_elev - min_elev))):\n",
    "    if k % 2 != 0:\n",
    "        ele += list(range(max_elev, min_elev, -1))\n",
    "    else:\n",
    "        ele += list(range(min_elev, max_elev, 1))\n",
    "\n",
    "def init():\n",
    "    _ = ax.set_xlabel('Earning:Expenses')\n",
    "    _ = ax.set_ylabel('Late Payments')\n",
    "    _ = ax.set_zlabel('Class')\n",
    "    _ = ax.view_init(azim=0, elev=0)\n",
    "    \n",
    "    _ = ax.scatter3D(xs=data[0],\n",
    "                     ys=data[1],\n",
    "                     zs=data[2],\n",
    "                     c=data[2],\n",
    "                     cmap=mpl.colors.ListedColormap(['red', 'blue']),\n",
    "                     marker='o',\n",
    "                     s=40)\n",
    "\n",
    "    x_surf, y_surf = np.meshgrid(np.linspace(0.0, 10.0, num=20), np.linspace(0.0, 10.0, num=20))\n",
    "\n",
    "    A = w[0][0].item()\n",
    "    B = w[0][1].item()\n",
    "    C = w[0][2].item()\n",
    "    \n",
    "    # Find the value of Z using the equation of the plane.\n",
    "    z  = A * x_surf + B * y_surf + C\n",
    "    \n",
    "    _ = ax.plot_surface(x_surf, y_surf, z, color='black', alpha=0.2, rstride=2, cstride=2)\n",
    "    \n",
    "    return ax,\n",
    "\n",
    "def animate(i, ax):\n",
    "    ax.view_init(elev=ele[i], azim=i)\n",
    "    \n",
    "    return ax,\n",
    "\n",
    "anim = ani.FuncAnimation(fig,\n",
    "                         animate,\n",
    "                         init_func=init,\n",
    "                         frames=frames,\n",
    "                         interval=50,\n",
    "                         fargs=(ax,))\n",
    "plt.close()\n",
    "HTML(anim.to_jshtml())"
   ]
  },
  {
   "cell_type": "markdown",
   "metadata": {},
   "source": [
    "***\n",
    "# End"
   ]
  }
 ],
 "metadata": {
  "kernelspec": {
   "display_name": "Python 3 (ipykernel)",
   "language": "python",
   "name": "python3"
  },
  "language_info": {
   "codemirror_mode": {
    "name": "ipython",
    "version": 3
   },
   "file_extension": ".py",
   "mimetype": "text/x-python",
   "name": "python",
   "nbconvert_exporter": "python",
   "pygments_lexer": "ipython3",
   "version": "3.7.7"
  }
 },
 "nbformat": 4,
 "nbformat_minor": 4
}
