{
 "cells": [
  {
   "cell_type": "markdown",
   "metadata": {},
   "source": [
    "<div style=\"text-align:right\">\n",
    "    <b>Author:</b> Andreas P. Koenzen (akc at apkc.net) / <a href=\"http://www.apkc.net\">www.apkc.net</a>\n",
    "</div>"
   ]
  },
  {
   "cell_type": "markdown",
   "metadata": {},
   "source": [
    "# Probability Distributions\n",
    "\n",
    "**Links:**\n",
    "1. __[Plotting Distributions with matplotlib and scipy](https://emredjan.github.io/blog/2017/07/19/plotting-distributions/)__"
   ]
  },
  {
   "cell_type": "markdown",
   "metadata": {},
   "source": [
    "## Imports"
   ]
  },
  {
   "cell_type": "code",
   "execution_count": null,
   "metadata": {},
   "outputs": [],
   "source": [
    "%run '../../../imports.py'"
   ]
  },
  {
   "cell_type": "markdown",
   "metadata": {},
   "source": [
    "## Configuration"
   ]
  },
  {
   "cell_type": "code",
   "execution_count": null,
   "metadata": {},
   "outputs": [],
   "source": [
    "%run '../../../config.py'"
   ]
  },
  {
   "cell_type": "markdown",
   "metadata": {},
   "source": [
    "## Environment Variables"
   ]
  },
  {
   "cell_type": "code",
   "execution_count": null,
   "metadata": {},
   "outputs": [],
   "source": [
    "%run '../../../env_variables.py'"
   ]
  },
  {
   "cell_type": "markdown",
   "metadata": {},
   "source": [
    "## Normal Distribution\n",
    "\n",
    "### PDF\n",
    "${\\displaystyle f(x\\mid \\mu ,\\sigma ^{2})={\\frac {1}{\\sqrt {2\\pi \\sigma ^{2}}}}e^{-{\\frac {(x-\\mu )^{2}}{2\\sigma ^{2}}}}}$"
   ]
  },
  {
   "cell_type": "code",
   "execution_count": null,
   "metadata": {},
   "outputs": [],
   "source": [
    "x = np.linspace(-5, 5, 5000)\n",
    "mu = 0 # Mean\n",
    "sigma = 1 # Standard Deviation\n",
    "\n",
    "y_pdf = ss.norm.pdf(x, mu, sigma) # the normal pdf\n",
    "y_cdf = ss.norm.cdf(x, mu, sigma) # the normal cdf\n",
    "\n",
    "plt.plot(x, y_pdf, label='pdf')\n",
    "plt.plot(x, y_cdf, label='cdf')\n",
    "\n",
    "plt.legend();"
   ]
  },
  {
   "cell_type": "markdown",
   "metadata": {},
   "source": [
    "## Beta Distribution\n",
    "\n",
    "### PDF\n",
    "${\\displaystyle f(x, a, b) = \\frac{\\gamma(a+b) x^{a-1} (1-x)^{b-1}}{\\gamma(a) \\gamma(b)}}$\n",
    "\n",
    "### Links\n",
    "1. __[Applications of Beta Distribution](https://math.stackexchange.com/questions/2398634/applications-of-beta-distribution)__"
   ]
  },
  {
   "cell_type": "code",
   "execution_count": null,
   "metadata": {},
   "outputs": [],
   "source": [
    "fig, ax = plt.subplots(1, 2)\n",
    "fig.set_size_inches((12, 4))\n",
    "\n",
    "# plot density curve\n",
    "a, b = 221.0, 80.0\n",
    "x = np.linspace(ss.beta.ppf(0.01, a, b), ss.beta.ppf(0.99, a, b), 5000)\n",
    "ax[0].plot(x, ss.beta.pdf(x, a, b), label='pdf')\n",
    "\n",
    "# generate histogram and compare\n",
    "r = ss.beta.rvs(a, b, size=5000)\n",
    "ax[0].hist(r, density=True, histtype='stepfilled', alpha=0.2)\n",
    "ax[0].legend(loc='best', frameon=False)\n",
    "\n",
    "# plot cdf\n",
    "new_x = np.linspace(0, 1, 5000)\n",
    "ax[1].plot(new_x, ss.beta.cdf(new_x, a, b), label='cdf')\n",
    "ax[1].legend(loc='best', frameon=False)\n",
    "\n",
    "plt.legend();"
   ]
  },
  {
   "cell_type": "markdown",
   "metadata": {},
   "source": [
    "***\n",
    "# End"
   ]
  }
 ],
 "metadata": {
  "kernelspec": {
   "display_name": "Python 3 (ipykernel)",
   "language": "python",
   "name": "python3"
  },
  "language_info": {
   "codemirror_mode": {
    "name": "ipython",
    "version": 3
   },
   "file_extension": ".py",
   "mimetype": "text/x-python",
   "name": "python",
   "nbconvert_exporter": "python",
   "pygments_lexer": "ipython3",
   "version": "3.7.7"
  }
 },
 "nbformat": 4,
 "nbformat_minor": 4
}
