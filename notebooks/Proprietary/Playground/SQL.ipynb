{
 "cells": [
  {
   "cell_type": "markdown",
   "metadata": {},
   "source": [
    "<div style=\"text-align:right\">\n",
    "    <b>Author:</b> Andreas P. Koenzen (akc at apkc.net) / <a href=\"http://www.apkc.net\">www.apkc.net</a>\n",
    "</div>"
   ]
  },
  {
   "cell_type": "markdown",
   "metadata": {},
   "source": [
    "# SQL Playground"
   ]
  },
  {
   "cell_type": "markdown",
   "metadata": {},
   "source": [
    "## Imports"
   ]
  },
  {
   "cell_type": "code",
   "execution_count": null,
   "metadata": {},
   "outputs": [],
   "source": [
    "%run '../../../imports.py'"
   ]
  },
  {
   "cell_type": "markdown",
   "metadata": {},
   "source": [
    "## Configuration"
   ]
  },
  {
   "cell_type": "code",
   "execution_count": null,
   "metadata": {},
   "outputs": [],
   "source": [
    "%run '../../../config.py'"
   ]
  },
  {
   "cell_type": "markdown",
   "metadata": {},
   "source": [
    "## Environment Variables"
   ]
  },
  {
   "cell_type": "code",
   "execution_count": null,
   "metadata": {},
   "outputs": [],
   "source": [
    "%run '../../../env_variables.py'"
   ]
  },
  {
   "cell_type": "markdown",
   "metadata": {},
   "source": [
    "## Connect to the Database"
   ]
  },
  {
   "cell_type": "markdown",
   "metadata": {},
   "source": [
    "### Example\n",
    "```\n",
    "con = psycopg2.connect(database=\"playground_imdb\")\n",
    "with con:\n",
    "    cur = con.cursor()\n",
    "    cur.execute('SELECT version()')\n",
    "\n",
    "    version = cur.fetchone()[0]\n",
    "    print(version)\n",
    "```"
   ]
  },
  {
   "cell_type": "markdown",
   "metadata": {},
   "source": [
    "## Load Data from Files"
   ]
  },
  {
   "cell_type": "code",
   "execution_count": null,
   "metadata": {},
   "outputs": [],
   "source": [
    "DATASET_HOME = \"~/Temp/imdb\""
   ]
  },
  {
   "cell_type": "code",
   "execution_count": null,
   "metadata": {},
   "outputs": [],
   "source": [
    "original_df = pd.read_csv(\n",
    "    f\"{DATASET_HOME}/title.akas.tsv\",\n",
    "    sep=\"\\t\",\n",
    "    header=0,\n",
    "    names=[\n",
    "        \"title_id\", \n",
    "        \"ordering\", \n",
    "        \"title\", \n",
    "        \"region\", \n",
    "        \"language\", \n",
    "        \"types\", \n",
    "        \"attributes\",\n",
    "        \"is_original_title\",\n",
    "    ],\n",
    "    dtype={\n",
    "        \"title_id\": str, \n",
    "        \"ordering\": np.int8, \n",
    "        \"title\": str, \n",
    "        \"region\": str, \n",
    "        \"language\": str, \n",
    "        \"types\": str, \n",
    "        \"attributes\": str,\n",
    "        \"is_original_title\": str,\n",
    "    }\n",
    ")"
   ]
  },
  {
   "cell_type": "code",
   "execution_count": null,
   "metadata": {},
   "outputs": [],
   "source": [
    "original_df"
   ]
  },
  {
   "cell_type": "markdown",
   "metadata": {},
   "source": [
    "## Replace and Clean"
   ]
  },
  {
   "cell_type": "code",
   "execution_count": null,
   "metadata": {},
   "outputs": [],
   "source": [
    "df = original_df.replace({\"\\\\N\": None})"
   ]
  },
  {
   "cell_type": "code",
   "execution_count": null,
   "metadata": {},
   "outputs": [],
   "source": [
    "df"
   ]
  },
  {
   "cell_type": "code",
   "execution_count": null,
   "metadata": {},
   "outputs": [],
   "source": [
    "def f(l):\n",
    "    if l is not None:\n",
    "        return str(l).upper()\n",
    "    else:\n",
    "        return None\n",
    "\n",
    "df[\"title\"] = df[\"title\"].apply(f)\n",
    "df[\"region\"] = df[\"region\"].apply(f)\n",
    "df[\"language\"] = df[\"language\"].apply(f)"
   ]
  },
  {
   "cell_type": "code",
   "execution_count": null,
   "metadata": {},
   "outputs": [],
   "source": [
    "df"
   ]
  },
  {
   "cell_type": "code",
   "execution_count": null,
   "metadata": {},
   "outputs": [],
   "source": [
    "def f(l):\n",
    "    if str(l) == \"0\":\n",
    "        return \"False\"\n",
    "    else:\n",
    "        return \"True\"\n",
    "\n",
    "df[\"is_original_title\"] = df[\"is_original_title\"].apply(f)"
   ]
  },
  {
   "cell_type": "code",
   "execution_count": null,
   "metadata": {},
   "outputs": [],
   "source": [
    "df"
   ]
  },
  {
   "cell_type": "code",
   "execution_count": null,
   "metadata": {},
   "outputs": [],
   "source": [
    "def f(l):\n",
    "    if l is not None:\n",
    "        return \"{\" + l + \"}\"\n",
    "    else:\n",
    "        return None\n",
    "\n",
    "df[\"types\"] = df[\"types\"].apply(f)\n",
    "df[\"attributes\"] = df[\"attributes\"].apply(f)"
   ]
  },
  {
   "cell_type": "code",
   "execution_count": null,
   "metadata": {},
   "outputs": [],
   "source": [
    "df"
   ]
  },
  {
   "cell_type": "markdown",
   "metadata": {},
   "source": [
    "***\n",
    "# End"
   ]
  }
 ],
 "metadata": {
  "kernelspec": {
   "display_name": "Python 3 (ipykernel)",
   "language": "python",
   "name": "python3"
  },
  "language_info": {
   "codemirror_mode": {
    "name": "ipython",
    "version": 3
   },
   "file_extension": ".py",
   "mimetype": "text/x-python",
   "name": "python",
   "nbconvert_exporter": "python",
   "pygments_lexer": "ipython3",
   "version": "3.7.7"
  }
 },
 "nbformat": 4,
 "nbformat_minor": 4
}
