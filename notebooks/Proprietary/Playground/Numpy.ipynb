{
 "cells": [
  {
   "cell_type": "markdown",
   "metadata": {},
   "source": [
    "<div style=\"text-align:right\">\n",
    "    <b>Author:</b> Andreas P. Koenzen (akc at apkc.net) / <a href=\"http://www.apkc.net\">www.apkc.net</a>\n",
    "</div>"
   ]
  },
  {
   "cell_type": "markdown",
   "metadata": {},
   "source": [
    "# NumPy Playground"
   ]
  },
  {
   "cell_type": "markdown",
   "metadata": {},
   "source": [
    "## Imports"
   ]
  },
  {
   "cell_type": "code",
   "execution_count": null,
   "metadata": {},
   "outputs": [],
   "source": [
    "%run '../../../imports.py'"
   ]
  },
  {
   "cell_type": "markdown",
   "metadata": {},
   "source": [
    "## Configuration"
   ]
  },
  {
   "cell_type": "code",
   "execution_count": null,
   "metadata": {},
   "outputs": [],
   "source": [
    "%run '../../../config.py'"
   ]
  },
  {
   "cell_type": "markdown",
   "metadata": {},
   "source": [
    "## Environment Variables"
   ]
  },
  {
   "cell_type": "code",
   "execution_count": null,
   "metadata": {},
   "outputs": [],
   "source": [
    "%run '../../../env_variables.py'"
   ]
  },
  {
   "cell_type": "markdown",
   "metadata": {},
   "source": [
    "## Array Slicing and Reshaping"
   ]
  },
  {
   "cell_type": "markdown",
   "metadata": {},
   "source": [
    "### Reshape"
   ]
  },
  {
   "cell_type": "code",
   "execution_count": null,
   "metadata": {},
   "outputs": [],
   "source": [
    "a = np.arange(1, 21)\n",
    "np.reshape(a, (-1, 2, 2)) # In this case -1 equals an UNKNOWN DIMENSION, which means that it will infer that the necessary value is *5*."
   ]
  },
  {
   "cell_type": "markdown",
   "metadata": {},
   "source": [
    "### newaxis\n",
    "Adds another dimension to some array. 1D => 2D, 2D => 3D, etc."
   ]
  },
  {
   "cell_type": "code",
   "execution_count": null,
   "metadata": {},
   "outputs": [],
   "source": [
    "a = np.arange(1, 4)\n",
    "a\n",
    "a.shape\n",
    "\n",
    "# this is the same as add one dimension as rows \n",
    "# of the same length as columns in a or no columns \n",
    "# for a.\n",
    "a = a[np.newaxis, :]\n",
    "a\n",
    "a.shape\n",
    "\n",
    "# the property newaxis is just a None object, so we \n",
    "# can pass None as a subscript to our array.\n",
    "type(np.newaxis)"
   ]
  },
  {
   "cell_type": "markdown",
   "metadata": {},
   "source": [
    "### Shapes"
   ]
  },
  {
   "cell_type": "markdown",
   "metadata": {},
   "source": [
    "![3D Array](https://cdncontribute.geeksforgeeks.org/wp-content/uploads/3D-array.jpg)"
   ]
  },
  {
   "cell_type": "code",
   "execution_count": null,
   "metadata": {},
   "outputs": [],
   "source": [
    "np.zeros((3, 4, 5)) # This means 3 arrays of 4 rows and 5 columns. In this case\n",
    "                    # the first index is the depth or # of arrays."
   ]
  },
  {
   "cell_type": "markdown",
   "metadata": {},
   "source": [
    "### General Slicing"
   ]
  },
  {
   "cell_type": "code",
   "execution_count": null,
   "metadata": {},
   "outputs": [],
   "source": [
    "# All elements except the last. The same as arr[0:-1:1]\n",
    "arr = np.arange(1, 10).reshape((3, 3))\n",
    "arr\n",
    "arr[:, 0:2]"
   ]
  },
  {
   "cell_type": "markdown",
   "metadata": {},
   "source": [
    "## Selecting Elements"
   ]
  },
  {
   "cell_type": "code",
   "execution_count": null,
   "metadata": {},
   "outputs": [],
   "source": [
    "arr = np.arange(1, 10).reshape((3, 3))\n",
    "arr\n",
    "arr[:, 1]\n",
    "(arr[:, 1] != 2) | (arr[:, 1] != 5)\n",
    "arr[(arr[:, 1] == 2) | (arr[:, 1] == 5)]"
   ]
  },
  {
   "cell_type": "markdown",
   "metadata": {},
   "source": [
    "## Referencing / Indexing"
   ]
  },
  {
   "cell_type": "code",
   "execution_count": null,
   "metadata": {},
   "outputs": [],
   "source": [
    "# TODO: Implement using a Matrix as a subscript."
   ]
  },
  {
   "cell_type": "code",
   "execution_count": null,
   "metadata": {},
   "outputs": [],
   "source": [
    "# Last element.\n",
    "arr = np.arange(1, 11)\n",
    "arr\n",
    "\n",
    "arr[-1]"
   ]
  },
  {
   "cell_type": "code",
   "execution_count": null,
   "metadata": {},
   "outputs": [],
   "source": [
    "# General:\n",
    "arr = np.arange(1, 11)\n",
    "arr\n",
    "\n",
    "arr[-2:] # returns the 2 last elements as array elements, NOT as scalars! \"See colon at the end\"."
   ]
  },
  {
   "cell_type": "code",
   "execution_count": null,
   "metadata": {},
   "outputs": [],
   "source": [
    "# Element access in a 3D array.\n",
    "# 3D array = Depth, Rows, Columns\n",
    "arr = np.random.random((3, 32, 32))\n",
    "arr\n",
    "\n",
    "arr.shape[1:]"
   ]
  },
  {
   "cell_type": "code",
   "execution_count": null,
   "metadata": {},
   "outputs": [],
   "source": [
    "# Size along a given axis.\n",
    "arr = np.random.random((32, 32, 3))\n",
    "np.size(arr, axis=2)"
   ]
  },
  {
   "cell_type": "code",
   "execution_count": null,
   "metadata": {},
   "outputs": [],
   "source": [
    "# For loops.\n",
    "arr = np.random.random((3, 4, 5)) # 3D array = Depth, Rows, Columns\n",
    "arr\n",
    "for i in range(0, np.size(arr, axis=0)): # Get the depth. Iterates through the depth.\n",
    "    arr[i] # New array with one less dimension than the original.\n",
    "    \n",
    "    # Example: Get the element in the 2 row and 3 column of each depth/level.\n",
    "    arr[i][1][2]"
   ]
  },
  {
   "cell_type": "code",
   "execution_count": null,
   "metadata": {},
   "outputs": [],
   "source": [
    "# Unequal slicing, like for Cross-Validating using k-Fold.\n",
    "# What I need is to:\n",
    "#\n",
    "# Full dataset:\n",
    "# |--------------------------|\n",
    "# |--------------------------|\n",
    "#\n",
    "#   1-Fold:\n",
    "#   |---|---------------------|\n",
    "#   |---|---------------------|\n",
    "#\n",
    "#   ...\n",
    "#\n",
    "#   k-Fold:\n",
    "#   |---------------------|---|\n",
    "#   |---------------------|---|\n",
    "arr = np.arange(0, 500000).reshape((50000, 10))\n",
    "\n",
    "chunks = 5\n",
    "for k in range(chunks):\n",
    "    chunk_size = int(arr.shape[0] / chunks) # Move out of loop to avoid extra computation.\n",
    "    indices = range(k * chunk_size, (k + 1) * chunk_size)\n",
    "    fold = arr[indices]\n",
    "    rest = np.delete(arr, indices, 0)\n",
    "    \n",
    "    fold.shape\n",
    "    rest.shape\n",
    "    \n",
    "    print('======')"
   ]
  },
  {
   "cell_type": "markdown",
   "metadata": {},
   "source": [
    "## Fancy Indexing"
   ]
  },
  {
   "cell_type": "code",
   "execution_count": null,
   "metadata": {},
   "outputs": [],
   "source": [
    "arr = np.arange(0, 27).reshape((3, 3, 3))\n",
    "# arr\n",
    "\n",
    "# REMEMBER: 3D array = Depth, Rows, Columns\n",
    "arr[0, 1, 1] = np.arange(0, 1) # We are passing a sequence to replace certain elements at certain\n",
    "arr                            # indexes. BUT they need to match: HOW MANY ELEMENTS TO SEQUENCE!!"
   ]
  },
  {
   "cell_type": "code",
   "execution_count": null,
   "metadata": {},
   "outputs": [],
   "source": [
    "A = np.arange(10).reshape((2, 5))\n",
    "B = np.arange(10, 20).reshape((2, 5))\n",
    "C = np.zeros(10).reshape((2, 5))\n",
    "\n",
    "A[np.arange(A.shape[0]), np.array([4, 4])] = C[np.arange(A.shape[0]), np.array([4, 4])] == 0\n",
    "\n",
    "A\n",
    "B\n",
    "C"
   ]
  },
  {
   "cell_type": "markdown",
   "metadata": {},
   "source": [
    "## Operations"
   ]
  },
  {
   "cell_type": "code",
   "execution_count": null,
   "metadata": {},
   "outputs": [],
   "source": [
    "arr = np.arange(0, 9).reshape((3, 3))\n",
    "arr\n",
    "\n",
    "arr / 9"
   ]
  },
  {
   "cell_type": "code",
   "execution_count": null,
   "metadata": {},
   "outputs": [],
   "source": [
    "# Functions:\n",
    "arr = np.arange(0, 9).reshape((3, 3))\n",
    "arr\n",
    "\n",
    "## Mean:\n",
    "np.mean(arr, axis=1)"
   ]
  },
  {
   "cell_type": "markdown",
   "metadata": {},
   "source": [
    "## Casting"
   ]
  },
  {
   "cell_type": "code",
   "execution_count": null,
   "metadata": {},
   "outputs": [],
   "source": [
    "# Pass a Python list as an argument to np.mean.\n",
    "# If axis=None it will compute the mean as a flattened array, if axis=0 it will compute the mean\n",
    "# along the row axis and so on.\n",
    "np.mean([1, 2, 3, 4, 5, 6], axis=None)\n",
    "\n",
    "(np.ones((10, 4)) == np.arange(4)).shape"
   ]
  },
  {
   "cell_type": "markdown",
   "metadata": {},
   "source": [
    "***\n",
    "# The End"
   ]
  }
 ],
 "metadata": {
  "kernelspec": {
   "display_name": "Python 3",
   "language": "python",
   "name": "python3"
  },
  "language_info": {
   "codemirror_mode": {
    "name": "ipython",
    "version": 3
   },
   "file_extension": ".py",
   "mimetype": "text/x-python",
   "name": "python",
   "nbconvert_exporter": "python",
   "pygments_lexer": "ipython3",
   "version": "3.7.7"
  }
 },
 "nbformat": 4,
 "nbformat_minor": 4
}
