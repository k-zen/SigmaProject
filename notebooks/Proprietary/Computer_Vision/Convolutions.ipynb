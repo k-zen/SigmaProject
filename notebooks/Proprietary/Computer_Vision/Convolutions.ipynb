{
 "cells": [
  {
   "cell_type": "markdown",
   "metadata": {},
   "source": [
    "<div style=\"text-align:right\">\n",
    "    <b>Author:</b> Andreas P. Koenzen (akc at apkc.net) / <a href=\"http://www.apkc.net\">www.apkc.net</a>\n",
    "</div>"
   ]
  },
  {
   "cell_type": "markdown",
   "metadata": {},
   "source": [
    "# Image Processing"
   ]
  },
  {
   "cell_type": "markdown",
   "metadata": {},
   "source": [
    "## Imports"
   ]
  },
  {
   "cell_type": "code",
   "execution_count": null,
   "metadata": {},
   "outputs": [],
   "source": [
    "%run '../../../imports.py'"
   ]
  },
  {
   "cell_type": "markdown",
   "metadata": {},
   "source": [
    "## Configuration"
   ]
  },
  {
   "cell_type": "code",
   "execution_count": null,
   "metadata": {},
   "outputs": [],
   "source": [
    "%run '../../../config.py'"
   ]
  },
  {
   "cell_type": "code",
   "execution_count": null,
   "metadata": {},
   "outputs": [],
   "source": [
    "_ = mpl.rcParams['figure.figsize'] = (8, 8)"
   ]
  },
  {
   "cell_type": "markdown",
   "metadata": {},
   "source": [
    "## Environment variables"
   ]
  },
  {
   "cell_type": "code",
   "execution_count": null,
   "metadata": {},
   "outputs": [],
   "source": [
    "%run '../../../env_variables.py'"
   ]
  },
  {
   "cell_type": "markdown",
   "metadata": {},
   "source": [
    "## Download Image"
   ]
  },
  {
   "cell_type": "code",
   "execution_count": null,
   "metadata": {},
   "outputs": [],
   "source": [
    "img_ori = utilities.Utilities.read_image(url='http://www.apkc.net/data/cv_images/0012.jpeg')\n",
    "img_ori = cv.cvtColor(img_ori, cv.COLOR_BGR2RGB) # Convert from BGR to RGB.\n",
    "img_ori.shape"
   ]
  },
  {
   "cell_type": "markdown",
   "metadata": {},
   "source": [
    "## Reading an image using OpenCV"
   ]
  },
  {
   "cell_type": "code",
   "execution_count": null,
   "metadata": {},
   "outputs": [],
   "source": [
    "_ = plt.imshow(img_ori, aspect='equal')"
   ]
  },
  {
   "cell_type": "code",
   "execution_count": null,
   "metadata": {},
   "outputs": [],
   "source": [
    "img_ori[:, :, 0]"
   ]
  },
  {
   "cell_type": "markdown",
   "metadata": {},
   "source": [
    "## Separate Channels"
   ]
  },
  {
   "cell_type": "code",
   "execution_count": null,
   "metadata": {},
   "outputs": [],
   "source": [
    "fig = plt.figure(figsize=(8, 12))\n",
    "gs = fig.add_gridspec(2, 2)\n",
    "ax1 = fig.add_subplot(gs[0, 0])\n",
    "ax2 = fig.add_subplot(gs[0, 1])\n",
    "ax3 = fig.add_subplot(gs[1, 0])\n",
    "ax4 = fig.add_subplot(gs[1, 1])\n",
    "\n",
    "channel_1 = img_ori[: ,: ,0] # Red channel.\n",
    "channel_2 = img_ori[: ,: ,1] # Green channel.\n",
    "channel_3 = img_ori[: ,: ,2] # Blue channel.\n",
    "\n",
    "# Use different colors maps to paint the image.\n",
    "_ = ax1.imshow(channel_1, aspect='equal', cmap='Reds_r')\n",
    "_ = ax2.imshow(channel_2, aspect='equal', cmap='Greens_r')\n",
    "_ = ax3.imshow(channel_3, aspect='equal', cmap='Blues_r')\n",
    "_ = ax4.imshow(channel_1, aspect='equal', cmap='Greys_r')"
   ]
  },
  {
   "cell_type": "markdown",
   "metadata": {},
   "source": [
    "## Convolutions"
   ]
  },
  {
   "cell_type": "markdown",
   "metadata": {},
   "source": [
    "### Very Simple Example"
   ]
  },
  {
   "cell_type": "code",
   "execution_count": null,
   "metadata": {},
   "outputs": [],
   "source": [
    "# Hyper-parameters\n",
    "padding = 1\n",
    "\n",
    "# Images\n",
    "img = img_ori[:, :, 0] # Grab only the first channel.\n",
    "# Pad original image.\n",
    "img_pad = np.pad(img, (padding, padding), mode='constant', constant_values=0)\n",
    "\n",
    "# Output image.\n",
    "out = convolution.Convolution().convolution2d(\n",
    "    img=img_pad, \n",
    "    kernel=convolution.Convolution.KERNELS[convolution.Convolution.IDENTITY], \n",
    "    padding=padding\n",
    ")\n",
    "\n",
    "# Verify that both images are equal. Must be True with the identity kernel.\n",
    "print('===')\n",
    "print('* Images are equal: {}'.format(np.array_equal(img, out)))\n",
    "print('* Input img size: {}'.format(img.shape))\n",
    "print('* Output img size: {}'.format(out.shape))\n",
    "print('===')\n",
    "\n",
    "# Print output image.\n",
    "_ = plt.imshow(out, aspect='equal', cmap='Greys_r')"
   ]
  },
  {
   "cell_type": "markdown",
   "metadata": {},
   "source": [
    "### Detect Edges"
   ]
  },
  {
   "cell_type": "code",
   "execution_count": null,
   "metadata": {},
   "outputs": [],
   "source": [
    "# Hyper-parameters\n",
    "padding = 1\n",
    "\n",
    "# Images\n",
    "img = img_ori[:, :, 0] # Grab only the first channel.\n",
    "# Pad original image.\n",
    "img_pad = np.pad(img, (padding, padding), mode='constant', constant_values=0)\n",
    "# Output image.\n",
    "out = convolution.Convolution().convolution2d(\n",
    "    img=img_pad, \n",
    "    kernel=convolution.Convolution.KERNELS[convolution.Convolution.EDGES_3], \n",
    "    padding=padding\n",
    ")\n",
    "\n",
    "# Verify that both images are equal. Must be True with the identity kernel.\n",
    "print('===')\n",
    "print('* Images are equal: {}'.format(np.array_equal(img, out)))\n",
    "print('* Input img size: {}'.format(img.shape))\n",
    "print('* Output img size: {}'.format(out.shape))\n",
    "print('===')\n",
    "\n",
    "# Print output image.\n",
    "_ = plt.imshow(out, aspect='equal', cmap='Greys_r')"
   ]
  },
  {
   "cell_type": "markdown",
   "metadata": {},
   "source": [
    "### Full Convolution Example\n",
    "\n",
    "In this example I will try to mimick a forward pass in a CNN. Kernels are set manually to random weights to observe different results in each layer's activation maps."
   ]
  },
  {
   "cell_type": "code",
   "execution_count": null,
   "metadata": {},
   "outputs": [],
   "source": [
    "# Hyper-parameters\n",
    "padding = 1\n",
    "\n",
    "# Images\n",
    "img = img_ori # Grab all channels.\n",
    "\n",
    "# Load the kernels for each layer. They all share the same 4 available kernels.\n",
    "kernels = np.zeros((4, 3, 3, 3))\n",
    "for n in range(kernels.shape[0]):\n",
    "    kernels[n] = convolution.Convolution.KERNELS[n + 1]\n",
    "\n",
    "# Build the dummy net.\n",
    "net = dummy_network.DummyNetwork(\n",
    "    layers=[\n",
    "        conv_layer.ConvLayer(), \n",
    "        activations.Activations(), \n",
    "        pooling_layer.PoolingLayer(),\n",
    "        conv_layer.ConvLayer(), \n",
    "        activations.Activations(), \n",
    "        pooling_layer.PoolingLayer(),\n",
    "        conv_layer.ConvLayer(), \n",
    "        activations.Activations(), \n",
    "        pooling_layer.PoolingLayer()\n",
    "    ],\n",
    "    kernels=kernels\n",
    ")\n",
    "\n",
    "# Make a forward pass.\n",
    "net.conv_layer_forward(img, padding, True)"
   ]
  },
  {
   "cell_type": "markdown",
   "metadata": {},
   "source": [
    "***\n",
    "# End"
   ]
  }
 ],
 "metadata": {
  "kernelspec": {
   "display_name": "Python 3",
   "language": "python",
   "name": "python3"
  },
  "language_info": {
   "codemirror_mode": {
    "name": "ipython",
    "version": 3
   },
   "file_extension": ".py",
   "mimetype": "text/x-python",
   "name": "python",
   "nbconvert_exporter": "python",
   "pygments_lexer": "ipython3",
   "version": "3.7.7"
  }
 },
 "nbformat": 4,
 "nbformat_minor": 4
}
