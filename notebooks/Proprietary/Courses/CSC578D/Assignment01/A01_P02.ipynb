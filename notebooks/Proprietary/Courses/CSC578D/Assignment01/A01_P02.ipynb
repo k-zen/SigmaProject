{
 "cells": [
  {
   "cell_type": "markdown",
   "metadata": {},
   "source": [
    "<div style=\"text-align:right\">\n",
    "    <img alt=\"K-Zen\" title=\"K-Zen\" src=\"http://apkc.net/img/images/K-Zen_6.jpeg\" style=\"width:50px;height:auto;border-radius:50%;\"/>\n",
    "    <br/>\n",
    "    <b>Author:</b> Andreas P. Koenzen (akc at apkc.net) / <a href=\"http://www.apkc.net\">www.apkc.net</a>\n",
    "</div>"
   ]
  },
  {
   "cell_type": "markdown",
   "metadata": {},
   "source": [
    "# CSC 578D / Data Mining / Fall 2018 / University of Victoria\n",
    "\n",
    "## Assignment 01 / Problem 02"
   ]
  },
  {
   "cell_type": "markdown",
   "metadata": {},
   "source": [
    "## Imports"
   ]
  },
  {
   "cell_type": "code",
   "execution_count": null,
   "metadata": {
    "jupyter": {
     "source_hidden": true
    }
   },
   "outputs": [],
   "source": [
    "%run '../../../../jupyter_imports.py'"
   ]
  },
  {
   "cell_type": "markdown",
   "metadata": {},
   "source": [
    "## Miscellaneous configuration"
   ]
  },
  {
   "cell_type": "code",
   "execution_count": null,
   "metadata": {
    "jupyter": {
     "source_hidden": true
    }
   },
   "outputs": [],
   "source": [
    "%run '../../../../miscellaneous_config.py'"
   ]
  },
  {
   "cell_type": "markdown",
   "metadata": {},
   "source": [
    "## Environment variables and constants"
   ]
  },
  {
   "cell_type": "code",
   "execution_count": null,
   "metadata": {
    "jupyter": {
     "source_hidden": true
    }
   },
   "outputs": [],
   "source": [
    "%run '../../../../env_variables.py'"
   ]
  },
  {
   "cell_type": "markdown",
   "metadata": {},
   "source": [
    "## Load data"
   ]
  },
  {
   "cell_type": "code",
   "execution_count": null,
   "metadata": {
    "jupyter": {
     "source_hidden": true
    }
   },
   "outputs": [],
   "source": [
    "url_data = rq.get('http://www.apkc.net/data/weka/weather.nominal.arff').text\n",
    "data = arff.loadarff(StringIO(url_data))\n",
    "df = pd.DataFrame(data[0], index=pd.Index(np.arange(14) + 1), dtype='object')\n",
    "\n",
    "# Convert all data in the columns to strings instead of binary objects.\n",
    "string_df = df.select_dtypes([np.object]).stack().str.decode('UTF-8').unstack()\n",
    "for col in string_df:\n",
    "    df[col] = string_df[col]\n",
    "df"
   ]
  },
  {
   "cell_type": "markdown",
   "metadata": {},
   "source": [
    "### Solution\n",
    "\n",
    "(4 points) Construct two rules using PRISM for the weather data. Show the details of your construction. Then, check your solution with Weka (the data file is included with Weka).\n",
    "\n",
    "#### The full set of rules for this exercise is the following\n",
    "\n",
    "```\n",
    "IF (outlook=overcast)                       THEN yes\n",
    "IF (humidity=normal)  AND (windy=FALSE)     THEN yes\n",
    "IF (temperature=mild) AND (humidity=normal) THEN yes\n",
    "IF (outlook=rainy)    AND (windy=FALSE)     THEN yes\n",
    "IF (outlook=sunny)    AND (humidity=high)   THEN no\n",
    "IF (outlook=rainy)    AND (windy=TRUE)      THEN no\n",
    "```\n",
    "\n",
    "#### Notes\n",
    "\n",
    "- 3 significant digits are used for all results.\n",
    "- results are rounded up if 4th significant digit is >= 5."
   ]
  },
  {
   "cell_type": "markdown",
   "metadata": {},
   "source": [
    "#### Step #1\n",
    "\n",
    "We construct an empty condition (no antecedent) rule for a random class, and list all possible test for that class.\n",
    "\n",
    "**Current State**\n",
    "\n",
    "```\n",
    "IF (?) THEN no\n",
    "```\n",
    "\n",
    "**Possible Tests/Conditions**\n",
    "\n",
    "```\n",
    "outlook=sunny    3/5\n",
    "outlook=overcast 0/4\n",
    "outlook=rainy    2/5\n",
    "temperature=hot  2/4\n",
    "temperature=mild 2/6\n",
    "temperature=cold 1/4\n",
    "humidity=high    4/7  => HIGHEST ACCURACY\n",
    "humidity=normal  1/7\n",
    "windy=FALSE      2/8\n",
    "windy=TRUE       3/6\n",
    "```\n",
    "\n",
    "From this list we select the the condition with the highest probability of occurrence GIVEN that the class is **no** or the highest accuracy. In this case we select *humidity=high* has the highest accuracy from the initial list.\n",
    "<br>\n",
    "<br>\n",
    "$Coverage(\\text{humidity=high}) = 7$\n",
    "<br>\n",
    "<br>\n",
    "$Accuracy(\\text{humidity=high | play=no}) = 4/7 = 0.57$\n",
    "<br>\n",
    "<br>\n",
    "We can see that the accuracy is not very high so we refine some more."
   ]
  },
  {
   "cell_type": "markdown",
   "metadata": {},
   "source": [
    "#### Step #2\n",
    "\n",
    "We add a new test to the rule to increase the accuracy.\n",
    "\n",
    "**Current State**\n",
    "\n",
    "```\n",
    "IF (humidity=high) AND (?) THEN no\n",
    "```\n",
    "\n",
    "**Possible Test/Conditions**\n",
    "\n",
    "```\n",
    "humidity=high AND outlook=sunny    3/3  => HIGHEST ACCURACY\n",
    "humidity=high AND outlook=overcast 0/2\n",
    "humidity=high AND outlook=rainy    1/2\n",
    "humidity=high AND temperature=hot  2/3\n",
    "humidity=high AND temperature=mild 2/4\n",
    "humidity=high AND temperature=cold 0/0\n",
    "humidity=high AND windy=FALSE      2/4\n",
    "humidity=high AND windy=TRUE       2/3\n",
    "```\n",
    "\n",
    "Again we select the test with the highest accuracy and add it to the rule. In this case we select *outlook=sunny*.\n",
    "<br>\n",
    "<br>\n",
    "$Coverage(\\text{humidity=high AND outlook=sunny}) = 3$\n",
    "<br>\n",
    "<br>\n",
    "$Accuracy(\\text{humidity=high AND outlook=sunny | play=no}) = 3/3 = 1$\n",
    "<br>\n",
    "<br>\n",
    "We've reached an accuracy of 1.0. So we stop here, because the rule is already refined to the maximum.\n",
    "\n",
    "#### Rule #1 is\n",
    "\n",
    "```\n",
    "IF (humidity=high) AND (outlook=sunny) THEN no\n",
    "```"
   ]
  },
  {
   "cell_type": "markdown",
   "metadata": {},
   "source": [
    "#### Step #3\n",
    "\n",
    "We continue building rules until we have covered every attribute-value combination OR until we have the perfect set of rules.\n",
    "\n",
    "The dataset looks like this after we exclude records that are covered by the rule #1."
   ]
  },
  {
   "cell_type": "code",
   "execution_count": null,
   "metadata": {
    "jupyter": {
     "source_hidden": true
    }
   },
   "outputs": [],
   "source": [
    "new_df = df.loc[(df['humidity'] != 'high') | (df['outlook'] != 'sunny')]\n",
    "new_df"
   ]
  },
  {
   "cell_type": "markdown",
   "metadata": {},
   "source": [
    "#### Step #4\n",
    "\n",
    "We construct an empty condition (no antecedent) rule for a class **no** again, and list all possible test for that class, excluding the tests that are covered by rule #1.\n",
    "\n",
    "**Current State**\n",
    "\n",
    "```\n",
    "IF (?) THEN no\n",
    "```\n",
    "\n",
    "**Possible Tests/Conditions**\n",
    "\n",
    "```\n",
    "outlook=overcast 0/4\n",
    "outlook=rainy    2/5  => HIGHEST ACCURACY\n",
    "temperature=hot  0/2\n",
    "temperature=mild 1/5\n",
    "temperature=cold 1/4\n",
    "humidity=normal  1/7\n",
    "windy=FALSE      0/6\n",
    "windy=TRUE       2/5  => HIGHEST ACCURACY\n",
    "```\n",
    "\n",
    "From this list we select the the condition with the highest probability of occurrence GIVEN that the class is **no** or the highest accuracy. In this case we select one of two possible attribute=values, let's select *outlook=rainy* has the highest accuracy from the initial list.\n",
    "<br>\n",
    "<br>\n",
    "$Coverage(\\text{outlook=rainy}) = 5$\n",
    "<br>\n",
    "<br>\n",
    "$Accuracy(\\text{outlook=rainy | play=no}) = 2/5 = 0.40$\n",
    "<br>\n",
    "<br>\n",
    "We can see that the accuracy is not very high so we refine some more."
   ]
  },
  {
   "cell_type": "markdown",
   "metadata": {},
   "source": [
    "#### Step #5\n",
    "\n",
    "We add a new test to the rule to increase the accuracy.\n",
    "\n",
    "**Current State**\n",
    "\n",
    "```\n",
    "IF (outlook=rainy) AND (?) THEN no\n",
    "```\n",
    "\n",
    "**Possible Test/Conditions**\n",
    "\n",
    "```\n",
    "outlook=rainy AND temperature=hot  0/0\n",
    "outlook=rainy AND temperature=mild 1/3\n",
    "outlook=rainy AND temperature=cold 1/2\n",
    "outlook=rainy AND humidity=normal  1/3\n",
    "outlook=rainy AND windy=FALSE      0/3\n",
    "outlook=rainy AND windy=TRUE       2/2  => HIGHEST ACCURACY\n",
    "```\n",
    "\n",
    "Again we select the test with the highest accuracy and add it to the rule. In this case we select *windy=TRUE*.\n",
    "<br>\n",
    "<br>\n",
    "$Coverage(\\text{outlook=rainy AND windy=TRUE}) = 2$\n",
    "<br>\n",
    "<br>\n",
    "$Accuracy(\\text{outlook=rainy AND windy=TRUE | play=no}) = 2/2 = 1$\n",
    "<br>\n",
    "<br>\n",
    "We've reached an accuracy of 1.0. So we stop here, because the rule is already refined to the maximum.\n",
    "\n",
    "#### Rule #2 is\n",
    "\n",
    "```\n",
    "IF (outlook=rainy) AND (windy=true) THEN no\n",
    "```"
   ]
  },
  {
   "cell_type": "markdown",
   "metadata": {},
   "source": [
    "#### Final solution\n",
    "\n",
    "```\n",
    "IF (humidity=high) AND (outlook=sunny) THEN no\n",
    "IF (outlook=rainy) AND (windy=true) THEN no\n",
    "...\n",
    "```"
   ]
  },
  {
   "cell_type": "markdown",
   "metadata": {},
   "source": [
    "The dataset will look like this after we exclude records that are covered by both rules. We need to keep creating rules until we have rules that cover all instances. And after that we need to create a *default* rule or *catch all* rule for instances that can't be covered by our rule set."
   ]
  },
  {
   "cell_type": "code",
   "execution_count": null,
   "metadata": {
    "jupyter": {
     "source_hidden": true
    }
   },
   "outputs": [],
   "source": [
    "final_df = new_df.loc[(new_df['outlook'] != 'rainy') | (new_df['windy'] != 'TRUE')]\n",
    "final_df"
   ]
  },
  {
   "cell_type": "markdown",
   "metadata": {},
   "source": [
    "#### Observation\n",
    "With the two rules that we previously created, we covered all instances of class **no**."
   ]
  }
 ],
 "metadata": {
  "kernelspec": {
   "display_name": "Python 3",
   "language": "python",
   "name": "python3"
  },
  "language_info": {
   "codemirror_mode": {
    "name": "ipython",
    "version": 3
   },
   "file_extension": ".py",
   "mimetype": "text/x-python",
   "name": "python",
   "nbconvert_exporter": "python",
   "pygments_lexer": "ipython3",
   "version": "3.6.6"
  }
 },
 "nbformat": 4,
 "nbformat_minor": 4
}
