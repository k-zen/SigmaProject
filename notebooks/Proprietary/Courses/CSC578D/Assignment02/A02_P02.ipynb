{
 "cells": [
  {
   "cell_type": "markdown",
   "metadata": {},
   "source": [
    "<div style=\"text-align:right\">\n",
    "    <b>Author:</b> Andreas P. Koenzen (akc at apkc.net) / <a href=\"http://www.apkc.net\">www.apkc.net</a>\n",
    "</div>"
   ]
  },
  {
   "cell_type": "markdown",
   "metadata": {},
   "source": [
    "# CSC 578D / Data Mining / Fall 2018 / University of Victoria\n",
    "\n",
    "## Assignment 02 / Problem 02"
   ]
  },
  {
   "cell_type": "markdown",
   "metadata": {},
   "source": [
    "## Imports"
   ]
  },
  {
   "cell_type": "code",
   "execution_count": null,
   "metadata": {
    "jupyter": {
     "source_hidden": true
    }
   },
   "outputs": [],
   "source": [
    "%run '../../../../jupyter_imports.py'"
   ]
  },
  {
   "cell_type": "markdown",
   "metadata": {},
   "source": [
    "## Miscellaneous configuration"
   ]
  },
  {
   "cell_type": "code",
   "execution_count": null,
   "metadata": {
    "jupyter": {
     "source_hidden": true
    }
   },
   "outputs": [],
   "source": [
    "%run '../../../../miscellaneous_config.py'"
   ]
  },
  {
   "cell_type": "markdown",
   "metadata": {},
   "source": [
    "## Environment variables and constants"
   ]
  },
  {
   "cell_type": "code",
   "execution_count": null,
   "metadata": {
    "jupyter": {
     "source_hidden": true
    }
   },
   "outputs": [],
   "source": [
    "%run '../../../../env_variables.py'"
   ]
  },
  {
   "cell_type": "markdown",
   "metadata": {},
   "source": [
    "## Code"
   ]
  },
  {
   "cell_type": "code",
   "execution_count": null,
   "metadata": {
    "jupyter": {
     "source_hidden": true
    }
   },
   "outputs": [],
   "source": [
    "x = np.array([\n",
    "    [1, 1.0, 1.0],\n",
    "    [1, 0.9, 1.0],\n",
    "    [1, 0.9, 0.875],\n",
    "    [1, 0.7, 0.75],\n",
    "    [1, 0.6, 0.875],\n",
    "    [1, 0.6, 0.875],\n",
    "    [1, 0.5, 0.75],\n",
    "    [1, 0.5, 0.8125],\n",
    "    [1, 0.5, 1.0],\n",
    "    [1, 0.5, 0.875],\n",
    "    [1, 0.5, 0.875]\n",
    "])\n",
    "y = np.array([[1, 1, 1, -1, -1, 1, -1, -1, 1, -1, 1]]).T\n",
    "w = np.ones((1, x.shape[1]))"
   ]
  },
  {
   "cell_type": "code",
   "execution_count": null,
   "metadata": {
    "jupyter": {
     "source_hidden": true
    }
   },
   "outputs": [],
   "source": [
    "def error(x, y, w):\n",
    "    return np.log(1 + np.exp(-y * (x @ w.T)))\n",
    "\n",
    "def error_mean(x, y, w):\n",
    "    return np.asscalar(((1 / len(x)) * np.sum(\n",
    "        error(x, y, w), \n",
    "        axis=0, \n",
    "        keepdims=True)).ravel())\n",
    "\n",
    "print(error_mean(x, y, w))"
   ]
  },
  {
   "cell_type": "code",
   "execution_count": null,
   "metadata": {
    "jupyter": {
     "source_hidden": true
    }
   },
   "outputs": [],
   "source": [
    "def grad(x, y, w):\n",
    "    return (y * x) / (1 + np.exp(y * (x @ w.T)))\n",
    "\n",
    "def grad_mean(x, y, w):\n",
    "    return ((-1 / len(x)) * np.sum(\n",
    "        grad(x, y, w), \n",
    "        axis=0, \n",
    "        keepdims=True)).ravel()\n",
    "\n",
    "print(grad_mean(x, y, w))"
   ]
  },
  {
   "cell_type": "code",
   "execution_count": null,
   "metadata": {
    "jupyter": {
     "source_hidden": true
    }
   },
   "outputs": [],
   "source": [
    "def fit(x, y, kappa, iterations):\n",
    "    w = np.zeros((1, x.shape[1]))\n",
    "    e = []\n",
    "\n",
    "    for k in range(iterations):\n",
    "        e.append(error_mean(x, y, w))\n",
    "        w = w - (kappa * grad_mean(x, y, w))\n",
    "    \n",
    "    return w, e\n",
    "\n",
    "w, e = fit(x, y, 1, 100)\n",
    "print(w)\n",
    "\n",
    "_ = plt.plot(e)\n",
    "plt.show()"
   ]
  }
 ],
 "metadata": {
  "kernelspec": {
   "display_name": "Python 3",
   "language": "python",
   "name": "python3"
  },
  "language_info": {
   "codemirror_mode": {
    "name": "ipython",
    "version": 3
   },
   "file_extension": ".py",
   "mimetype": "text/x-python",
   "name": "python",
   "nbconvert_exporter": "python",
   "pygments_lexer": "ipython3",
   "version": "3.6.6"
  }
 },
 "nbformat": 4,
 "nbformat_minor": 4
}
