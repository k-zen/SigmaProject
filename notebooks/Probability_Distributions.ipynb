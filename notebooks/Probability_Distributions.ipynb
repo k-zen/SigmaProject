{
 "cells": [
  {
   "cell_type": "markdown",
   "metadata": {},
   "source": [
    "# Probability Distributions\n",
    "\n",
    "**Links:**\n",
    "1. __[Plotting Distributions with matplotlib and scipy](https://emredjan.github.io/blog/2017/07/19/plotting-distributions/)__"
   ]
  },
  {
   "cell_type": "code",
   "execution_count": null,
   "metadata": {},
   "outputs": [],
   "source": [
    "import matplotlib.pyplot as plt\n",
    "import numpy as np\n",
    "import scipy.stats as ss\n",
    "\n",
    "%matplotlib inline"
   ]
  },
  {
   "cell_type": "markdown",
   "metadata": {},
   "source": [
    "## Normal Distribution\n",
    "\n",
    "### PDF:\n",
    "${\\displaystyle f(x\\mid \\mu ,\\sigma ^{2})={\\frac {1}{\\sqrt {2\\pi \\sigma ^{2}}}}e^{-{\\frac {(x-\\mu )^{2}}{2\\sigma ^{2}}}}}$"
   ]
  },
  {
   "cell_type": "code",
   "execution_count": null,
   "metadata": {},
   "outputs": [],
   "source": [
    "x = np.linspace(-5, 5, 5000)\n",
    "mu = 0 # Mean\n",
    "sigma = 1 # Standard Deviation\n",
    "\n",
    "y_pdf = ss.norm.pdf(x, mu, sigma) # the normal pdf\n",
    "y_cdf = ss.norm.cdf(x, mu, sigma) # the normal cdf\n",
    "\n",
    "plt.plot(x, y_pdf, label='pdf')\n",
    "plt.plot(x, y_cdf, label='cdf')\n",
    "plt.legend()"
   ]
  },
  {
   "cell_type": "markdown",
   "metadata": {},
   "source": [
    "## Beta Distribution\n",
    "\n",
    "### PDF:\n",
    "${\\displaystyle f(x, a, b) = \\frac{\\gamma(a+b) x^{a-1} (1-x)^{b-1}}{\\gamma(a) \\gamma(b)}}$\n",
    "\n",
    "### Links:\n",
    "1. __[Applications of Beta Distribution](https://math.stackexchange.com/questions/2398634/applications-of-beta-distribution)__"
   ]
  },
  {
   "cell_type": "code",
   "execution_count": null,
   "metadata": {},
   "outputs": [],
   "source": [
    "fig, ax = plt.subplots(1, 1)\n",
    "\n",
    "# plot density curve\n",
    "a, b = 221.0, 80.0\n",
    "x = np.linspace(ss.beta.ppf(0.01, a, b), ss.beta.ppf(0.99, a, b), 5000)\n",
    "plt.plot(x, ss.beta.pdf(x, a, b), label='pdf')\n",
    "\n",
    "# plot cdf\n",
    "cdf = plt.subplots(1, 1)\n",
    "new_x = np.linspace(0, 1, 5000)\n",
    "plt.plot(new_x, ss.beta.cdf(new_x, a, b), label='cdf')\n",
    "\n",
    "# generate histogram and compare\n",
    "r = ss.beta.rvs(a, b, size=5000)\n",
    "ax.hist(r, density=True, histtype='stepfilled', alpha=0.2)\n",
    "ax.legend(loc='best', frameon=False)\n",
    "\n",
    "plt.legend()"
   ]
  }
 ],
 "metadata": {
  "kernelspec": {
   "display_name": "Python 3",
   "language": "python",
   "name": "python3"
  },
  "language_info": {
   "codemirror_mode": {
    "name": "ipython",
    "version": 3
   },
   "file_extension": ".py",
   "mimetype": "text/x-python",
   "name": "python",
   "nbconvert_exporter": "python",
   "pygments_lexer": "ipython3",
   "version": "3.6.6"
  }
 },
 "nbformat": 4,
 "nbformat_minor": 2
}
