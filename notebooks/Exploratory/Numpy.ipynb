{
 "cells": [
  {
   "cell_type": "markdown",
   "metadata": {},
   "source": [
    "# Notebook for testing the NumPy library:\n",
    "**Author:** Andreas P. Koenzen"
   ]
  },
  {
   "cell_type": "code",
   "execution_count": 2,
   "metadata": {},
   "outputs": [],
   "source": [
    "import numpy as np\n",
    "\n",
    "from IPython.core.interactiveshell import InteractiveShell\n",
    "InteractiveShell.ast_node_interactivity = \"all\""
   ]
  },
  {
   "cell_type": "markdown",
   "metadata": {},
   "source": [
    "## Array Slicing and Reshaping"
   ]
  },
  {
   "cell_type": "markdown",
   "metadata": {},
   "source": [
    "### Reshape function"
   ]
  },
  {
   "cell_type": "code",
   "execution_count": 3,
   "metadata": {},
   "outputs": [
    {
     "data": {
      "text/plain": [
       "array([[[ 1,  2],\n",
       "        [ 3,  4]],\n",
       "\n",
       "       [[ 5,  6],\n",
       "        [ 7,  8]],\n",
       "\n",
       "       [[ 9, 10],\n",
       "        [11, 12]],\n",
       "\n",
       "       [[13, 14],\n",
       "        [15, 16]],\n",
       "\n",
       "       [[17, 18],\n",
       "        [19, 20]]])"
      ]
     },
     "execution_count": 3,
     "metadata": {},
     "output_type": "execute_result"
    }
   ],
   "source": [
    "a = np.arange(1, 21)\n",
    "np.reshape(a, (-1, 2, 2)) # In this case -1 equals an UNKNOWN DIMENSION, which means that it will infer that the necessary value is *5*."
   ]
  },
  {
   "cell_type": "markdown",
   "metadata": {},
   "source": [
    "### newaxis\n",
    "Adds another dimension to some array. 1D => 2D, 2D => 3D, etc."
   ]
  },
  {
   "cell_type": "code",
   "execution_count": 4,
   "metadata": {},
   "outputs": [
    {
     "data": {
      "text/plain": [
       "array([1, 2, 3])"
      ]
     },
     "execution_count": 4,
     "metadata": {},
     "output_type": "execute_result"
    },
    {
     "data": {
      "text/plain": [
       "(3,)"
      ]
     },
     "execution_count": 4,
     "metadata": {},
     "output_type": "execute_result"
    },
    {
     "data": {
      "text/plain": [
       "array([[1, 2, 3]])"
      ]
     },
     "execution_count": 4,
     "metadata": {},
     "output_type": "execute_result"
    },
    {
     "data": {
      "text/plain": [
       "(1, 3)"
      ]
     },
     "execution_count": 4,
     "metadata": {},
     "output_type": "execute_result"
    },
    {
     "data": {
      "text/plain": [
       "NoneType"
      ]
     },
     "execution_count": 4,
     "metadata": {},
     "output_type": "execute_result"
    }
   ],
   "source": [
    "a = np.arange(1, 4)\n",
    "a\n",
    "a.shape\n",
    "\n",
    "# this is the same as add one dimension as rows \n",
    "# of the same length as columns in a or no columns \n",
    "# for a.\n",
    "a = a[np.newaxis, :]\n",
    "a\n",
    "a.shape\n",
    "\n",
    "# the property newaxis is just a None object, so we \n",
    "# can pass None as a subscript to our array.\n",
    "type(np.newaxis)"
   ]
  },
  {
   "cell_type": "markdown",
   "metadata": {},
   "source": [
    "### Shapes"
   ]
  },
  {
   "cell_type": "markdown",
   "metadata": {},
   "source": [
    "![3D Array](https://cdncontribute.geeksforgeeks.org/wp-content/uploads/3D-array.jpg)"
   ]
  },
  {
   "cell_type": "code",
   "execution_count": 5,
   "metadata": {},
   "outputs": [
    {
     "data": {
      "text/plain": [
       "array([[[0., 0., 0., 0., 0.],\n",
       "        [0., 0., 0., 0., 0.],\n",
       "        [0., 0., 0., 0., 0.],\n",
       "        [0., 0., 0., 0., 0.]],\n",
       "\n",
       "       [[0., 0., 0., 0., 0.],\n",
       "        [0., 0., 0., 0., 0.],\n",
       "        [0., 0., 0., 0., 0.],\n",
       "        [0., 0., 0., 0., 0.]],\n",
       "\n",
       "       [[0., 0., 0., 0., 0.],\n",
       "        [0., 0., 0., 0., 0.],\n",
       "        [0., 0., 0., 0., 0.],\n",
       "        [0., 0., 0., 0., 0.]]])"
      ]
     },
     "execution_count": 5,
     "metadata": {},
     "output_type": "execute_result"
    }
   ],
   "source": [
    "np.zeros((3, 4, 5)) # This means 3 arrays of 4 rows and 5 columns. In this case\n",
    "                    # the first index is the depth or # of arrays."
   ]
  },
  {
   "cell_type": "markdown",
   "metadata": {},
   "source": [
    "### General Slicing"
   ]
  },
  {
   "cell_type": "code",
   "execution_count": 6,
   "metadata": {},
   "outputs": [
    {
     "data": {
      "text/plain": [
       "array([[1, 2, 3],\n",
       "       [4, 5, 6],\n",
       "       [7, 8, 9]])"
      ]
     },
     "execution_count": 6,
     "metadata": {},
     "output_type": "execute_result"
    },
    {
     "data": {
      "text/plain": [
       "array([[1, 2],\n",
       "       [4, 5],\n",
       "       [7, 8]])"
      ]
     },
     "execution_count": 6,
     "metadata": {},
     "output_type": "execute_result"
    }
   ],
   "source": [
    "# All elements except the last. The same as arr[0:-1:1]\n",
    "arr = np.arange(1, 10).reshape((3, 3))\n",
    "arr\n",
    "arr[:, 0:2]"
   ]
  },
  {
   "cell_type": "markdown",
   "metadata": {},
   "source": [
    "## Referencing / Indexing"
   ]
  },
  {
   "cell_type": "code",
   "execution_count": 7,
   "metadata": {},
   "outputs": [],
   "source": [
    "# TODO: Implement using a Matrix as a subscript."
   ]
  },
  {
   "cell_type": "code",
   "execution_count": 15,
   "metadata": {},
   "outputs": [
    {
     "data": {
      "text/plain": [
       "array([ 1,  2,  3,  4,  5,  6,  7,  8,  9, 10])"
      ]
     },
     "execution_count": 15,
     "metadata": {},
     "output_type": "execute_result"
    },
    {
     "data": {
      "text/plain": [
       "10"
      ]
     },
     "execution_count": 15,
     "metadata": {},
     "output_type": "execute_result"
    }
   ],
   "source": [
    "# Last element.\n",
    "arr = np.arange(1, 11)\n",
    "arr\n",
    "\n",
    "arr[-1]"
   ]
  },
  {
   "cell_type": "code",
   "execution_count": 16,
   "metadata": {},
   "outputs": [
    {
     "data": {
      "text/plain": [
       "array([ 1,  2,  3,  4,  5,  6,  7,  8,  9, 10])"
      ]
     },
     "execution_count": 16,
     "metadata": {},
     "output_type": "execute_result"
    },
    {
     "data": {
      "text/plain": [
       "array([ 9, 10])"
      ]
     },
     "execution_count": 16,
     "metadata": {},
     "output_type": "execute_result"
    }
   ],
   "source": [
    "# General:\n",
    "arr = np.arange(1, 11)\n",
    "arr\n",
    "\n",
    "arr[-2:] # returns the 2 last elements as array elements, NOT as scalars! \"See colon at the end\"."
   ]
  },
  {
   "cell_type": "code",
   "execution_count": 28,
   "metadata": {},
   "outputs": [
    {
     "data": {
      "text/plain": [
       "array([[[0.94391433, 0.58801962, 0.81721957, ..., 0.93888646,\n",
       "         0.02994794, 0.59267003],\n",
       "        [0.37464437, 0.57823463, 0.04101374, ..., 0.75804052,\n",
       "         0.37758275, 0.38889388],\n",
       "        [0.49657446, 0.43742256, 0.58838159, ..., 0.08868189,\n",
       "         0.27151341, 0.08210867],\n",
       "        ...,\n",
       "        [0.99854983, 0.5268921 , 0.83947808, ..., 0.84350112,\n",
       "         0.92979956, 0.45589897],\n",
       "        [0.7980296 , 0.13261052, 0.04263041, ..., 0.63037254,\n",
       "         0.81862111, 0.17929328],\n",
       "        [0.14368469, 0.06936903, 0.29741151, ..., 0.97296993,\n",
       "         0.30247203, 0.40547464]],\n",
       "\n",
       "       [[0.65590061, 0.54274418, 0.91559164, ..., 0.20884171,\n",
       "         0.7337434 , 0.6184312 ],\n",
       "        [0.23478035, 0.36533527, 0.90251135, ..., 0.45493893,\n",
       "         0.47480185, 0.92491891],\n",
       "        [0.16651373, 0.60826128, 0.6789083 , ..., 0.06103033,\n",
       "         0.71052859, 0.23383429],\n",
       "        ...,\n",
       "        [0.62974537, 0.0167975 , 0.48634128, ..., 0.0512628 ,\n",
       "         0.12630745, 0.80130078],\n",
       "        [0.12017831, 0.08108121, 0.10101314, ..., 0.9506388 ,\n",
       "         0.07580941, 0.53674599],\n",
       "        [0.365534  , 0.67980859, 0.00412097, ..., 0.00589565,\n",
       "         0.57899708, 0.15209439]],\n",
       "\n",
       "       [[0.96251208, 0.3035881 , 0.42204713, ..., 0.92615794,\n",
       "         0.30259673, 0.50703855],\n",
       "        [0.61468011, 0.90441256, 0.58517044, ..., 0.41605524,\n",
       "         0.96839549, 0.82415514],\n",
       "        [0.74533692, 0.13398115, 0.86825296, ..., 0.64528812,\n",
       "         0.18818705, 0.61407077],\n",
       "        ...,\n",
       "        [0.78573323, 0.22376295, 0.91638327, ..., 0.96539931,\n",
       "         0.62530769, 0.92447482],\n",
       "        [0.30783645, 0.78233706, 0.60846492, ..., 0.71715713,\n",
       "         0.36065255, 0.2421954 ],\n",
       "        [0.09844636, 0.58645466, 0.96058735, ..., 0.97432154,\n",
       "         0.44334458, 0.15002025]]])"
      ]
     },
     "execution_count": 28,
     "metadata": {},
     "output_type": "execute_result"
    },
    {
     "data": {
      "text/plain": [
       "(32, 32)"
      ]
     },
     "execution_count": 28,
     "metadata": {},
     "output_type": "execute_result"
    }
   ],
   "source": [
    "# Element access in a 3D array.\n",
    "# 3D array = Depth, Rows, Columns\n",
    "arr = np.random.random((3, 32, 32))\n",
    "arr\n",
    "\n",
    "arr.shape[1:]"
   ]
  },
  {
   "cell_type": "code",
   "execution_count": 18,
   "metadata": {},
   "outputs": [
    {
     "data": {
      "text/plain": [
       "3"
      ]
     },
     "execution_count": 18,
     "metadata": {},
     "output_type": "execute_result"
    }
   ],
   "source": [
    "# Size along a given axis.\n",
    "arr = np.random.random((32, 32, 3))\n",
    "np.size(arr, axis=2)"
   ]
  },
  {
   "cell_type": "code",
   "execution_count": 10,
   "metadata": {},
   "outputs": [
    {
     "data": {
      "text/plain": [
       "array([[[0.24800023, 0.33695557, 0.03353062, 0.58066617, 0.56607221],\n",
       "        [0.17514119, 0.98660121, 0.4662178 , 0.81134032, 0.22050955],\n",
       "        [0.71610125, 0.56825938, 0.51970461, 0.13970381, 0.29865019],\n",
       "        [0.84912277, 0.42845382, 0.22731047, 0.23505944, 0.0809489 ]],\n",
       "\n",
       "       [[0.2518992 , 0.32564831, 0.02008145, 0.23930571, 0.78363088],\n",
       "        [0.32248647, 0.74212245, 0.43295834, 0.43518467, 0.92505258],\n",
       "        [0.57133114, 0.24942302, 0.48371198, 0.93649213, 0.06559413],\n",
       "        [0.29230551, 0.02015594, 0.11161171, 0.8038262 , 0.7533139 ]],\n",
       "\n",
       "       [[0.71030602, 0.75958571, 0.46214534, 0.67682797, 0.95620418],\n",
       "        [0.29000913, 0.19852795, 0.04688894, 0.40202996, 0.40702669],\n",
       "        [0.91918977, 0.40004272, 0.29331841, 0.52401499, 0.36936105],\n",
       "        [0.53993757, 0.23742997, 0.14061324, 0.39994457, 0.5333171 ]]])"
      ]
     },
     "execution_count": 10,
     "metadata": {},
     "output_type": "execute_result"
    },
    {
     "data": {
      "text/plain": [
       "array([[0.24800023, 0.33695557, 0.03353062, 0.58066617, 0.56607221],\n",
       "       [0.17514119, 0.98660121, 0.4662178 , 0.81134032, 0.22050955],\n",
       "       [0.71610125, 0.56825938, 0.51970461, 0.13970381, 0.29865019],\n",
       "       [0.84912277, 0.42845382, 0.22731047, 0.23505944, 0.0809489 ]])"
      ]
     },
     "execution_count": 10,
     "metadata": {},
     "output_type": "execute_result"
    },
    {
     "data": {
      "text/plain": [
       "0.46621779851132317"
      ]
     },
     "execution_count": 10,
     "metadata": {},
     "output_type": "execute_result"
    },
    {
     "data": {
      "text/plain": [
       "array([[0.2518992 , 0.32564831, 0.02008145, 0.23930571, 0.78363088],\n",
       "       [0.32248647, 0.74212245, 0.43295834, 0.43518467, 0.92505258],\n",
       "       [0.57133114, 0.24942302, 0.48371198, 0.93649213, 0.06559413],\n",
       "       [0.29230551, 0.02015594, 0.11161171, 0.8038262 , 0.7533139 ]])"
      ]
     },
     "execution_count": 10,
     "metadata": {},
     "output_type": "execute_result"
    },
    {
     "data": {
      "text/plain": [
       "0.43295833521312566"
      ]
     },
     "execution_count": 10,
     "metadata": {},
     "output_type": "execute_result"
    },
    {
     "data": {
      "text/plain": [
       "array([[0.71030602, 0.75958571, 0.46214534, 0.67682797, 0.95620418],\n",
       "       [0.29000913, 0.19852795, 0.04688894, 0.40202996, 0.40702669],\n",
       "       [0.91918977, 0.40004272, 0.29331841, 0.52401499, 0.36936105],\n",
       "       [0.53993757, 0.23742997, 0.14061324, 0.39994457, 0.5333171 ]])"
      ]
     },
     "execution_count": 10,
     "metadata": {},
     "output_type": "execute_result"
    },
    {
     "data": {
      "text/plain": [
       "0.04688894167780444"
      ]
     },
     "execution_count": 10,
     "metadata": {},
     "output_type": "execute_result"
    }
   ],
   "source": [
    "# For loops.\n",
    "arr = np.random.random((3, 4, 5)) # 3D array = Depth, Rows, Columns\n",
    "arr\n",
    "for i in range(0, np.size(arr, axis=0)): # Get the depth. Iterates through the depth.\n",
    "    arr[i] # New array with one less dimension than the original.\n",
    "    \n",
    "    # Example: Get the element in the 2 row and 3 column of each depth/level.\n",
    "    arr[i][1][2]"
   ]
  },
  {
   "cell_type": "code",
   "execution_count": 11,
   "metadata": {},
   "outputs": [
    {
     "data": {
      "text/plain": [
       "(10000, 10)"
      ]
     },
     "execution_count": 11,
     "metadata": {},
     "output_type": "execute_result"
    },
    {
     "data": {
      "text/plain": [
       "(40000, 10)"
      ]
     },
     "execution_count": 11,
     "metadata": {},
     "output_type": "execute_result"
    },
    {
     "name": "stdout",
     "output_type": "stream",
     "text": [
      "======\n"
     ]
    },
    {
     "data": {
      "text/plain": [
       "(10000, 10)"
      ]
     },
     "execution_count": 11,
     "metadata": {},
     "output_type": "execute_result"
    },
    {
     "data": {
      "text/plain": [
       "(40000, 10)"
      ]
     },
     "execution_count": 11,
     "metadata": {},
     "output_type": "execute_result"
    },
    {
     "name": "stdout",
     "output_type": "stream",
     "text": [
      "======\n"
     ]
    },
    {
     "data": {
      "text/plain": [
       "(10000, 10)"
      ]
     },
     "execution_count": 11,
     "metadata": {},
     "output_type": "execute_result"
    },
    {
     "data": {
      "text/plain": [
       "(40000, 10)"
      ]
     },
     "execution_count": 11,
     "metadata": {},
     "output_type": "execute_result"
    },
    {
     "name": "stdout",
     "output_type": "stream",
     "text": [
      "======\n"
     ]
    },
    {
     "data": {
      "text/plain": [
       "(10000, 10)"
      ]
     },
     "execution_count": 11,
     "metadata": {},
     "output_type": "execute_result"
    },
    {
     "data": {
      "text/plain": [
       "(40000, 10)"
      ]
     },
     "execution_count": 11,
     "metadata": {},
     "output_type": "execute_result"
    },
    {
     "name": "stdout",
     "output_type": "stream",
     "text": [
      "======\n"
     ]
    },
    {
     "data": {
      "text/plain": [
       "(10000, 10)"
      ]
     },
     "execution_count": 11,
     "metadata": {},
     "output_type": "execute_result"
    },
    {
     "data": {
      "text/plain": [
       "(40000, 10)"
      ]
     },
     "execution_count": 11,
     "metadata": {},
     "output_type": "execute_result"
    },
    {
     "name": "stdout",
     "output_type": "stream",
     "text": [
      "======\n"
     ]
    }
   ],
   "source": [
    "# Unequal slicing, like for Cross-Validating using k-Fold.\n",
    "# What I need is to:\n",
    "#\n",
    "# Full dataset:\n",
    "# |--------------------------|\n",
    "# |--------------------------|\n",
    "#\n",
    "#   1-Fold:\n",
    "#   |---|---------------------|\n",
    "#   |---|---------------------|\n",
    "#\n",
    "#   ...\n",
    "#\n",
    "#   k-Fold:\n",
    "#   |---------------------|---|\n",
    "#   |---------------------|---|\n",
    "arr = np.arange(0, 500000).reshape((50000, 10))\n",
    "\n",
    "chunks = 5\n",
    "for k in range(chunks):\n",
    "    chunk_size = int(arr.shape[0] / chunks) # Move out of loop to avoid extra computation.\n",
    "    indices = range(k * chunk_size, (k + 1) * chunk_size)\n",
    "    fold = arr[indices]\n",
    "    rest = np.delete(arr, indices, 0)\n",
    "    \n",
    "    fold.shape\n",
    "    rest.shape\n",
    "    \n",
    "    print('======')"
   ]
  },
  {
   "cell_type": "markdown",
   "metadata": {},
   "source": [
    "## Fancy Indexing"
   ]
  },
  {
   "cell_type": "code",
   "execution_count": 16,
   "metadata": {},
   "outputs": [
    {
     "data": {
      "text/plain": [
       "array([[[ 0,  1,  2],\n",
       "        [ 3,  0,  5],\n",
       "        [ 6,  7,  8]],\n",
       "\n",
       "       [[ 9, 10, 11],\n",
       "        [12, 13, 14],\n",
       "        [15, 16, 17]],\n",
       "\n",
       "       [[18, 19, 20],\n",
       "        [21, 22, 23],\n",
       "        [24, 25, 26]]])"
      ]
     },
     "execution_count": 16,
     "metadata": {},
     "output_type": "execute_result"
    }
   ],
   "source": [
    "arr = np.arange(0, 27).reshape((3, 3, 3))\n",
    "# arr\n",
    "\n",
    "# REMEMBER: 3D array = Depth, Rows, Columns\n",
    "arr[0, 1, 1] = np.arange(0, 1) # We are passing a sequence to replace certain elements at certain\n",
    "arr                            # indexes. BUT they need to match: HOW MANY ELEMENTS TO SEQUENCE!!"
   ]
  },
  {
   "cell_type": "code",
   "execution_count": 23,
   "metadata": {},
   "outputs": [
    {
     "data": {
      "text/plain": [
       "array([[0, 1, 2, 3, 1],\n",
       "       [5, 6, 7, 8, 1]])"
      ]
     },
     "execution_count": 23,
     "metadata": {},
     "output_type": "execute_result"
    },
    {
     "data": {
      "text/plain": [
       "array([[10, 11, 12, 13, 14],\n",
       "       [15, 16, 17, 18, 19]])"
      ]
     },
     "execution_count": 23,
     "metadata": {},
     "output_type": "execute_result"
    },
    {
     "data": {
      "text/plain": [
       "array([[0., 0., 0., 0., 0.],\n",
       "       [0., 0., 0., 0., 0.]])"
      ]
     },
     "execution_count": 23,
     "metadata": {},
     "output_type": "execute_result"
    }
   ],
   "source": [
    "A = np.arange(10).reshape((2, 5))\n",
    "B = np.arange(10, 20).reshape((2, 5))\n",
    "C = np.zeros(10).reshape((2, 5))\n",
    "\n",
    "A[np.arange(A.shape[0]), np.array([4, 4])] = C[np.arange(A.shape[0]), np.array([4, 4])] == 0\n",
    "\n",
    "A\n",
    "B\n",
    "C"
   ]
  },
  {
   "cell_type": "markdown",
   "metadata": {},
   "source": [
    "## Operations"
   ]
  },
  {
   "cell_type": "code",
   "execution_count": 19,
   "metadata": {},
   "outputs": [
    {
     "data": {
      "text/plain": [
       "array([[0, 1, 2],\n",
       "       [3, 4, 5],\n",
       "       [6, 7, 8]])"
      ]
     },
     "execution_count": 19,
     "metadata": {},
     "output_type": "execute_result"
    },
    {
     "data": {
      "text/plain": [
       "array([[0.        , 0.11111111, 0.22222222],\n",
       "       [0.33333333, 0.44444444, 0.55555556],\n",
       "       [0.66666667, 0.77777778, 0.88888889]])"
      ]
     },
     "execution_count": 19,
     "metadata": {},
     "output_type": "execute_result"
    }
   ],
   "source": [
    "arr = np.arange(0, 9).reshape((3, 3))\n",
    "arr\n",
    "\n",
    "arr / 9"
   ]
  },
  {
   "cell_type": "code",
   "execution_count": 23,
   "metadata": {},
   "outputs": [
    {
     "data": {
      "text/plain": [
       "array([[0, 1, 2],\n",
       "       [3, 4, 5],\n",
       "       [6, 7, 8]])"
      ]
     },
     "execution_count": 23,
     "metadata": {},
     "output_type": "execute_result"
    },
    {
     "data": {
      "text/plain": [
       "array([1., 4., 7.])"
      ]
     },
     "execution_count": 23,
     "metadata": {},
     "output_type": "execute_result"
    }
   ],
   "source": [
    "# Functions:\n",
    "arr = np.arange(0, 9).reshape((3, 3))\n",
    "arr\n",
    "\n",
    "## Mean:\n",
    "np.mean(arr, axis=1)"
   ]
  },
  {
   "cell_type": "markdown",
   "metadata": {},
   "source": [
    "## Casting"
   ]
  },
  {
   "cell_type": "code",
   "execution_count": null,
   "metadata": {},
   "outputs": [],
   "source": [
    "# Pass a Python list as an argument to np.mean.\n",
    "# If axis=None it will compute the mean as a flattened array, if axis=0 it will compute the mean\n",
    "# along the row axis and so on.\n",
    "np.mean([1, 2, 3, 4, 5, 6], axis=None)\n",
    "\n",
    "(np.ones((10, 4)) == np.arange(4)).shape"
   ]
  }
 ],
 "metadata": {
  "kernelspec": {
   "display_name": "Python 3",
   "language": "python",
   "name": "python3"
  },
  "language_info": {
   "codemirror_mode": {
    "name": "ipython",
    "version": 3
   },
   "file_extension": ".py",
   "mimetype": "text/x-python",
   "name": "python",
   "nbconvert_exporter": "python",
   "pygments_lexer": "ipython3",
   "version": "3.6.6"
  }
 },
 "nbformat": 4,
 "nbformat_minor": 2
}
